{
  "nbformat": 4,
  "nbformat_minor": 0,
  "metadata": {
    "colab": {
      "provenance": [],
      "toc_visible": true,
      "collapsed_sections": [
        "yuSAx_q-0x6o",
        "iCyKugKV8i7j"
      ],
      "authorship_tag": "ABX9TyMvy5KnwNUGCf8RVd8ZgCGw",
      "include_colab_link": true
    },
    "kernelspec": {
      "name": "python3",
      "display_name": "Python 3"
    },
    "language_info": {
      "name": "python"
    }
  },
  "cells": [
    {
      "cell_type": "markdown",
      "metadata": {
        "id": "view-in-github",
        "colab_type": "text"
      },
      "source": [
        "<a href=\"https://colab.research.google.com/github/zhang-linnng/convex_restriction_transformed/blob/main/(current)0912_mincosts_case123nick.ipynb\" target=\"_parent\"><img src=\"https://colab.research.google.com/assets/colab-badge.svg\" alt=\"Open In Colab\"/></a>"
      ]
    },
    {
      "cell_type": "code",
      "execution_count": 1,
      "metadata": {
        "colab": {
          "base_uri": "https://localhost:8080/"
        },
        "id": "Y4-kNrmhk1lO",
        "outputId": "ecb5aa0e-dda0-4944-f618-707da9a1929c"
      },
      "outputs": [
        {
          "output_type": "stream",
          "name": "stdout",
          "text": [
            "Drive already mounted at /content/gdrive; to attempt to forcibly remount, call drive.mount(\"/content/gdrive\", force_remount=True).\n"
          ]
        }
      ],
      "source": [
        "from google.colab import drive\n",
        "drive.mount('/content/gdrive')"
      ]
    },
    {
      "cell_type": "code",
      "source": [
        "!apt-get install -y -qq glpk-utils\n",
        "!apt-get install -y -qq libglpk-dev\n",
        "!pip install cvxpy"
      ],
      "metadata": {
        "colab": {
          "base_uri": "https://localhost:8080/"
        },
        "id": "O5dQWj9m0oR-",
        "outputId": "f31103e3-d693-4a42-f14a-4be3d1c00db8"
      },
      "execution_count": 2,
      "outputs": [
        {
          "output_type": "stream",
          "name": "stdout",
          "text": [
            "Requirement already satisfied: cvxpy in /usr/local/lib/python3.10/dist-packages (1.3.2)\n",
            "Requirement already satisfied: osqp>=0.4.1 in /usr/local/lib/python3.10/dist-packages (from cvxpy) (0.6.2.post8)\n",
            "Requirement already satisfied: ecos>=2 in /usr/local/lib/python3.10/dist-packages (from cvxpy) (2.0.12)\n",
            "Requirement already satisfied: scs>=1.1.6 in /usr/local/lib/python3.10/dist-packages (from cvxpy) (3.2.3)\n",
            "Requirement already satisfied: numpy>=1.15 in /usr/local/lib/python3.10/dist-packages (from cvxpy) (1.23.5)\n",
            "Requirement already satisfied: scipy>=1.1.0 in /usr/local/lib/python3.10/dist-packages (from cvxpy) (1.11.2)\n",
            "Requirement already satisfied: setuptools>65.5.1 in /usr/local/lib/python3.10/dist-packages (from cvxpy) (67.7.2)\n",
            "Requirement already satisfied: qdldl in /usr/local/lib/python3.10/dist-packages (from osqp>=0.4.1->cvxpy) (0.1.7.post0)\n"
          ]
        }
      ]
    },
    {
      "cell_type": "code",
      "source": [
        "!pip install pypower"
      ],
      "metadata": {
        "id": "qOB8ApkG6bxZ",
        "colab": {
          "base_uri": "https://localhost:8080/"
        },
        "outputId": "23305e13-6009-406d-d117-1c6b4e047c23"
      },
      "execution_count": 3,
      "outputs": [
        {
          "output_type": "stream",
          "name": "stdout",
          "text": [
            "Requirement already satisfied: pypower in /usr/local/lib/python3.10/dist-packages (5.1.16)\n"
          ]
        }
      ]
    },
    {
      "cell_type": "code",
      "source": [
        "%%capture\n",
        "import sys\n",
        "import os\n",
        "\n",
        "if 'google.colab' in sys.modules:\n",
        "    !pip install idaes-pse --pre\n",
        "    !idaes get-extensions --to ./bin\n",
        "    os.environ['PATH'] += ':bin'"
      ],
      "metadata": {
        "id": "tbWZiCixgBM1"
      },
      "execution_count": 4,
      "outputs": []
    },
    {
      "cell_type": "code",
      "source": [
        "!ipopt --version"
      ],
      "metadata": {
        "id": "16-7CJbHgDzR",
        "colab": {
          "base_uri": "https://localhost:8080/"
        },
        "outputId": "15d061b0-76e9-408f-a11f-a1a53acea9dd"
      },
      "execution_count": 5,
      "outputs": [
        {
          "output_type": "stream",
          "name": "stdout",
          "text": [
            "Ipopt 3.13.2 (x86_64-pc-linux-gnu), ASL(20190605)\n",
            "\n"
          ]
        }
      ]
    },
    {
      "cell_type": "code",
      "source": [
        "!which ipopt"
      ],
      "metadata": {
        "id": "HStGIlR6gEKJ",
        "colab": {
          "base_uri": "https://localhost:8080/"
        },
        "outputId": "a0cee6de-2c81-49e6-802c-f27ffb083f13"
      },
      "execution_count": 6,
      "outputs": [
        {
          "output_type": "stream",
          "name": "stdout",
          "text": [
            "bin/ipopt\n"
          ]
        }
      ]
    },
    {
      "cell_type": "markdown",
      "source": [
        "# Import libraries"
      ],
      "metadata": {
        "id": "ZwcLA9y5KUwd"
      }
    },
    {
      "cell_type": "code",
      "source": [
        "from __future__ import division\n",
        "import os\n",
        "import numpy as np\n",
        "import matplotlib\n",
        "import matplotlib.pyplot as plt\n",
        "%matplotlib inline\n",
        "import csv\n",
        "from mpl_toolkits.mplot3d import Axes3D\n",
        "import random\n",
        "import pandas as pd\n",
        "import math\n",
        "import json\n",
        "import pickle\n",
        "import cmath\n",
        "import sys\n",
        "\n",
        "random.seed(1234321)"
      ],
      "metadata": {
        "id": "E1l0erDXk882"
      },
      "execution_count": 7,
      "outputs": []
    },
    {
      "cell_type": "code",
      "source": [],
      "metadata": {
        "id": "UIUz9riW0nZ-"
      },
      "execution_count": 7,
      "outputs": []
    },
    {
      "cell_type": "code",
      "source": [],
      "metadata": {
        "id": "e5vaPrBQk-n1"
      },
      "execution_count": 7,
      "outputs": []
    },
    {
      "cell_type": "markdown",
      "source": [
        "# Project folder"
      ],
      "metadata": {
        "id": "6fG_YXFSsX4X"
      }
    },
    {
      "cell_type": "code",
      "source": [
        "def create_dir(path):\n",
        "    isExist = os.path.exists(path)\n",
        "\n",
        "    if not isExist:\n",
        "        # Create a new directory if it does not exist\n",
        "        os.makedirs(path)\n",
        "        print(\"The new directory %s is created!\" % (path))"
      ],
      "metadata": {
        "id": "sribmzobsXZE"
      },
      "execution_count": 8,
      "outputs": []
    },
    {
      "cell_type": "code",
      "source": [
        "project_path = \"/content/gdrive/MyDrive/2023Projects/convex_restriction_projection/\"\n",
        "grid_path = project_path + \"grid_case123nick/\"\n",
        "\n",
        "subproject1 = 'minimize_losses/'\n",
        "subproject2 = 'minimize_cost/'\n",
        "subproject3 = 'state_estimation/'\n",
        "our_method_path = 'proposed/'\n",
        "socp_path = 'socp/'"
      ],
      "metadata": {
        "id": "FSdf6MVbsimR"
      },
      "execution_count": 9,
      "outputs": []
    },
    {
      "cell_type": "code",
      "source": [
        "create_dir(project_path)\n",
        "\n",
        "for project in [subproject1, subproject2, subproject3]:\n",
        "    for method in [our_method_path, socp_path]:\n",
        "        create_dir(project_path+project+method)"
      ],
      "metadata": {
        "id": "iWwQtJMGTz8C"
      },
      "execution_count": 10,
      "outputs": []
    },
    {
      "cell_type": "code",
      "source": [],
      "metadata": {
        "id": "BGuMs6brU_Tm"
      },
      "execution_count": 10,
      "outputs": []
    },
    {
      "cell_type": "markdown",
      "source": [
        "# Grid"
      ],
      "metadata": {
        "id": "0XEWwRKKoJmf"
      }
    },
    {
      "cell_type": "code",
      "source": [
        "import scipy.io as sio\n",
        "\n",
        "# mat_contents = sio.loadmat(settings_path + mat_fname)\n",
        "branch_contents = sio.loadmat(grid_path + 'branch_case123nick.mat')\n",
        "bus_contents = sio.loadmat(grid_path + 'bus_case123nick.mat')\n",
        "gen_contents = sio.loadmat(grid_path + 'gen_case123nick.mat')\n",
        "\n",
        "print(branch_contents.keys())\n",
        "print(bus_contents.keys())\n",
        "print(gen_contents.keys())"
      ],
      "metadata": {
        "id": "FeR02osknAgE",
        "colab": {
          "base_uri": "https://localhost:8080/"
        },
        "outputId": "f2fd0eba-16a4-48c7-eeb1-0654a66d08e9"
      },
      "execution_count": 11,
      "outputs": [
        {
          "output_type": "stream",
          "name": "stdout",
          "text": [
            "dict_keys(['__header__', '__version__', '__globals__', 'branch'])\n",
            "dict_keys(['__header__', '__version__', '__globals__', 'bus'])\n",
            "dict_keys(['__header__', '__version__', '__globals__', 'gen'])\n"
          ]
        }
      ]
    },
    {
      "cell_type": "code",
      "source": [
        "## branch data: fbus(0), tbus(1), r(2), x(3), b(4)\n",
        "## bus data: bus(0), type(1), Pd(2), Qd(3), Vmx(11), Vmn(12)\n",
        "## gen data: bus(0), Pg(1), Qg(2), Qmax(3), Qmin(4), Pmax(8), Pmin(9)\n",
        "\n",
        "branch_data = branch_contents['branch']\n",
        "bus_data = bus_contents['bus']\n",
        "gen_data = gen_contents['gen']\n",
        "\n",
        "branch_array = np.concatenate([branch_data[:,0:1], branch_data[:,1:2], branch_data[:,2:3], branch_data[:,3:4], branch_data[:,4:5]], axis=1)\n",
        "branch_df = pd.DataFrame(branch_array, columns = ['fbus','tbus','r','x','b'])\n",
        "branch_df['fbus'] = branch_df['fbus'].apply(lambda x: int(x))\n",
        "branch_df['tbus'] = branch_df['tbus'].apply(lambda x: int(x))\n",
        "\n",
        "bus_array = np.concatenate([bus_data[:,0:1], bus_data[:,1:2], bus_data[:,2:3], bus_data[:,3:4], bus_data[:,11:12], bus_data[:,12:13]], axis=1)\n",
        "bus_df = pd.DataFrame(bus_array, columns = ['bus','type','Pd','Qd','Vmx','Vmn'])\n",
        "bus_df['bus'] = bus_df['bus'].apply(lambda x: int(x))\n",
        "bus_df['type'] = bus_df['type'].apply(lambda x: int(x))\n",
        "\n",
        "gen_array = np.concatenate([gen_data[:,0:1], gen_data[:,1:2], gen_data[:,2:3], gen_data[:,3:4], gen_data[:,4:5], gen_data[:,8:9], gen_data[:,9:10]], axis=1)\n",
        "gen_df = pd.DataFrame(gen_array, columns = ['bus','Pg','Qg','Qmax','Qmin','Pmax','Pmin'])\n",
        "gen_df['bus'] = gen_df['bus'].apply(lambda x: int(x))"
      ],
      "metadata": {
        "id": "uBgIoInF64ix"
      },
      "execution_count": 12,
      "outputs": []
    },
    {
      "cell_type": "code",
      "source": [
        "for m in range(branch_df.shape[0]):\n",
        "    f_end = branch_df.iloc[m, 0]\n",
        "    t_end = branch_df.iloc[m, 1]\n",
        "    if f_end > t_end:\n",
        "        print('f_bus {}, t_bus {}'.format(f_end, t_end))"
      ],
      "metadata": {
        "colab": {
          "base_uri": "https://localhost:8080/"
        },
        "id": "S0RtwygvNBF1",
        "outputId": "14ebd417-4fa1-4e34-beed-58c63da0ec57"
      },
      "execution_count": 13,
      "outputs": [
        {
          "output_type": "stream",
          "name": "stdout",
          "text": [
            "f_bus 14, t_bus 11\n",
            "f_bus 14, t_bus 10\n",
            "f_bus 34, t_bus 15\n",
            "f_bus 113, t_bus 61\n",
            "f_bus 114, t_bus 1\n"
          ]
        }
      ]
    },
    {
      "cell_type": "code",
      "source": [
        "branch_df_copy = branch_df.copy()\n",
        "branch_df_copy = branch_df_copy.sort_values(by=['fbus', 'tbus'], ascending=True)\n",
        "\n",
        "for m in range(branch_df_copy.shape[0]):\n",
        "    f_end = branch_df_copy.iloc[m, 0]\n",
        "    t_end = branch_df_copy.iloc[m, 1]\n",
        "    if f_end > t_end:\n",
        "        print('f_bus {}, t_bus {}'.format(f_end, t_end))"
      ],
      "metadata": {
        "colab": {
          "base_uri": "https://localhost:8080/"
        },
        "id": "yEmDA9uVNYM2",
        "outputId": "84f6cadd-389e-4d58-deed-a61270ff4fdb"
      },
      "execution_count": 14,
      "outputs": [
        {
          "output_type": "stream",
          "name": "stdout",
          "text": [
            "f_bus 14, t_bus 10\n",
            "f_bus 14, t_bus 11\n",
            "f_bus 34, t_bus 15\n",
            "f_bus 113, t_bus 61\n",
            "f_bus 114, t_bus 1\n"
          ]
        }
      ]
    },
    {
      "cell_type": "code",
      "source": [
        "branch_df_copy = branch_df.copy()\n",
        "branch_df_copy = branch_df_copy.sort_values(by=['fbus', 'tbus'], ascending=True)\n",
        "\n",
        "r_ij = branch_df_copy[\"r\"].to_numpy()\n",
        "x_ij = branch_df_copy[\"x\"].to_numpy()\n",
        "g_ij = r_ij/(r_ij**2+x_ij**2)\n",
        "b_ij = x_ij/(r_ij**2+x_ij**2)\n",
        "branch_df_copy[\"conductance(g)\"] = g_ij\n",
        "branch_df_copy[\"susceptance(b)\"] = b_ij\n",
        "branch_df_copy.head()"
      ],
      "metadata": {
        "id": "bHo7QZr7XS4u",
        "colab": {
          "base_uri": "https://localhost:8080/",
          "height": 206
        },
        "outputId": "ea002b36-c595-43ac-e425-b09e389ac67a"
      },
      "execution_count": 15,
      "outputs": [
        {
          "output_type": "execute_result",
          "data": {
            "text/plain": [
              "   fbus  tbus         r         x         b  conductance(g)  susceptance(b)\n",
              "0     1     2  0.002546  0.002581  0.000003      193.723868      196.391040\n",
              "1     1     3  0.003637  0.003687  0.000004      135.606729      137.473712\n",
              "2     1     7  0.001502  0.003539  0.000006      101.623767      239.402135\n",
              "3     3     4  0.002909  0.002949  0.000003      169.508376      171.842151\n",
              "4     3     5  0.004728  0.004793  0.000005      104.312855      105.749003"
            ],
            "text/html": [
              "\n",
              "  <div id=\"df-dfc2eb34-822d-4c8f-bfd9-b5f982804bf5\" class=\"colab-df-container\">\n",
              "    <div>\n",
              "<style scoped>\n",
              "    .dataframe tbody tr th:only-of-type {\n",
              "        vertical-align: middle;\n",
              "    }\n",
              "\n",
              "    .dataframe tbody tr th {\n",
              "        vertical-align: top;\n",
              "    }\n",
              "\n",
              "    .dataframe thead th {\n",
              "        text-align: right;\n",
              "    }\n",
              "</style>\n",
              "<table border=\"1\" class=\"dataframe\">\n",
              "  <thead>\n",
              "    <tr style=\"text-align: right;\">\n",
              "      <th></th>\n",
              "      <th>fbus</th>\n",
              "      <th>tbus</th>\n",
              "      <th>r</th>\n",
              "      <th>x</th>\n",
              "      <th>b</th>\n",
              "      <th>conductance(g)</th>\n",
              "      <th>susceptance(b)</th>\n",
              "    </tr>\n",
              "  </thead>\n",
              "  <tbody>\n",
              "    <tr>\n",
              "      <th>0</th>\n",
              "      <td>1</td>\n",
              "      <td>2</td>\n",
              "      <td>0.002546</td>\n",
              "      <td>0.002581</td>\n",
              "      <td>0.000003</td>\n",
              "      <td>193.723868</td>\n",
              "      <td>196.391040</td>\n",
              "    </tr>\n",
              "    <tr>\n",
              "      <th>1</th>\n",
              "      <td>1</td>\n",
              "      <td>3</td>\n",
              "      <td>0.003637</td>\n",
              "      <td>0.003687</td>\n",
              "      <td>0.000004</td>\n",
              "      <td>135.606729</td>\n",
              "      <td>137.473712</td>\n",
              "    </tr>\n",
              "    <tr>\n",
              "      <th>2</th>\n",
              "      <td>1</td>\n",
              "      <td>7</td>\n",
              "      <td>0.001502</td>\n",
              "      <td>0.003539</td>\n",
              "      <td>0.000006</td>\n",
              "      <td>101.623767</td>\n",
              "      <td>239.402135</td>\n",
              "    </tr>\n",
              "    <tr>\n",
              "      <th>3</th>\n",
              "      <td>3</td>\n",
              "      <td>4</td>\n",
              "      <td>0.002909</td>\n",
              "      <td>0.002949</td>\n",
              "      <td>0.000003</td>\n",
              "      <td>169.508376</td>\n",
              "      <td>171.842151</td>\n",
              "    </tr>\n",
              "    <tr>\n",
              "      <th>4</th>\n",
              "      <td>3</td>\n",
              "      <td>5</td>\n",
              "      <td>0.004728</td>\n",
              "      <td>0.004793</td>\n",
              "      <td>0.000005</td>\n",
              "      <td>104.312855</td>\n",
              "      <td>105.749003</td>\n",
              "    </tr>\n",
              "  </tbody>\n",
              "</table>\n",
              "</div>\n",
              "    <div class=\"colab-df-buttons\">\n",
              "\n",
              "  <div class=\"colab-df-container\">\n",
              "    <button class=\"colab-df-convert\" onclick=\"convertToInteractive('df-dfc2eb34-822d-4c8f-bfd9-b5f982804bf5')\"\n",
              "            title=\"Convert this dataframe to an interactive table.\"\n",
              "            style=\"display:none;\">\n",
              "\n",
              "  <svg xmlns=\"http://www.w3.org/2000/svg\" height=\"24px\" viewBox=\"0 -960 960 960\">\n",
              "    <path d=\"M120-120v-720h720v720H120Zm60-500h600v-160H180v160Zm220 220h160v-160H400v160Zm0 220h160v-160H400v160ZM180-400h160v-160H180v160Zm440 0h160v-160H620v160ZM180-180h160v-160H180v160Zm440 0h160v-160H620v160Z\"/>\n",
              "  </svg>\n",
              "    </button>\n",
              "\n",
              "  <style>\n",
              "    .colab-df-container {\n",
              "      display:flex;\n",
              "      gap: 12px;\n",
              "    }\n",
              "\n",
              "    .colab-df-convert {\n",
              "      background-color: #E8F0FE;\n",
              "      border: none;\n",
              "      border-radius: 50%;\n",
              "      cursor: pointer;\n",
              "      display: none;\n",
              "      fill: #1967D2;\n",
              "      height: 32px;\n",
              "      padding: 0 0 0 0;\n",
              "      width: 32px;\n",
              "    }\n",
              "\n",
              "    .colab-df-convert:hover {\n",
              "      background-color: #E2EBFA;\n",
              "      box-shadow: 0px 1px 2px rgba(60, 64, 67, 0.3), 0px 1px 3px 1px rgba(60, 64, 67, 0.15);\n",
              "      fill: #174EA6;\n",
              "    }\n",
              "\n",
              "    .colab-df-buttons div {\n",
              "      margin-bottom: 4px;\n",
              "    }\n",
              "\n",
              "    [theme=dark] .colab-df-convert {\n",
              "      background-color: #3B4455;\n",
              "      fill: #D2E3FC;\n",
              "    }\n",
              "\n",
              "    [theme=dark] .colab-df-convert:hover {\n",
              "      background-color: #434B5C;\n",
              "      box-shadow: 0px 1px 3px 1px rgba(0, 0, 0, 0.15);\n",
              "      filter: drop-shadow(0px 1px 2px rgba(0, 0, 0, 0.3));\n",
              "      fill: #FFFFFF;\n",
              "    }\n",
              "  </style>\n",
              "\n",
              "    <script>\n",
              "      const buttonEl =\n",
              "        document.querySelector('#df-dfc2eb34-822d-4c8f-bfd9-b5f982804bf5 button.colab-df-convert');\n",
              "      buttonEl.style.display =\n",
              "        google.colab.kernel.accessAllowed ? 'block' : 'none';\n",
              "\n",
              "      async function convertToInteractive(key) {\n",
              "        const element = document.querySelector('#df-dfc2eb34-822d-4c8f-bfd9-b5f982804bf5');\n",
              "        const dataTable =\n",
              "          await google.colab.kernel.invokeFunction('convertToInteractive',\n",
              "                                                    [key], {});\n",
              "        if (!dataTable) return;\n",
              "\n",
              "        const docLinkHtml = 'Like what you see? Visit the ' +\n",
              "          '<a target=\"_blank\" href=https://colab.research.google.com/notebooks/data_table.ipynb>data table notebook</a>'\n",
              "          + ' to learn more about interactive tables.';\n",
              "        element.innerHTML = '';\n",
              "        dataTable['output_type'] = 'display_data';\n",
              "        await google.colab.output.renderOutput(dataTable, element);\n",
              "        const docLink = document.createElement('div');\n",
              "        docLink.innerHTML = docLinkHtml;\n",
              "        element.appendChild(docLink);\n",
              "      }\n",
              "    </script>\n",
              "  </div>\n",
              "\n",
              "\n",
              "<div id=\"df-88dfed62-3fcd-4039-94cc-798d3646ae1e\">\n",
              "  <button class=\"colab-df-quickchart\" onclick=\"quickchart('df-88dfed62-3fcd-4039-94cc-798d3646ae1e')\"\n",
              "            title=\"Suggest charts.\"\n",
              "            style=\"display:none;\">\n",
              "\n",
              "<svg xmlns=\"http://www.w3.org/2000/svg\" height=\"24px\"viewBox=\"0 0 24 24\"\n",
              "     width=\"24px\">\n",
              "    <g>\n",
              "        <path d=\"M19 3H5c-1.1 0-2 .9-2 2v14c0 1.1.9 2 2 2h14c1.1 0 2-.9 2-2V5c0-1.1-.9-2-2-2zM9 17H7v-7h2v7zm4 0h-2V7h2v10zm4 0h-2v-4h2v4z\"/>\n",
              "    </g>\n",
              "</svg>\n",
              "  </button>\n",
              "\n",
              "<style>\n",
              "  .colab-df-quickchart {\n",
              "      --bg-color: #E8F0FE;\n",
              "      --fill-color: #1967D2;\n",
              "      --hover-bg-color: #E2EBFA;\n",
              "      --hover-fill-color: #174EA6;\n",
              "      --disabled-fill-color: #AAA;\n",
              "      --disabled-bg-color: #DDD;\n",
              "  }\n",
              "\n",
              "  [theme=dark] .colab-df-quickchart {\n",
              "      --bg-color: #3B4455;\n",
              "      --fill-color: #D2E3FC;\n",
              "      --hover-bg-color: #434B5C;\n",
              "      --hover-fill-color: #FFFFFF;\n",
              "      --disabled-bg-color: #3B4455;\n",
              "      --disabled-fill-color: #666;\n",
              "  }\n",
              "\n",
              "  .colab-df-quickchart {\n",
              "    background-color: var(--bg-color);\n",
              "    border: none;\n",
              "    border-radius: 50%;\n",
              "    cursor: pointer;\n",
              "    display: none;\n",
              "    fill: var(--fill-color);\n",
              "    height: 32px;\n",
              "    padding: 0;\n",
              "    width: 32px;\n",
              "  }\n",
              "\n",
              "  .colab-df-quickchart:hover {\n",
              "    background-color: var(--hover-bg-color);\n",
              "    box-shadow: 0 1px 2px rgba(60, 64, 67, 0.3), 0 1px 3px 1px rgba(60, 64, 67, 0.15);\n",
              "    fill: var(--button-hover-fill-color);\n",
              "  }\n",
              "\n",
              "  .colab-df-quickchart-complete:disabled,\n",
              "  .colab-df-quickchart-complete:disabled:hover {\n",
              "    background-color: var(--disabled-bg-color);\n",
              "    fill: var(--disabled-fill-color);\n",
              "    box-shadow: none;\n",
              "  }\n",
              "\n",
              "  .colab-df-spinner {\n",
              "    border: 2px solid var(--fill-color);\n",
              "    border-color: transparent;\n",
              "    border-bottom-color: var(--fill-color);\n",
              "    animation:\n",
              "      spin 1s steps(1) infinite;\n",
              "  }\n",
              "\n",
              "  @keyframes spin {\n",
              "    0% {\n",
              "      border-color: transparent;\n",
              "      border-bottom-color: var(--fill-color);\n",
              "      border-left-color: var(--fill-color);\n",
              "    }\n",
              "    20% {\n",
              "      border-color: transparent;\n",
              "      border-left-color: var(--fill-color);\n",
              "      border-top-color: var(--fill-color);\n",
              "    }\n",
              "    30% {\n",
              "      border-color: transparent;\n",
              "      border-left-color: var(--fill-color);\n",
              "      border-top-color: var(--fill-color);\n",
              "      border-right-color: var(--fill-color);\n",
              "    }\n",
              "    40% {\n",
              "      border-color: transparent;\n",
              "      border-right-color: var(--fill-color);\n",
              "      border-top-color: var(--fill-color);\n",
              "    }\n",
              "    60% {\n",
              "      border-color: transparent;\n",
              "      border-right-color: var(--fill-color);\n",
              "    }\n",
              "    80% {\n",
              "      border-color: transparent;\n",
              "      border-right-color: var(--fill-color);\n",
              "      border-bottom-color: var(--fill-color);\n",
              "    }\n",
              "    90% {\n",
              "      border-color: transparent;\n",
              "      border-bottom-color: var(--fill-color);\n",
              "    }\n",
              "  }\n",
              "</style>\n",
              "\n",
              "  <script>\n",
              "    async function quickchart(key) {\n",
              "      const quickchartButtonEl =\n",
              "        document.querySelector('#' + key + ' button');\n",
              "      quickchartButtonEl.disabled = true;  // To prevent multiple clicks.\n",
              "      quickchartButtonEl.classList.add('colab-df-spinner');\n",
              "      try {\n",
              "        const charts = await google.colab.kernel.invokeFunction(\n",
              "            'suggestCharts', [key], {});\n",
              "      } catch (error) {\n",
              "        console.error('Error during call to suggestCharts:', error);\n",
              "      }\n",
              "      quickchartButtonEl.classList.remove('colab-df-spinner');\n",
              "      quickchartButtonEl.classList.add('colab-df-quickchart-complete');\n",
              "    }\n",
              "    (() => {\n",
              "      let quickchartButtonEl =\n",
              "        document.querySelector('#df-88dfed62-3fcd-4039-94cc-798d3646ae1e button');\n",
              "      quickchartButtonEl.style.display =\n",
              "        google.colab.kernel.accessAllowed ? 'block' : 'none';\n",
              "    })();\n",
              "  </script>\n",
              "</div>\n",
              "    </div>\n",
              "  </div>\n"
            ]
          },
          "metadata": {},
          "execution_count": 15
        }
      ]
    },
    {
      "cell_type": "code",
      "source": [
        "count_lines_df = branch_df_copy.groupby(['fbus', 'tbus']).count()\n",
        "count_lines_df.head()\n",
        "branches = count_lines_df.index.to_list()\n",
        "branches_list = [(int(x[0]), int(x[1])) for x in branches]\n",
        "print(branches_list)\n",
        "\n",
        "nodes = bus_df['bus'].to_list()\n",
        "nodes_list = [int(x) for x in nodes]\n",
        "print(nodes_list)\n",
        "\n",
        "num_nodes = len(nodes_list)\n",
        "num_branches = len(branches_list)\n",
        "print('num_nodes:', num_nodes)\n",
        "print('num_branches:', num_branches)"
      ],
      "metadata": {
        "id": "Y15izY6f84-I",
        "colab": {
          "base_uri": "https://localhost:8080/"
        },
        "outputId": "bb704fea-144b-4437-9f10-46e49b5855e1"
      },
      "execution_count": 16,
      "outputs": [
        {
          "output_type": "stream",
          "name": "stdout",
          "text": [
            "[(1, 2), (1, 3), (1, 7), (3, 4), (3, 5), (5, 6), (7, 8), (8, 9), (8, 12), (8, 13), (9, 14), (13, 18), (13, 34), (13, 52), (14, 10), (14, 11), (15, 16), (15, 17), (18, 19), (18, 21), (18, 35), (19, 20), (21, 22), (21, 23), (23, 24), (23, 25), (25, 26), (25, 28), (26, 27), (26, 31), (27, 33), (28, 29), (29, 30), (31, 32), (34, 15), (35, 36), (35, 40), (36, 37), (36, 38), (38, 39), (40, 41), (40, 42), (42, 43), (42, 44), (44, 45), (44, 47), (45, 46), (47, 48), (47, 49), (49, 50), (50, 51), (52, 53), (53, 54), (54, 55), (54, 57), (55, 56), (57, 58), (57, 60), (58, 59), (60, 62), (60, 67), (62, 63), (63, 64), (64, 65), (65, 66), (67, 68), (67, 72), (67, 97), (68, 69), (69, 70), (70, 71), (72, 73), (72, 76), (73, 74), (74, 75), (76, 77), (76, 86), (77, 78), (78, 79), (78, 80), (80, 81), (81, 82), (81, 84), (82, 83), (84, 85), (86, 87), (87, 88), (87, 89), (89, 90), (89, 91), (91, 92), (91, 93), (93, 94), (93, 95), (95, 96), (97, 98), (97, 101), (98, 99), (99, 100), (101, 102), (101, 105), (102, 103), (103, 104), (105, 106), (105, 108), (106, 107), (108, 109), (109, 110), (110, 111), (110, 112), (112, 113), (113, 61), (114, 1)]\n",
            "[1, 2, 3, 4, 5, 6, 7, 8, 9, 10, 11, 12, 13, 14, 15, 16, 17, 18, 19, 20, 21, 22, 23, 24, 25, 26, 27, 28, 29, 30, 31, 32, 33, 34, 35, 36, 37, 38, 39, 40, 41, 42, 43, 44, 45, 46, 47, 48, 49, 50, 51, 52, 53, 54, 55, 56, 57, 58, 59, 60, 61, 62, 63, 64, 65, 66, 67, 68, 69, 70, 71, 72, 73, 74, 75, 76, 77, 78, 79, 80, 81, 82, 83, 84, 85, 86, 87, 88, 89, 90, 91, 92, 93, 94, 95, 96, 97, 98, 99, 100, 101, 102, 103, 104, 105, 106, 107, 108, 109, 110, 111, 112, 113, 114]\n",
            "num_nodes: 114\n",
            "num_branches: 113\n"
          ]
        }
      ]
    },
    {
      "cell_type": "code",
      "source": [
        "gen_set_mask = bus_df['type']>1\n",
        "gen_set = bus_df['bus'][gen_set_mask]\n",
        "gen_rows = np.array(range(num_nodes))[gen_set_mask]\n",
        "print('gen_set:\\n', gen_set)\n",
        "print('gen_rows:\\n', gen_rows)\n",
        "\n",
        "bus_lists = bus_df['bus'].to_numpy()\n",
        "print(bus_lists.shape)\n",
        "print(bus_lists)\n",
        "\n",
        "branch_df_copy['index'] = branch_df_copy.index\n",
        "branch_df_copy.head()\n",
        "\n",
        "b_for_lines = b_ij.reshape(-1,1)\n",
        "g_for_lines = g_ij.reshape(-1,1)"
      ],
      "metadata": {
        "id": "7_MXMbsaAKQw",
        "colab": {
          "base_uri": "https://localhost:8080/"
        },
        "outputId": "8ad43810-8844-43d2-fc67-1568fb1cc677"
      },
      "execution_count": 17,
      "outputs": [
        {
          "output_type": "stream",
          "name": "stdout",
          "text": [
            "gen_set:\n",
            " 113    114\n",
            "Name: bus, dtype: int64\n",
            "gen_rows:\n",
            " [113]\n",
            "(114,)\n",
            "[  1   2   3   4   5   6   7   8   9  10  11  12  13  14  15  16  17  18\n",
            "  19  20  21  22  23  24  25  26  27  28  29  30  31  32  33  34  35  36\n",
            "  37  38  39  40  41  42  43  44  45  46  47  48  49  50  51  52  53  54\n",
            "  55  56  57  58  59  60  61  62  63  64  65  66  67  68  69  70  71  72\n",
            "  73  74  75  76  77  78  79  80  81  82  83  84  85  86  87  88  89  90\n",
            "  91  92  93  94  95  96  97  98  99 100 101 102 103 104 105 106 107 108\n",
            " 109 110 111 112 113 114]\n"
          ]
        }
      ]
    },
    {
      "cell_type": "code",
      "source": [
        "numeric_to_bus = dict()\n",
        "for idx, bus_name in enumerate(bus_df['bus'].tolist()):\n",
        "\n",
        "    numeric_to_bus[idx] = bus_name\n",
        "print('numeric_to_bus:', numeric_to_bus)\n",
        "\n",
        "bus_to_numeric = dict()\n",
        "for k in range(num_nodes):\n",
        "    node_idx = nodes_list[k]\n",
        "    bus_to_numeric[node_idx] = k\n",
        "\n",
        "bus_to_neighbors = dict()\n",
        "for edge in branches_list:\n",
        "    fbus = edge[0]\n",
        "    tbus = edge[1]\n",
        "    if fbus not in bus_to_neighbors.keys():\n",
        "        bus_to_neighbors[fbus] = [tbus]\n",
        "    else:\n",
        "        bus_to_neighbors[fbus] += [tbus]\n",
        "\n",
        "    if tbus not in bus_to_neighbors.keys():\n",
        "        bus_to_neighbors[tbus] = [fbus]\n",
        "    else:\n",
        "        bus_to_neighbors[tbus] += [fbus]\n",
        "\n",
        "print('bus_to_numeric:', bus_to_numeric)\n",
        "print('bus_to_neighbors:', bus_to_neighbors)\n",
        "\n",
        "numbering_links = dict()\n",
        "for i in range(num_branches):\n",
        "    fbus = branch_df_copy.iloc[i, 0]\n",
        "    tbus = branch_df_copy.iloc[i, 1]\n",
        "    numbering_links[i] = (fbus, tbus)\n",
        "print('numbering_links:', numbering_links)\n",
        "\n",
        "bus_types = []\n",
        "for i in range(num_nodes):\n",
        "    match bus_df.iloc[i,1]:\n",
        "        case 1:\n",
        "            # print('PQ bus')\n",
        "            bus_types.append('load')\n",
        "        case 2:\n",
        "            # print('PV bus')\n",
        "            bus_types.append('gen')\n",
        "        case 3:\n",
        "            # print('reference bus')\n",
        "            bus_types.append('slack')\n",
        "        case _:\n",
        "            # print('Isolated bus')\n",
        "            bus_types.append('isolated')\n",
        "\n",
        "print('bus types:', bus_types)"
      ],
      "metadata": {
        "id": "H3X2fiZO8qag",
        "colab": {
          "base_uri": "https://localhost:8080/"
        },
        "outputId": "a4b92e78-82e0-4716-b4dc-f39c4c9d6c83"
      },
      "execution_count": 18,
      "outputs": [
        {
          "output_type": "stream",
          "name": "stdout",
          "text": [
            "numeric_to_bus: {0: 1, 1: 2, 2: 3, 3: 4, 4: 5, 5: 6, 6: 7, 7: 8, 8: 9, 9: 10, 10: 11, 11: 12, 12: 13, 13: 14, 14: 15, 15: 16, 16: 17, 17: 18, 18: 19, 19: 20, 20: 21, 21: 22, 22: 23, 23: 24, 24: 25, 25: 26, 26: 27, 27: 28, 28: 29, 29: 30, 30: 31, 31: 32, 32: 33, 33: 34, 34: 35, 35: 36, 36: 37, 37: 38, 38: 39, 39: 40, 40: 41, 41: 42, 42: 43, 43: 44, 44: 45, 45: 46, 46: 47, 47: 48, 48: 49, 49: 50, 50: 51, 51: 52, 52: 53, 53: 54, 54: 55, 55: 56, 56: 57, 57: 58, 58: 59, 59: 60, 60: 61, 61: 62, 62: 63, 63: 64, 64: 65, 65: 66, 66: 67, 67: 68, 68: 69, 69: 70, 70: 71, 71: 72, 72: 73, 73: 74, 74: 75, 75: 76, 76: 77, 77: 78, 78: 79, 79: 80, 80: 81, 81: 82, 82: 83, 83: 84, 84: 85, 85: 86, 86: 87, 87: 88, 88: 89, 89: 90, 90: 91, 91: 92, 92: 93, 93: 94, 94: 95, 95: 96, 96: 97, 97: 98, 98: 99, 99: 100, 100: 101, 101: 102, 102: 103, 103: 104, 104: 105, 105: 106, 106: 107, 107: 108, 108: 109, 109: 110, 110: 111, 111: 112, 112: 113, 113: 114}\n",
            "bus_to_numeric: {1: 0, 2: 1, 3: 2, 4: 3, 5: 4, 6: 5, 7: 6, 8: 7, 9: 8, 10: 9, 11: 10, 12: 11, 13: 12, 14: 13, 15: 14, 16: 15, 17: 16, 18: 17, 19: 18, 20: 19, 21: 20, 22: 21, 23: 22, 24: 23, 25: 24, 26: 25, 27: 26, 28: 27, 29: 28, 30: 29, 31: 30, 32: 31, 33: 32, 34: 33, 35: 34, 36: 35, 37: 36, 38: 37, 39: 38, 40: 39, 41: 40, 42: 41, 43: 42, 44: 43, 45: 44, 46: 45, 47: 46, 48: 47, 49: 48, 50: 49, 51: 50, 52: 51, 53: 52, 54: 53, 55: 54, 56: 55, 57: 56, 58: 57, 59: 58, 60: 59, 61: 60, 62: 61, 63: 62, 64: 63, 65: 64, 66: 65, 67: 66, 68: 67, 69: 68, 70: 69, 71: 70, 72: 71, 73: 72, 74: 73, 75: 74, 76: 75, 77: 76, 78: 77, 79: 78, 80: 79, 81: 80, 82: 81, 83: 82, 84: 83, 85: 84, 86: 85, 87: 86, 88: 87, 89: 88, 90: 89, 91: 90, 92: 91, 93: 92, 94: 93, 95: 94, 96: 95, 97: 96, 98: 97, 99: 98, 100: 99, 101: 100, 102: 101, 103: 102, 104: 103, 105: 104, 106: 105, 107: 106, 108: 107, 109: 108, 110: 109, 111: 110, 112: 111, 113: 112, 114: 113}\n",
            "bus_to_neighbors: {1: [2, 3, 7, 114], 2: [1], 3: [1, 4, 5], 7: [1, 8], 4: [3], 5: [3, 6], 6: [5], 8: [7, 9, 12, 13], 9: [8, 14], 12: [8], 13: [8, 18, 34, 52], 14: [9, 10, 11], 18: [13, 19, 21, 35], 34: [13, 15], 52: [13, 53], 10: [14], 11: [14], 15: [16, 17, 34], 16: [15], 17: [15], 19: [18, 20], 21: [18, 22, 23], 35: [18, 36, 40], 20: [19], 22: [21], 23: [21, 24, 25], 24: [23], 25: [23, 26, 28], 26: [25, 27, 31], 28: [25, 29], 27: [26, 33], 31: [26, 32], 33: [27], 29: [28, 30], 30: [29], 32: [31], 36: [35, 37, 38], 40: [35, 41, 42], 37: [36], 38: [36, 39], 39: [38], 41: [40], 42: [40, 43, 44], 43: [42], 44: [42, 45, 47], 45: [44, 46], 47: [44, 48, 49], 46: [45], 48: [47], 49: [47, 50], 50: [49, 51], 51: [50], 53: [52, 54], 54: [53, 55, 57], 55: [54, 56], 57: [54, 58, 60], 56: [55], 58: [57, 59], 60: [57, 62, 67], 59: [58], 62: [60, 63], 67: [60, 68, 72, 97], 63: [62, 64], 64: [63, 65], 65: [64, 66], 66: [65], 68: [67, 69], 72: [67, 73, 76], 97: [67, 98, 101], 69: [68, 70], 70: [69, 71], 71: [70], 73: [72, 74], 76: [72, 77, 86], 74: [73, 75], 75: [74], 77: [76, 78], 86: [76, 87], 78: [77, 79, 80], 79: [78], 80: [78, 81], 81: [80, 82, 84], 82: [81, 83], 84: [81, 85], 83: [82], 85: [84], 87: [86, 88, 89], 88: [87], 89: [87, 90, 91], 90: [89], 91: [89, 92, 93], 92: [91], 93: [91, 94, 95], 94: [93], 95: [93, 96], 96: [95], 98: [97, 99], 101: [97, 102, 105], 99: [98, 100], 100: [99], 102: [101, 103], 105: [101, 106, 108], 103: [102, 104], 104: [103], 106: [105, 107], 108: [105, 109], 107: [106], 109: [108, 110], 110: [109, 111, 112], 111: [110], 112: [110, 113], 113: [112, 61], 61: [113], 114: [1]}\n",
            "numbering_links: {0: (1, 2), 1: (1, 3), 2: (1, 7), 3: (3, 4), 4: (3, 5), 5: (5, 6), 6: (7, 8), 7: (8, 9), 8: (8, 12), 9: (8, 13), 10: (9, 14), 11: (13, 18), 12: (13, 34), 13: (13, 52), 14: (14, 10), 15: (14, 11), 16: (15, 16), 17: (15, 17), 18: (18, 19), 19: (18, 21), 20: (18, 35), 21: (19, 20), 22: (21, 22), 23: (21, 23), 24: (23, 24), 25: (23, 25), 26: (25, 26), 27: (25, 28), 28: (26, 27), 29: (26, 31), 30: (27, 33), 31: (28, 29), 32: (29, 30), 33: (31, 32), 34: (34, 15), 35: (35, 36), 36: (35, 40), 37: (36, 37), 38: (36, 38), 39: (38, 39), 40: (40, 41), 41: (40, 42), 42: (42, 43), 43: (42, 44), 44: (44, 45), 45: (44, 47), 46: (45, 46), 47: (47, 48), 48: (47, 49), 49: (49, 50), 50: (50, 51), 51: (52, 53), 52: (53, 54), 53: (54, 55), 54: (54, 57), 55: (55, 56), 56: (57, 58), 57: (57, 60), 58: (58, 59), 59: (60, 62), 60: (60, 67), 61: (62, 63), 62: (63, 64), 63: (64, 65), 64: (65, 66), 65: (67, 68), 66: (67, 72), 67: (67, 97), 68: (68, 69), 69: (69, 70), 70: (70, 71), 71: (72, 73), 72: (72, 76), 73: (73, 74), 74: (74, 75), 75: (76, 77), 76: (76, 86), 77: (77, 78), 78: (78, 79), 79: (78, 80), 80: (80, 81), 81: (81, 82), 82: (81, 84), 83: (82, 83), 84: (84, 85), 85: (86, 87), 86: (87, 88), 87: (87, 89), 88: (89, 90), 89: (89, 91), 90: (91, 92), 91: (91, 93), 92: (93, 94), 93: (93, 95), 94: (95, 96), 95: (97, 98), 96: (97, 101), 97: (98, 99), 98: (99, 100), 99: (101, 102), 100: (101, 105), 101: (102, 103), 102: (103, 104), 103: (105, 106), 104: (105, 108), 105: (106, 107), 106: (108, 109), 107: (109, 110), 108: (110, 111), 109: (110, 112), 110: (112, 113), 111: (113, 61), 112: (114, 1)}\n",
            "bus types: ['load', 'load', 'load', 'load', 'load', 'load', 'load', 'load', 'load', 'load', 'load', 'load', 'load', 'load', 'load', 'load', 'load', 'load', 'load', 'load', 'load', 'load', 'load', 'load', 'load', 'load', 'load', 'load', 'load', 'load', 'load', 'load', 'load', 'load', 'load', 'load', 'load', 'load', 'load', 'load', 'load', 'load', 'load', 'load', 'load', 'load', 'load', 'load', 'load', 'load', 'load', 'load', 'load', 'load', 'load', 'load', 'load', 'load', 'load', 'load', 'load', 'load', 'load', 'load', 'load', 'load', 'load', 'load', 'load', 'load', 'load', 'load', 'load', 'load', 'load', 'load', 'load', 'load', 'load', 'load', 'load', 'load', 'load', 'load', 'load', 'load', 'load', 'load', 'load', 'load', 'load', 'load', 'load', 'load', 'load', 'load', 'load', 'load', 'load', 'load', 'load', 'load', 'load', 'load', 'load', 'load', 'load', 'load', 'load', 'load', 'load', 'load', 'load', 'slack']\n"
          ]
        }
      ]
    },
    {
      "cell_type": "markdown",
      "source": [
        "## Incidence matrix"
      ],
      "metadata": {
        "id": "GrS31Nz5F89k"
      }
    },
    {
      "cell_type": "code",
      "source": [
        "# incidence matrix\n",
        "E = np.zeros((num_branches, num_nodes))\n",
        "for m in range(num_branches):\n",
        "    f_end = branch_df_copy.iloc[m, 0]\n",
        "    t_end = branch_df_copy.iloc[m, 1]\n",
        "\n",
        "    col1 = bus_to_numeric[f_end]\n",
        "    col2 = bus_to_numeric[t_end]\n",
        "\n",
        "    if col1 < col2:\n",
        "        E[m, col1] = 1\n",
        "        E[m, col2] = -1\n",
        "    else:\n",
        "        E[m, col1] = -1\n",
        "        E[m, col2] = 1\n",
        "\n",
        "print('E:', E)"
      ],
      "metadata": {
        "id": "FOXAcXg6l8lv",
        "colab": {
          "base_uri": "https://localhost:8080/"
        },
        "outputId": "b8f18d25-a78c-4014-c96c-27acc1d8e287"
      },
      "execution_count": 19,
      "outputs": [
        {
          "output_type": "stream",
          "name": "stdout",
          "text": [
            "E: [[ 1. -1.  0. ...  0.  0.  0.]\n",
            " [ 1.  0. -1. ...  0.  0.  0.]\n",
            " [ 1.  0.  0. ...  0.  0.  0.]\n",
            " ...\n",
            " [ 0.  0.  0. ...  1. -1.  0.]\n",
            " [ 0.  0.  0. ...  0. -1.  0.]\n",
            " [ 1.  0.  0. ...  0.  0. -1.]]\n"
          ]
        }
      ]
    },
    {
      "cell_type": "markdown",
      "source": [
        "#  Vectorize power flow equations"
      ],
      "metadata": {
        "id": "RO7lUDgdh-qz"
      }
    },
    {
      "cell_type": "code",
      "source": [
        "G_a = np.zeros((num_nodes, num_branches))\n",
        "for row in range(num_nodes):\n",
        "    for col in range(num_branches):\n",
        "        row_bus = bus_df['bus'].iloc[row]\n",
        "        end1 = branch_df_copy.iloc[col, 0]\n",
        "        end2 = branch_df_copy.iloc[col, 1]\n",
        "        edge = (end1, end2)\n",
        "\n",
        "        if row_bus not in edge:\n",
        "            G_a[row, col] = 0\n",
        "\n",
        "        else: # if bus in edge\n",
        "            if edge[0] == row_bus:\n",
        "                neighbor = edge[1]\n",
        "            else:\n",
        "                neighbor = edge[0]\n",
        "\n",
        "            # convert bus no. to numerical indexes\n",
        "            neighbor_idx = bus_to_numeric[neighbor]\n",
        "\n",
        "\n",
        "            if row > neighbor_idx: # if row > neighbor\n",
        "                G_a[row, col] = -g_ij[col]\n",
        "\n",
        "            else: # if row < neighbor\n",
        "                G_a[row, col] = -g_ij[col]\n",
        "\n",
        "\n",
        "B_a = np.zeros((num_nodes, num_branches))\n",
        "for row in range(num_nodes):\n",
        "    for col in range(num_branches):\n",
        "        row_bus = bus_df['bus'].iloc[row]\n",
        "        end1 = branch_df_copy.iloc[col, 0]\n",
        "        end2 = branch_df_copy.iloc[col, 1]\n",
        "        edge = (end1, end2)\n",
        "\n",
        "        if row_bus not in edge:\n",
        "            B_a[row, col] = 0\n",
        "\n",
        "        else: # if bus in edge\n",
        "            if edge[0] == row_bus:\n",
        "                neighbor = edge[1]\n",
        "            else:\n",
        "                neighbor = edge[0]\n",
        "\n",
        "            # convert bus no. to numerical indexes\n",
        "            neighbor_idx = bus_to_numeric[neighbor]\n",
        "\n",
        "            if row > neighbor_idx: # if row > neighbor\n",
        "                B_a[row, col] = -b_ij[col]\n",
        "\n",
        "            else: # if row < neighbor\n",
        "                B_a[row, col] = b_ij[col]\n",
        "\n",
        "\n",
        "print('G_a:', G_a.shape)\n",
        "print('B_a:', B_a.shape)\n",
        "\n",
        "G_hat = np.zeros((num_nodes, num_nodes))\n",
        "for m in range(num_branches):\n",
        "    end1 = branch_df_copy.iloc[m, 0]\n",
        "    end2 = branch_df_copy.iloc[m, 1]\n",
        "\n",
        "    row = bus_to_numeric[end1]\n",
        "    col = bus_to_numeric[end2]\n",
        "\n",
        "    G_hat[row, col] = g_ij[m]\n",
        "    G_hat[col, row] = g_ij[m]\n",
        "\n",
        "print('G_hat:', G_hat.shape)\n",
        "\n",
        "\n",
        "d_active = np.zeros((num_nodes, 1))\n",
        "for row in range(num_nodes):\n",
        "\n",
        "    d_active[row, 0] = np.sum(G_hat[row,:])\n",
        "\n",
        "print('d_active:', d_active.shape)\n",
        "\n",
        "A = np.block([\n",
        "    G_a, B_a, d_active\n",
        "])\n",
        "print('A:', A.shape)"
      ],
      "metadata": {
        "id": "Z7Wzm09bC-j5",
        "colab": {
          "base_uri": "https://localhost:8080/"
        },
        "outputId": "ca2592ac-909f-4e28-f6e2-b09dbabae884"
      },
      "execution_count": 20,
      "outputs": [
        {
          "output_type": "stream",
          "name": "stdout",
          "text": [
            "G_a: (114, 113)\n",
            "B_a: (114, 113)\n",
            "G_hat: (114, 114)\n",
            "d_active: (114, 1)\n",
            "A: (114, 227)\n"
          ]
        }
      ]
    },
    {
      "cell_type": "code",
      "source": [
        "G_r = np.zeros((num_nodes, num_branches))\n",
        "for row in range(num_nodes):\n",
        "    for col in range(num_branches):\n",
        "        row_bus = bus_df['bus'].iloc[row]\n",
        "        end1 = branch_df_copy.iloc[col, 0]\n",
        "        end2 = branch_df_copy.iloc[col, 1]\n",
        "        edge = (end1, end2)\n",
        "\n",
        "        if row_bus not in edge:\n",
        "            G_r[row, col] = 0\n",
        "\n",
        "        else: # if bus in edge\n",
        "            if edge[0] == row_bus:\n",
        "                neighbor = edge[1]\n",
        "            else:\n",
        "                neighbor = edge[0]\n",
        "\n",
        "            # convert bus no. to numerical indexes\n",
        "            neighbor_idx = bus_to_numeric[neighbor]\n",
        "\n",
        "\n",
        "            if row > neighbor_idx: # if row > neighbor\n",
        "                G_r[row, col] = g_ij[col]\n",
        "\n",
        "            else: # if row < neighbor\n",
        "                G_r[row, col] = -g_ij[col]\n",
        "\n",
        "\n",
        "B_r = np.zeros((num_nodes, num_branches))\n",
        "for row in range(num_nodes):\n",
        "    for col in range(num_branches):\n",
        "        row_bus = bus_df['bus'].iloc[row]\n",
        "        end1 = branch_df_copy.iloc[col, 0]\n",
        "        end2 = branch_df_copy.iloc[col, 1]\n",
        "        edge = (end1, end2)\n",
        "\n",
        "        if row_bus not in edge:\n",
        "            B_r[row, col] = 0\n",
        "\n",
        "        else: # if bus in edge\n",
        "            if edge[0] == row_bus:\n",
        "                neighbor = edge[1]\n",
        "            else:\n",
        "                neighbor = edge[0]\n",
        "\n",
        "            # convert bus no. to numerical indexes\n",
        "            neighbor_idx = bus_to_numeric[neighbor]\n",
        "\n",
        "            if row > neighbor_idx: # if row > neighbor\n",
        "                B_r[row, col] = -b_ij[col]\n",
        "\n",
        "            else: # if row < neighbor\n",
        "                B_r[row, col] = -b_ij[col]\n",
        "\n",
        "\n",
        "print('G_r:', G_r.shape)\n",
        "print('B_r:', B_r.shape)\n",
        "\n",
        "\n",
        "B_hat = np.zeros((num_nodes, num_nodes))\n",
        "for m in range(num_branches):\n",
        "    end1 = branch_df_copy.iloc[m, 0]\n",
        "    end2 = branch_df_copy.iloc[m, 1]\n",
        "\n",
        "    row = bus_to_numeric[end1]\n",
        "    col = bus_to_numeric[end2]\n",
        "\n",
        "    B_hat[row, col] = b_ij[m]\n",
        "    B_hat[col, row] = b_ij[m]\n",
        "\n",
        "print('B_hat:', B_hat.shape)\n",
        "\n",
        "d_reactive = np.zeros((num_nodes, 1))\n",
        "for row in range(num_nodes):\n",
        "\n",
        "    d_reactive[row, 0] = np.sum(B_hat[row,:])\n",
        "\n",
        "print('d_reactive:', d_reactive.shape)\n",
        "\n",
        "R = np.block([\n",
        "    B_r, G_r, d_reactive\n",
        "])\n",
        "print('R:', R.shape)"
      ],
      "metadata": {
        "id": "XMHVZPMnlDAM",
        "colab": {
          "base_uri": "https://localhost:8080/"
        },
        "outputId": "e9be4d47-b8ca-4912-8a83-644138dc0a35"
      },
      "execution_count": 21,
      "outputs": [
        {
          "output_type": "stream",
          "name": "stdout",
          "text": [
            "G_r: (114, 113)\n",
            "B_r: (114, 113)\n",
            "B_hat: (114, 114)\n",
            "d_reactive: (114, 1)\n",
            "R: (114, 227)\n"
          ]
        }
      ]
    },
    {
      "cell_type": "markdown",
      "source": [
        "## P, Q as functions of phase angle"
      ],
      "metadata": {
        "id": "kmbWQ9Pus9bs"
      }
    },
    {
      "cell_type": "code",
      "source": [
        "def p_in_voltage(theta):\n",
        "\n",
        "    x = theta.reshape(-1,1)\n",
        "    z = np.sin(E@x)\n",
        "\n",
        "    return G_a @ np.sqrt(1-z**2) + B_a @ z + d_active\n",
        "\n",
        "\n",
        "def q_in_voltage(theta):\n",
        "\n",
        "    x = theta.reshape(-1,1)\n",
        "    z = np.sin(E@x)\n",
        "\n",
        "    return B_r @ np.sqrt(1-z**2) + G_r @ z + d_reactive\n",
        "\n",
        "nominal_angle = np.zeros(num_nodes)\n",
        "p = p_in_voltage(nominal_angle)\n",
        "q = q_in_voltage(nominal_angle)\n",
        "# print(p)\n",
        "# print(q)"
      ],
      "metadata": {
        "id": "auWLcUKzpMR-"
      },
      "execution_count": 22,
      "outputs": []
    },
    {
      "cell_type": "markdown",
      "source": [
        "## P, Q as functions of z"
      ],
      "metadata": {
        "id": "84WmpQ_YN3bw"
      }
    },
    {
      "cell_type": "code",
      "source": [
        "import cvxpy as cp"
      ],
      "metadata": {
        "id": "MJ9BeEwebYGN"
      },
      "execution_count": 23,
      "outputs": []
    },
    {
      "cell_type": "code",
      "source": [
        "def cp_p_in_transformed_space(z):\n",
        "\n",
        "    return G_a @ cp.sqrt(1-cp.square(z)) + B_a @ z + d_active\n",
        "\n",
        "def cp_q_in_transformed_space(z):\n",
        "\n",
        "    return B_r @ cp.sqrt(1-cp.square(z)) + G_r @ z + d_reactive\n",
        "\n",
        "\n",
        "def p_in_transformed_space(z):\n",
        "\n",
        "    z = z.reshape(-1, 1)\n",
        "\n",
        "    return G_a @ np.sqrt(1-z**2) + B_a @ z + d_active\n",
        "\n",
        "\n",
        "def q_in_transformed_space(z):\n",
        "\n",
        "    z = z.reshape(-1, 1)\n",
        "\n",
        "    return B_r @ np.sqrt(1-z**2) + G_r @ z + d_reactive\n",
        "\n",
        "# def recover_phase_angle(z):\n",
        "#     z = np.squeeze(z)\n",
        "\n",
        "#     all_edges = branch_df[['fbus', 'tbus']].values\n",
        "#     recovered = dict()\n",
        "#     for row in bus_df['bus'].values:\n",
        "#         recovered[row] = 0.\n",
        "\n",
        "#     for i, row in enumerate(all_edges):\n",
        "#         print(\"The edge is: {}, and the angle difference is: {}\".format(row, np.arcsin(z[i])))\n",
        "#         node1 = row[0]\n",
        "#         node2 = row[1]\n",
        "#         if node1 < node2:\n",
        "#             recovered[node2] = recovered[node1] - np.arcsin(z[i])\n",
        "#         else:\n",
        "#             recovered[node1] = recovered[node2] - np.arcsin(z[i])\n",
        "\n",
        "#     x = list(recovered.values())\n",
        "#     print('recovered values:', recovered)\n",
        "\n",
        "#     return recovered"
      ],
      "metadata": {
        "id": "3HKVfWGsNzpX"
      },
      "execution_count": 24,
      "outputs": []
    },
    {
      "cell_type": "markdown",
      "source": [
        "## Check solution feasibility"
      ],
      "metadata": {
        "id": "PU64YpBjUpOp"
      }
    },
    {
      "cell_type": "code",
      "source": [
        "# check if the given solution is a feasible one\n",
        "def is_phase_angle_feasible(theta, bus_dataframe):\n",
        "\n",
        "    Qmax = bus_dataframe['Qmax'].to_numpy()\n",
        "    Qmin = bus_dataframe['Qmin'].to_numpy()\n",
        "    Pmax = bus_dataframe['Pmax'].to_numpy()\n",
        "    Pmin = bus_dataframe['Pmin'].to_numpy()\n",
        "\n",
        "    p = p_in_voltage(theta)\n",
        "    q = q_in_voltage(theta)\n",
        "\n",
        "    # print('p_max:\\n', np.squeeze(Pmax))\n",
        "    # print('p:\\n', np.squeeze(p))\n",
        "    # print('p_min:\\n', np.squeeze(Pmin))\n",
        "\n",
        "    # print('q_max:\\n', np.squeeze(Qmax))\n",
        "    # print('q:\\n', np.squeeze(q))\n",
        "    # print('q_min:\\n', np.squeeze(Qmin))\n",
        "\n",
        "    p_values = np.squeeze(p)\n",
        "    q_values = np.squeeze(q)\n",
        "\n",
        "    tolerance = -1e-6\n",
        "\n",
        "    # if np.all(p_values>=Pmin) & np.all(p_values<=Pmax) & np.all(q_values >=Qmin) & np.all(q_values<=Qmax):\n",
        "    if np.all(p_values-Pmin>=tolerance) & np.all(Pmax-p_values>=tolerance) & np.all(q_values-Qmin>=tolerance) & np.all(Qmax-q_values>=tolerance):\n",
        "\n",
        "        return True\n",
        "\n",
        "    else:\n",
        "\n",
        "        return False\n",
        "\n",
        "\n",
        "# nominal_angle = np.zeros(num_nodes)\n",
        "# is_voltage_feasible(nominal_angle) # Nooope\n",
        "\n",
        "def is_z_feasible(z, bus_dataframe):\n",
        "\n",
        "    Qmax = bus_dataframe['Qmax'].to_numpy()\n",
        "    Qmin = bus_dataframe['Qmin'].to_numpy()\n",
        "    Pmax = bus_dataframe['Pmax'].to_numpy()\n",
        "    Pmin = bus_dataframe['Pmin'].to_numpy()\n",
        "\n",
        "    p = p_in_transformed_space(z)\n",
        "    q = q_in_transformed_space(z)\n",
        "\n",
        "    p_values = np.squeeze(p)\n",
        "    q_values = np.squeeze(q)\n",
        "\n",
        "    # print('p_max:\\n', np.squeeze(Pmax))\n",
        "    # print('p:\\n', np.squeeze(p))\n",
        "    # print('p_min:\\n', np.squeeze(Pmin))\n",
        "\n",
        "    # print('q_max:\\n', np.squeeze(Qmax))\n",
        "    # print('q:\\n', np.squeeze(q))\n",
        "    # print('q_min:\\n', np.squeeze(Qmin))\n",
        "    tolerance = -1e-6\n",
        "\n",
        "    print('violate Pmin?',np.all(p_values-Pmin>=tolerance))\n",
        "    print('violate Pmax?',np.all(Pmax-p_values>=tolerance))\n",
        "    print('violate Qmin?',np.all(q_values-Qmin>=tolerance))\n",
        "    print('violate Qmax?',np.all(Qmax-q_values>=tolerance))\n",
        "\n",
        "    # if np.all(p_values>=Pmin) & np.all(p_values<=Pmax) & np.all(q_values >=Qmin) & np.all(q_values<=Qmax):\n",
        "    if np.all(p_values-Pmin>=tolerance) & np.all(Pmax-p_values>=tolerance) & np.all(q_values-Qmin>=tolerance) & np.all(Qmax-q_values>=tolerance):\n",
        "\n",
        "        return True\n",
        "\n",
        "    else:\n",
        "\n",
        "        return False\n",
        "\n",
        "\n",
        "# nominal_z = np.zeros(num_branches)\n",
        "# is_z_feasible(nominal_z)\n"
      ],
      "metadata": {
        "id": "DhCl4Nq-MFTy"
      },
      "execution_count": 25,
      "outputs": []
    },
    {
      "cell_type": "markdown",
      "source": [
        "# Bounds"
      ],
      "metadata": {
        "id": "mYyKCrdJFuL4"
      }
    },
    {
      "cell_type": "markdown",
      "source": [
        "## Original bounds"
      ],
      "metadata": {
        "id": "ZxDTJO-7WCfi"
      }
    },
    {
      "cell_type": "code",
      "source": [
        "def set_bounds():\n",
        "\n",
        "    added_bus_df = bus_df.copy()\n",
        "    gen_df_copy = gen_df.copy()\n",
        "    gen_df_copy = gen_df_copy.set_index('bus')\n",
        "\n",
        "    added_bus_df['Pd'] = added_bus_df['Pd'] * 10\n",
        "    added_bus_df['Qd'] = added_bus_df['Qd'] * 10\n",
        "\n",
        "    for i in range(num_nodes):\n",
        "        bus = added_bus_df.iloc[i, 0]\n",
        "        type = added_bus_df.iloc[i, 1]\n",
        "        if type > 1: # generator or slack(reference) buses, copy everything\n",
        "            added_bus_df.loc[i, 'Pmax']= gen_df_copy.loc[bus, 'Pmax']\n",
        "            added_bus_df.loc[i, 'Pmin']= 0\n",
        "            added_bus_df.loc[i, 'Qmax']= gen_df_copy.loc[bus, 'Qmax']\n",
        "            added_bus_df.loc[i, 'Qmin']= gen_df_copy.loc[bus, 'Qmin']\n",
        "\n",
        "        else:\n",
        "        # load buses, Pmax = -Pd; Pmin\n",
        "\n",
        "            added_bus_df.loc[i, 'Pmax'] = -added_bus_df['Pd'][i]\n",
        "            added_bus_df.loc[i, 'Pmin'] = -10. # set a maximum loading at this bus,\n",
        "            # based on the generators's capacity, which is 10, I set the maximum loading to be 10\n",
        "\n",
        "            # # this results in infeasibility\n",
        "            # bus_df.loc[i, 'Qmax'] = bus_df['Qd'][i] # positive Qmax means maximum reactive power that\n",
        "            # # this load bus can consume\n",
        "            # bus_df.loc[i, 'Qmin'] = 0. # postive Q min means that this load bus cannot contribute(generate)\n",
        "            # # reactive power\n",
        "            added_bus_df.loc[i, 'Qmax'] = 10. # this is the maximum reactive power that generator bus can contribute\n",
        "            added_bus_df.loc[i, 'Qmin'] = bus_df['Qd'][i]\n",
        "\n",
        "    print('total (active) demand is {}'.format(added_bus_df['Pd'].sum()))\n",
        "    print('total (reactive) demand is {}'.format(added_bus_df['Qd'].sum()))\n",
        "    print('maximum generator active contribution is {}'.format(np.maximum(added_bus_df['Pmax'],0.0).sum()))\n",
        "    print('maximum generator reactive contribution is {}'.format(np.minimum(added_bus_df['Qmin'],0.0).sum()))\n",
        "\n",
        "\n",
        "    return added_bus_df\n",
        "\n",
        "# added_bus_df = set_bounds()\n",
        "# added_bus_df.head()"
      ],
      "metadata": {
        "id": "bg2eKZ6HNSfo"
      },
      "execution_count": 26,
      "outputs": []
    },
    {
      "cell_type": "markdown",
      "source": [
        "## Modify bounds"
      ],
      "metadata": {
        "id": "bvA_bIPcOcqs"
      }
    },
    {
      "cell_type": "code",
      "source": [
        "def modify_bounds(original_bus_df):\n",
        "    original_df_copy = original_bus_df.copy()\n",
        "\n",
        "    # generate phase angle difference randomly\n",
        "    initial_guess = sio.loadmat(project_path + 'case123nick_voltage_angles.mat')\n",
        "\n",
        "    dc_va_degrees = initial_guess['voltage_angles']\n",
        "    # print('dc_va shape:', dc_va_degrees.shape)\n",
        "    # print('dc_va:', np.squeeze(dc_va_degrees)[:10])\n",
        "\n",
        "    dc_va_radians = dc_va_degrees / 180 * np.pi\n",
        "    transfom_to_z =  np.sin(E @ dc_va_radians)\n",
        "    # print('transfom_to_z:', np.squeeze(transfom_to_z)[:10])\n",
        "\n",
        "    candidate_z_values = np.squeeze(transfom_to_z).tolist()\n",
        "    candidate_z_values = [np.round(x, 4) for x in candidate_z_values]\n",
        "    # print('candidate_z_values:', candidate_z_values[:10])\n",
        "\n",
        "    z_values = np.array(candidate_z_values) * 4\n",
        "    print('is it feasible?', is_z_feasible(z_values, original_df_copy))\n",
        "    print('z_values:', z_values[:10])\n",
        "\n",
        "    nominal_p = p_in_transformed_space(z_values)\n",
        "    nominal_q = q_in_transformed_space(z_values)\n",
        "\n",
        "    Qmax = original_df_copy['Qmax'].to_numpy().reshape(-1, 1)\n",
        "    Qmin = original_df_copy['Qmin'].to_numpy().reshape(-1, 1)\n",
        "    Pmax = original_df_copy['Pmax'].to_numpy().reshape(-1, 1)\n",
        "    Pmin = original_df_copy['Pmin'].to_numpy().reshape(-1, 1)\n",
        "    nominal_p = np.array(nominal_p).reshape(-1, 1)\n",
        "    nominal_q = np.array(nominal_q).reshape(-1, 1)\n",
        "\n",
        "    results = np.concatenate([Pmax, nominal_p, Pmin, Qmax, nominal_q, Qmin], axis=1)\n",
        "    column_names = ['p_max', 'nominal_p', 'p_min', 'q_max', 'nominal_q', 'q_min']\n",
        "    results_df = pd.DataFrame(results, columns=column_names)\n",
        "    print(results_df)\n",
        "\n",
        "    new_Pmax = np.maximum(np.squeeze(Pmax), np.squeeze(nominal_p))\n",
        "    new_Pmin = np.minimum(np.squeeze(Pmin), np.squeeze(nominal_p))\n",
        "\n",
        "    new_Qmax = np.maximum(np.squeeze(Qmax), np.squeeze(nominal_q))\n",
        "    new_Qmin = np.minimum(np.squeeze(Qmin), np.squeeze(nominal_q))\n",
        "\n",
        "    counts = 0\n",
        "    for i in range(num_nodes):\n",
        "        if nominal_p[i] > 0.0:# a generator\n",
        "            new_Pmin[i] = 0.0\n",
        "            print('Qmax:', new_Qmax[i])\n",
        "            print('Qmin:', new_Qmin[i])\n",
        "            counts+=1\n",
        "    print('counts of gens:', counts)\n",
        "\n",
        "    original_df_copy2 = original_bus_df.copy()\n",
        "    original_df_copy2['Pmax'] = new_Pmax\n",
        "    original_df_copy2['Pmin'] = new_Pmin\n",
        "    original_df_copy2['Qmax'] = new_Qmax\n",
        "    original_df_copy2['Qmin'] = new_Qmin\n",
        "    print(original_df_copy2.tail())\n",
        "\n",
        "    print('is it feasible?', is_z_feasible(z_values, original_df_copy2))\n",
        "\n",
        "    original_df_copy2.to_json(project_path + 'mod_bus_dataframe.json')\n",
        "    np.save(project_path + 'nominal_z_values.npy', z_values)\n",
        "\n",
        "\n",
        "    return\n",
        "\n",
        "# modify_bounds(added_bus_df)"
      ],
      "metadata": {
        "id": "aRiqzpGsNLAH"
      },
      "execution_count": 27,
      "outputs": []
    },
    {
      "cell_type": "markdown",
      "source": [
        "# Generate cost coefficients"
      ],
      "metadata": {
        "id": "gV4XuRAkWKOi"
      }
    },
    {
      "cell_type": "code",
      "source": [
        "def generate_costs():\n",
        "    df = pd.DataFrame(pd.read_json(project_path + 'mod_bus_dataframe.json'))\n",
        "\n",
        "    Qmax = df['Qmax'].to_numpy()\n",
        "    Qmin = df['Qmin'].to_numpy()\n",
        "    Pmax = df['Pmax'].to_numpy()\n",
        "    Pmin = df['Pmin'].to_numpy()\n",
        "\n",
        "    # random.seed(138206)\n",
        "    random.seed(12306)\n",
        "\n",
        "    cost_coefficients_list = []\n",
        "    count_distributed_gen = 0\n",
        "    distributed_gen_name_list = []\n",
        "    distributed_gen_idx_list = []\n",
        "\n",
        "    for i in range(num_nodes):\n",
        "        Pi_max = Pmax[i]\n",
        "        # Qi_min = Qmin[i]\n",
        "        if Pi_max <= 0: # a load\n",
        "            random_cost = np.round(-np.random.randint(1, num_nodes)/num_nodes, 2)*np.random.randint(1, 10)\n",
        "            cost_coefficients_list.append(random_cost)\n",
        "        else: # a generator\n",
        "            random_cost = np.round(np.random.randint(1, num_nodes)/num_nodes, 2)*np.random.randint(1, 10)\n",
        "            cost_coefficients_list.append(random_cost)\n",
        "\n",
        "            count_distributed_gen+=1\n",
        "            distributed_gen_name_list.append(bus_df.loc[i,'bus'])\n",
        "            distributed_gen_idx_list.append(i)\n",
        "\n",
        "    print('cost_coefficients_list:', cost_coefficients_list[-10:])\n",
        "    print('counts:', count_distributed_gen)\n",
        "    print('distributed_gen_name_list:', distributed_gen_name_list)\n",
        "    print('distributed_gen_idx_list:', distributed_gen_idx_list)\n",
        "\n",
        "    distributed_gencost_data = dict()\n",
        "    distributed_gencost_data['cost_coefficients'] = cost_coefficients_list\n",
        "    distributed_gencost_data['distributed_gen_name_list'] = distributed_gen_name_list\n",
        "    distributed_gencost_data['distributed_gen_idx_list'] = distributed_gen_idx_list\n",
        "\n",
        "    # Save the dictionary to the pickle file\n",
        "    with open(project_path+subproject2 + 'distributed_gencost_data.pkl', 'wb') as file:\n",
        "        pickle.dump(distributed_gencost_data, file)\n",
        "\n",
        "# generate_costs()"
      ],
      "metadata": {
        "id": "FBKEFwf1WN3l"
      },
      "execution_count": 28,
      "outputs": []
    },
    {
      "cell_type": "markdown",
      "source": [
        "# Proposed method"
      ],
      "metadata": {
        "id": "vex-8FgsaO16"
      }
    },
    {
      "cell_type": "markdown",
      "source": [
        "## Input a strictly feasible (interior) point"
      ],
      "metadata": {
        "id": "2Hws20JX7ee8"
      }
    },
    {
      "cell_type": "code",
      "source": [
        "mod_bus_df = pd.DataFrame(pd.read_json(project_path + 'mod_bus_dataframe.json'))\n",
        "\n",
        "Qmax = mod_bus_df['Qmax'].to_numpy()\n",
        "Qmin = mod_bus_df['Qmin'].to_numpy()\n",
        "Pmax = mod_bus_df['Pmax'].to_numpy()\n",
        "Pmin = mod_bus_df['Pmin'].to_numpy()"
      ],
      "metadata": {
        "id": "_lFiVsD_i2ZS"
      },
      "execution_count": 29,
      "outputs": []
    },
    {
      "cell_type": "code",
      "source": [
        "ITER_NUM = 3"
      ],
      "metadata": {
        "id": "uxt5pblGd97K"
      },
      "execution_count": 57,
      "outputs": []
    },
    {
      "cell_type": "code",
      "source": [
        "if ITER_NUM == 0:\n",
        "    z_interior = np.load(project_path + 'nominal_z_values.npy')\n",
        "    print('is it feasible?', is_z_feasible(z_interior, mod_bus_df))\n",
        "else:\n",
        "    z_interior = np.load(project_path+subproject2+'iter' + str(ITER_NUM) +'_z_interior.npy')"
      ],
      "metadata": {
        "id": "wd2_rhOZ4k09"
      },
      "execution_count": 58,
      "outputs": []
    },
    {
      "cell_type": "markdown",
      "source": [
        "## Linearize P, Q"
      ],
      "metadata": {
        "id": "a29oAciO6qRJ"
      }
    },
    {
      "cell_type": "code",
      "source": [
        "def f_prime(x):\n",
        "\n",
        "    return -x/np.sqrt(1-x**2)\n",
        "\n",
        "\n",
        "def Jacobian(z):\n",
        "    z = np.squeeze(z)\n",
        "\n",
        "    return np.diag(f_prime(z))\n",
        "\n",
        "\n",
        "def linearize_Pi(bus_i, z_base, z):\n",
        "    z_base = z_base.reshape(-1,1)\n",
        "\n",
        "    G_a_rowi = G_a[bus_i,:].reshape(1,-1)\n",
        "    B_a_rowi = B_a[bus_i,:].reshape(1,-1)\n",
        "\n",
        "    Pi_z_base = G_a_rowi @ np.sqrt(1-z_base**2) + B_a_rowi @ z_base + d_active[bus_i,0]\n",
        "    Pi_z_base = Pi_z_base[0,0]\n",
        "\n",
        "    dp_dz_base = G_a_rowi @ Jacobian(z_base) + B_a_rowi # a row vector\n",
        "    # print('dp_dz_base:', dp_dz_base.shape)\n",
        "    linearization = Pi_z_base + dp_dz_base @ (z-z_base)\n",
        "    # print('linearization:', linearization.shape)\n",
        "\n",
        "    return linearization[0,0]\n",
        "\n",
        "\n",
        "def linearize_Qi(bus_i, z_base, z):\n",
        "    z_base = z_base.reshape(-1,1)\n",
        "\n",
        "    B_r_rowi = B_r[bus_i,:].reshape(1,-1)\n",
        "    G_r_rowi = G_r[bus_i,:].reshape(1,-1)\n",
        "\n",
        "    Qi_z_base = B_r_rowi @ np.sqrt(1-z_base**2) + G_r_rowi @ z_base + d_reactive[bus_i,0]\n",
        "    Qi_z_base = Qi_z_base[0,0]\n",
        "\n",
        "    dq_dz_base = B_r_rowi @ Jacobian(z_base) + G_r_rowi # a row vector\n",
        "    # print('dp_dz_base:', dp_dz_base.shape)\n",
        "    linearization = Qi_z_base + dq_dz_base @ (z-z_base)\n",
        "    # print('linearization:', linearization.shape)\n",
        "\n",
        "    return linearization[0,0]\n"
      ],
      "metadata": {
        "id": "n6nsrUMPGJWh"
      },
      "execution_count": 48,
      "outputs": []
    },
    {
      "cell_type": "markdown",
      "source": [
        "## Find base points for each lower bound constraint"
      ],
      "metadata": {
        "id": "le8ldxOKjnAF"
      }
    },
    {
      "cell_type": "markdown",
      "source": [
        "### Find base points for Pi_min"
      ],
      "metadata": {
        "id": "EwMiaIOrU7MZ"
      }
    },
    {
      "cell_type": "code",
      "source": [
        "def basePoint_of_Pi(bus_name, z_nominal):\n",
        "\n",
        "    print('Linearize P{}...'.format(bus_name))\n",
        "    # print('An interior point is ', np.squeeze(z_nominal).tolist())\n",
        "\n",
        "    z_nominal = z_nominal.reshape(-1, 1)\n",
        "\n",
        "    bus_i = bus_to_numeric[bus_name]\n",
        "\n",
        "    # variable\n",
        "    z = cp.Variable(shape=(num_branches, 1))\n",
        "\n",
        "    # objective\n",
        "    minimal_distance = cp.norm(z-z_nominal, 2)\n",
        "\n",
        "    # add constraints\n",
        "    G_a_rowi = G_a[bus_i,:].reshape(1,-1)\n",
        "    B_a_rowi = B_a[bus_i,:].reshape(1,-1)\n",
        "\n",
        "    Pi_z = G_a_rowi @ cp.sqrt(1-cp.square(z)) + B_a_rowi @ z + d_active[bus_i,0]\n",
        "    constraints = [ Pi_z <= Pmin[bus_i] ]\n",
        "\n",
        "    problem = cp.Problem(cp.Minimize(minimal_distance), constraints)\n",
        "\n",
        "    # Indicate the solver when solving the problem\n",
        "    solver = cp.CVXOPT  # Replace with the solver of your choice\n",
        "    problem.solve(solver=solver, ignore_dpp=True)\n",
        "\n",
        "    if problem.status in [\"infeasible\", \"unbounded\"]:\n",
        "        print(5*' ' +\"Model not solved to (sub)optimality using CVXPY!!!\")\n",
        "        print(5*' ' +\"Solver status: \", problem.status)\n",
        "        # sys.exit(0)\n",
        "\n",
        "        return None\n",
        "\n",
        "    z_base = z.value\n",
        "    Pi_z_base = G_a_rowi @ np.sqrt(1-z_base**2) + B_a_rowi @ z_base + d_active[bus_i,0]\n",
        "    Pi_z_base = Pi_z_base[0,0]\n",
        "    # print(r'$P_i(z^{base})$:', Pi_z_base)\n",
        "    # print(r'$P_i^{\\min}$:', Pmin[bus_i])\n",
        "\n",
        "    print('Success!')\n",
        "\n",
        "\n",
        "    return np.squeeze(z_base).tolist()\n"
      ],
      "metadata": {
        "id": "gJ06sZO-jsXB"
      },
      "execution_count": 33,
      "outputs": []
    },
    {
      "cell_type": "code",
      "source": [
        "# basePoint_of_Pi(3, z_interior)"
      ],
      "metadata": {
        "id": "8KHJhNaBjsZ3"
      },
      "execution_count": 34,
      "outputs": []
    },
    {
      "cell_type": "markdown",
      "source": [
        "### Find base points for Qi_min"
      ],
      "metadata": {
        "id": "IZuZ6ql1U3bl"
      }
    },
    {
      "cell_type": "code",
      "source": [
        "def basePoint_of_Qi(bus_name, z_nominal):\n",
        "    print('Linearize Q{}...'.format(bus_name))\n",
        "    # print('An interior point is ', np.squeeze(z_nominal).tolist())\n",
        "\n",
        "    z_nominal = z_nominal.reshape(-1, 1)\n",
        "\n",
        "    bus_i = bus_to_numeric[bus_name]\n",
        "\n",
        "    # variable\n",
        "    z = cp.Variable(shape=(num_branches, 1))\n",
        "\n",
        "    # objective\n",
        "    minimal_distance = cp.norm(z-z_nominal, 2)\n",
        "\n",
        "    # add constraints\n",
        "    B_r_rowi = B_r[bus_i,:].reshape(1,-1)\n",
        "    G_r_rowi = G_r[bus_i,:].reshape(1,-1)\n",
        "\n",
        "    Qi_z = B_r_rowi @ cp.sqrt(1-cp.square(z)) + G_r_rowi @ z + d_reactive[bus_i,0]\n",
        "    Qi_z = Qi_z[0,0]\n",
        "\n",
        "    constraints = [ Qi_z <= Qmin[bus_i] ]\n",
        "\n",
        "    problem = cp.Problem(cp.Minimize(minimal_distance), constraints)\n",
        "\n",
        "    # Indicate the solver when solving the problem\n",
        "    solver = cp.CVXOPT  # Replace with the solver of your choice\n",
        "    problem.solve(solver=solver, ignore_dpp=True)\n",
        "\n",
        "    if problem.status in [\"infeasible\", \"unbounded\"]:\n",
        "        print(5*' ' +\"Model not solved to (sub)optimality using CVXPY!!!\")\n",
        "        print(5*' ' +\"Solver status: \", problem.status)\n",
        "        # sys.exit(0)\n",
        "\n",
        "        return None\n",
        "\n",
        "    z_base = z.value\n",
        "    Qi_z_base = B_r_rowi @ np.sqrt(1-z_base**2) + G_r_rowi @ z_base + d_reactive[bus_i,0]\n",
        "    Qi_z_base = Qi_z_base[0,0]\n",
        "    # print(r'$Q_i(z^{base})$:', Qi_z_base)\n",
        "    # print(r'$Q_i^{\\min}$:', Qmin[bus_i])\n",
        "    print('Success!')\n",
        "\n",
        "\n",
        "    return np.squeeze(z_base).tolist()\n"
      ],
      "metadata": {
        "id": "dTPxiPfyjscv"
      },
      "execution_count": 35,
      "outputs": []
    },
    {
      "cell_type": "code",
      "source": [
        "# basePoint_of_Qi(2, z_interior)"
      ],
      "metadata": {
        "id": "spIqBLwojsfF"
      },
      "execution_count": 36,
      "outputs": []
    },
    {
      "cell_type": "markdown",
      "source": [
        "### Save base points"
      ],
      "metadata": {
        "id": "IYbwYnSTbiX9"
      }
    },
    {
      "cell_type": "code",
      "source": [
        "all_bus_names = bus_df['bus'].to_numpy()\n",
        "# print('all_bus_names:', all_bus_names)\n",
        "\n",
        "Pi_basePoints = dict()\n",
        "Qi_basePoints = dict()\n",
        "\n",
        "for bus_name in all_bus_names:\n",
        "    Pi_basePoints[bus_name] = basePoint_of_Pi(bus_name, z_interior)\n",
        "    Qi_basePoints[bus_name] = basePoint_of_Qi(bus_name, z_interior)\n",
        "\n",
        "# print('Pi_basePoints:', Pi_basePoints)\n",
        "# print('Qi_basePoints:', Qi_basePoints)\n"
      ],
      "metadata": {
        "colab": {
          "base_uri": "https://localhost:8080/"
        },
        "id": "1xokqRmrXbRv",
        "outputId": "0de59153-e2c5-4178-e1f3-0299181e2226"
      },
      "execution_count": 59,
      "outputs": [
        {
          "output_type": "stream",
          "name": "stdout",
          "text": [
            "Linearize P1...\n",
            "Success!\n",
            "Linearize Q1...\n",
            "Success!\n",
            "Linearize P2...\n",
            "Success!\n",
            "Linearize Q2...\n",
            "Success!\n",
            "Linearize P3...\n",
            "Success!\n",
            "Linearize Q3...\n",
            "Success!\n",
            "Linearize P4...\n",
            "Success!\n",
            "Linearize Q4...\n",
            "Success!\n",
            "Linearize P5...\n",
            "Success!\n",
            "Linearize Q5...\n",
            "Success!\n",
            "Linearize P6...\n",
            "Success!\n",
            "Linearize Q6...\n",
            "Success!\n",
            "Linearize P7...\n",
            "Success!\n",
            "Linearize Q7...\n",
            "Success!\n",
            "Linearize P8...\n",
            "Success!\n",
            "Linearize Q8...\n",
            "Success!\n",
            "Linearize P9...\n",
            "Success!\n",
            "Linearize Q9...\n",
            "Success!\n",
            "Linearize P10...\n",
            "Success!\n",
            "Linearize Q10...\n",
            "Success!\n",
            "Linearize P11...\n",
            "Success!\n",
            "Linearize Q11...\n",
            "Success!\n",
            "Linearize P12...\n",
            "Success!\n",
            "Linearize Q12...\n",
            "Success!\n",
            "Linearize P13...\n",
            "Success!\n",
            "Linearize Q13...\n",
            "Success!\n",
            "Linearize P14...\n",
            "Success!\n",
            "Linearize Q14...\n",
            "Success!\n",
            "Linearize P15...\n",
            "Success!\n",
            "Linearize Q15...\n",
            "Success!\n",
            "Linearize P16...\n",
            "Success!\n",
            "Linearize Q16...\n",
            "Success!\n",
            "Linearize P17...\n",
            "Success!\n",
            "Linearize Q17...\n",
            "Success!\n",
            "Linearize P18...\n",
            "Success!\n",
            "Linearize Q18...\n",
            "Success!\n",
            "Linearize P19...\n",
            "Success!\n",
            "Linearize Q19...\n",
            "Success!\n",
            "Linearize P20...\n",
            "Success!\n",
            "Linearize Q20...\n",
            "Success!\n",
            "Linearize P21...\n",
            "Success!\n",
            "Linearize Q21...\n",
            "Success!\n",
            "Linearize P22...\n",
            "Success!\n",
            "Linearize Q22...\n",
            "Success!\n",
            "Linearize P23...\n",
            "Success!\n",
            "Linearize Q23...\n",
            "Success!\n",
            "Linearize P24...\n",
            "Success!\n",
            "Linearize Q24...\n",
            "Success!\n",
            "Linearize P25...\n",
            "Success!\n",
            "Linearize Q25...\n",
            "Success!\n",
            "Linearize P26...\n",
            "Success!\n",
            "Linearize Q26...\n",
            "Success!\n",
            "Linearize P27...\n",
            "Success!\n",
            "Linearize Q27...\n",
            "Success!\n",
            "Linearize P28...\n",
            "Success!\n",
            "Linearize Q28...\n",
            "Success!\n",
            "Linearize P29...\n",
            "Success!\n",
            "Linearize Q29...\n",
            "Success!\n",
            "Linearize P30...\n",
            "Success!\n",
            "Linearize Q30...\n",
            "Success!\n",
            "Linearize P31...\n",
            "Success!\n",
            "Linearize Q31...\n",
            "Success!\n",
            "Linearize P32...\n",
            "Success!\n",
            "Linearize Q32...\n",
            "Success!\n",
            "Linearize P33...\n",
            "Success!\n",
            "Linearize Q33...\n",
            "Success!\n",
            "Linearize P34...\n",
            "Success!\n",
            "Linearize Q34...\n",
            "Success!\n",
            "Linearize P35...\n",
            "Success!\n",
            "Linearize Q35...\n",
            "Success!\n",
            "Linearize P36...\n",
            "Success!\n",
            "Linearize Q36...\n",
            "Success!\n",
            "Linearize P37...\n",
            "Success!\n",
            "Linearize Q37...\n",
            "Success!\n",
            "Linearize P38...\n",
            "Success!\n",
            "Linearize Q38...\n",
            "Success!\n",
            "Linearize P39...\n",
            "Success!\n",
            "Linearize Q39...\n",
            "Success!\n",
            "Linearize P40...\n",
            "Success!\n",
            "Linearize Q40...\n",
            "Success!\n",
            "Linearize P41...\n",
            "Success!\n",
            "Linearize Q41...\n",
            "Success!\n",
            "Linearize P42...\n",
            "Success!\n",
            "Linearize Q42...\n",
            "Success!\n",
            "Linearize P43...\n",
            "Success!\n",
            "Linearize Q43...\n",
            "Success!\n",
            "Linearize P44...\n",
            "Success!\n",
            "Linearize Q44...\n",
            "Success!\n",
            "Linearize P45...\n",
            "Success!\n",
            "Linearize Q45...\n",
            "Success!\n",
            "Linearize P46...\n",
            "Success!\n",
            "Linearize Q46...\n",
            "Success!\n",
            "Linearize P47...\n",
            "Success!\n",
            "Linearize Q47...\n",
            "Success!\n",
            "Linearize P48...\n",
            "Success!\n",
            "Linearize Q48...\n",
            "Success!\n",
            "Linearize P49...\n",
            "Success!\n",
            "Linearize Q49...\n",
            "Success!\n",
            "Linearize P50...\n",
            "Success!\n",
            "Linearize Q50...\n",
            "Success!\n",
            "Linearize P51...\n",
            "Success!\n",
            "Linearize Q51...\n",
            "Success!\n",
            "Linearize P52...\n",
            "Success!\n",
            "Linearize Q52...\n",
            "Success!\n",
            "Linearize P53...\n",
            "Success!\n",
            "Linearize Q53...\n",
            "Success!\n",
            "Linearize P54...\n",
            "Success!\n",
            "Linearize Q54...\n",
            "Success!\n",
            "Linearize P55...\n",
            "Success!\n",
            "Linearize Q55...\n",
            "Success!\n",
            "Linearize P56...\n",
            "Success!\n",
            "Linearize Q56...\n",
            "Success!\n",
            "Linearize P57...\n",
            "Success!\n",
            "Linearize Q57...\n",
            "Success!\n",
            "Linearize P58...\n",
            "Success!\n",
            "Linearize Q58...\n",
            "Success!\n",
            "Linearize P59...\n",
            "Success!\n",
            "Linearize Q59...\n",
            "Success!\n",
            "Linearize P60...\n",
            "Success!\n",
            "Linearize Q60...\n",
            "Success!\n",
            "Linearize P61...\n",
            "Success!\n",
            "Linearize Q61...\n",
            "Success!\n",
            "Linearize P62...\n",
            "Success!\n",
            "Linearize Q62...\n",
            "Success!\n",
            "Linearize P63...\n",
            "Success!\n",
            "Linearize Q63...\n",
            "Success!\n",
            "Linearize P64...\n",
            "Success!\n",
            "Linearize Q64...\n",
            "Success!\n",
            "Linearize P65...\n",
            "Success!\n",
            "Linearize Q65...\n",
            "Success!\n",
            "Linearize P66...\n",
            "Success!\n",
            "Linearize Q66...\n",
            "Success!\n",
            "Linearize P67...\n",
            "Success!\n",
            "Linearize Q67...\n",
            "Success!\n",
            "Linearize P68...\n",
            "Success!\n",
            "Linearize Q68...\n",
            "Success!\n",
            "Linearize P69...\n",
            "Success!\n",
            "Linearize Q69...\n",
            "Success!\n",
            "Linearize P70...\n",
            "Success!\n",
            "Linearize Q70...\n",
            "Success!\n",
            "Linearize P71...\n",
            "Success!\n",
            "Linearize Q71...\n",
            "Success!\n",
            "Linearize P72...\n",
            "Success!\n",
            "Linearize Q72...\n",
            "Success!\n",
            "Linearize P73...\n",
            "Success!\n",
            "Linearize Q73...\n",
            "Success!\n",
            "Linearize P74...\n",
            "Success!\n",
            "Linearize Q74...\n",
            "Success!\n",
            "Linearize P75...\n",
            "Success!\n",
            "Linearize Q75...\n",
            "Success!\n",
            "Linearize P76...\n",
            "Success!\n",
            "Linearize Q76...\n",
            "Success!\n",
            "Linearize P77...\n",
            "Success!\n",
            "Linearize Q77...\n",
            "Success!\n",
            "Linearize P78...\n",
            "Success!\n",
            "Linearize Q78...\n",
            "Success!\n",
            "Linearize P79...\n",
            "Success!\n",
            "Linearize Q79...\n",
            "Success!\n",
            "Linearize P80...\n",
            "Success!\n",
            "Linearize Q80...\n",
            "Success!\n",
            "Linearize P81...\n",
            "Success!\n",
            "Linearize Q81...\n",
            "Success!\n",
            "Linearize P82...\n",
            "Success!\n",
            "Linearize Q82...\n",
            "Success!\n",
            "Linearize P83...\n",
            "Success!\n",
            "Linearize Q83...\n",
            "Success!\n",
            "Linearize P84...\n",
            "Success!\n",
            "Linearize Q84...\n",
            "Success!\n",
            "Linearize P85...\n",
            "Success!\n",
            "Linearize Q85...\n",
            "Success!\n",
            "Linearize P86...\n",
            "Success!\n",
            "Linearize Q86...\n",
            "Success!\n",
            "Linearize P87...\n",
            "Success!\n",
            "Linearize Q87...\n",
            "Success!\n",
            "Linearize P88...\n",
            "Success!\n",
            "Linearize Q88...\n",
            "Success!\n",
            "Linearize P89...\n",
            "Success!\n",
            "Linearize Q89...\n",
            "Success!\n",
            "Linearize P90...\n",
            "Success!\n",
            "Linearize Q90...\n",
            "Success!\n",
            "Linearize P91...\n",
            "Success!\n",
            "Linearize Q91...\n",
            "Success!\n",
            "Linearize P92...\n",
            "Success!\n",
            "Linearize Q92...\n",
            "Success!\n",
            "Linearize P93...\n",
            "Success!\n",
            "Linearize Q93...\n",
            "Success!\n",
            "Linearize P94...\n",
            "Success!\n",
            "Linearize Q94...\n",
            "Success!\n",
            "Linearize P95...\n",
            "Success!\n",
            "Linearize Q95...\n",
            "Success!\n",
            "Linearize P96...\n",
            "Success!\n",
            "Linearize Q96...\n",
            "Success!\n",
            "Linearize P97...\n",
            "Success!\n",
            "Linearize Q97...\n",
            "Success!\n",
            "Linearize P98...\n",
            "Success!\n",
            "Linearize Q98...\n",
            "Success!\n",
            "Linearize P99...\n",
            "Success!\n",
            "Linearize Q99...\n",
            "Success!\n",
            "Linearize P100...\n",
            "Success!\n",
            "Linearize Q100...\n",
            "Success!\n",
            "Linearize P101...\n",
            "Success!\n",
            "Linearize Q101...\n",
            "Success!\n",
            "Linearize P102...\n",
            "Success!\n",
            "Linearize Q102...\n",
            "Success!\n",
            "Linearize P103...\n",
            "Success!\n",
            "Linearize Q103...\n",
            "Success!\n",
            "Linearize P104...\n",
            "Success!\n",
            "Linearize Q104...\n",
            "Success!\n",
            "Linearize P105...\n",
            "Success!\n",
            "Linearize Q105...\n",
            "Success!\n",
            "Linearize P106...\n",
            "Success!\n",
            "Linearize Q106...\n",
            "Success!\n",
            "Linearize P107...\n",
            "Success!\n",
            "Linearize Q107...\n",
            "Success!\n",
            "Linearize P108...\n",
            "Success!\n",
            "Linearize Q108...\n",
            "Success!\n",
            "Linearize P109...\n",
            "Success!\n",
            "Linearize Q109...\n",
            "Success!\n",
            "Linearize P110...\n",
            "Success!\n",
            "Linearize Q110...\n",
            "Success!\n",
            "Linearize P111...\n",
            "Success!\n",
            "Linearize Q111...\n",
            "Success!\n",
            "Linearize P112...\n",
            "Success!\n",
            "Linearize Q112...\n",
            "Success!\n",
            "Linearize P113...\n",
            "Success!\n",
            "Linearize Q113...\n",
            "Success!\n",
            "Linearize P114...\n",
            "Success!\n",
            "Linearize Q114...\n",
            "     Model not solved to (sub)optimality using CVXPY!!!\n",
            "     Solver status:  infeasible\n"
          ]
        }
      ]
    },
    {
      "cell_type": "markdown",
      "source": [
        "# Minimize generation costs"
      ],
      "metadata": {
        "id": "u8lnZUBebtlE"
      }
    },
    {
      "cell_type": "code",
      "source": [
        "with open(project_path+subproject2 + 'distributed_gencost_data.pkl', 'rb') as file:\n",
        "    distributed_gencost_data = pickle.load(file)\n",
        "\n",
        "buscosts = np.array(distributed_gencost_data['cost_coefficients'])\n",
        "genidx = np.array(distributed_gencost_data['distributed_gen_idx_list'])\n",
        "gencosts = buscosts[genidx]\n",
        "\n",
        "genidx = genidx\n",
        "gencosts = gencosts.reshape(-1,1)\n",
        "\n",
        "print(genidx.shape)\n",
        "print(gencosts.shape)"
      ],
      "metadata": {
        "colab": {
          "base_uri": "https://localhost:8080/"
        },
        "id": "V-KD-orYr4uj",
        "outputId": "d03b46cf-14ce-4852-e6b7-ac7b5e11847c"
      },
      "execution_count": 45,
      "outputs": [
        {
          "output_type": "stream",
          "name": "stdout",
          "text": [
            "(18,)\n",
            "(18, 1)\n"
          ]
        }
      ]
    },
    {
      "cell_type": "code",
      "source": [
        "print(np.squeeze(gencosts))\n",
        "print(np.squeeze(Pmin[genidx]))"
      ],
      "metadata": {
        "colab": {
          "base_uri": "https://localhost:8080/"
        },
        "id": "XlTR9CV70jcz",
        "outputId": "2d3a6f38-2086-428d-df0d-ea1a3d1953fc"
      },
      "execution_count": 39,
      "outputs": [
        {
          "output_type": "stream",
          "name": "stdout",
          "text": [
            "[1.02 3.42 5.4  0.4  0.87 1.38 2.4  7.84 7.56 1.56 1.56 2.07 4.96 2.67\n",
            " 4.85 2.66 1.25 6.51]\n",
            "[0 0 0 0 0 0 0 0 0 0 0 0 0 0 0 0 0 0]\n"
          ]
        }
      ]
    },
    {
      "cell_type": "code",
      "source": [
        "def min_costs(iteration_number):\n",
        "    save_path = project_path+subproject2+our_method_path\n",
        "\n",
        "    p_max = Pmax.reshape(-1, 1)\n",
        "    p_min = Pmin.reshape(-1, 1)\n",
        "    q_max = Qmax.reshape(-1, 1)\n",
        "    q_min = Qmin.reshape(-1, 1)\n",
        "\n",
        "    ## ------ CVXPY Environment: Define the problem ------ ##\n",
        "    # variables\n",
        "    # state = cp.Variable(shape=(2, 1), nonneg=True)\n",
        "    z = cp.Variable(shape=(num_branches, 1))\n",
        "\n",
        "    # expressions\n",
        "    p = cp_p_in_transformed_space(z)# active nodal power\n",
        "    q = cp_q_in_transformed_space(z)# reactive nodal power\n",
        "    # p_basePoint = get_p_basePoint()\n",
        "    # q_basePoint = get_q_basePoint()\n",
        "\n",
        "    # linearized_p = # linearize active nodal power function\n",
        "    # linearized_q = # linearize reactive nodal power function\n",
        "\n",
        "    # objective\n",
        "    total_gencosts = cp.sum(gencosts.T@p[genidx]) # sum of active nodal power at generators\n",
        "    # total_losses = cp.sum(p) # total transmission losses\n",
        "\n",
        "    # constraints\n",
        "    constraints = [\n",
        "                    z >= -1,\n",
        "                    z <= 1,\n",
        "                    p <= p_max,\n",
        "                    q <= q_max\n",
        "    ]\n",
        "    # add linearized constraints\n",
        "    for bus_i, bus_name in enumerate(bus_lists):\n",
        "        # print('bus name is {}, index is {}'.format(bus_name, bus_i))\n",
        "        base_point = Pi_basePoints[bus_name]\n",
        "        if base_point is not None:\n",
        "            z_base = np.array(base_point).reshape(-1,1)\n",
        "            constraints += [linearize_Pi(bus_i, z_base, z)>=Pmin[bus_i]]\n",
        "\n",
        "    for bus_i, bus_name in enumerate(bus_lists):\n",
        "        base_point = Qi_basePoints[bus_name]\n",
        "        if base_point is not None:\n",
        "            z_base = np.array(base_point).reshape(-1,1)\n",
        "            constraints += [linearize_Qi(bus_i, z_base, z)>=Qmin[bus_i]]\n",
        "\n",
        "    # problem = cp.Problem(cp.Minimize(total_losses), constraints)\n",
        "    problem = cp.Problem(cp.Minimize(total_gencosts), constraints)\n",
        "\n",
        "    # problem.solve(ignore_dpp=True)\n",
        "\n",
        "    # Indicate the solver when solving the problem\n",
        "    solver = cp.CVXOPT  # Replace with the solver of your choice\n",
        "    problem.solve(solver=solver, ignore_dpp=True)\n",
        "\n",
        "    if problem.status in [\"infeasible\", \"unbounded\"]:\n",
        "        print(5*' ' +\"Model not solved to (sub)optimality using CVXPY!!!\")\n",
        "        print(5*' ' +\"Solver status: \", problem.status)\n",
        "        sys.exit(0)\n",
        "    z_solution  = z.value\n",
        "\n",
        "    # print('Optimal z solution:\\n', z_solution)\n",
        "    # phase_angle_solution = recover_phase_angle(z_solution)\n",
        "    # # phase_diff_solution = np.arcsin(z_solution)\n",
        "\n",
        "    optimal_objective_value = total_gencosts.value\n",
        "    # optimal_objective_value = total_generation.value\n",
        "    print('Minimal total costs:\\n', optimal_objective_value)\n",
        "\n",
        "    z_solution = z_solution.reshape(-1,1)\n",
        "    p_solution = np.array([round(x, 3) for x in np.squeeze(p.value)]).reshape(-1,1)\n",
        "    q_solution = np.array([round(x, 3) for x in np.squeeze(q.value)]).reshape(-1,1)\n",
        "\n",
        "\n",
        "    min_costs_results = dict()\n",
        "    min_costs_results['p_solution'] = np.squeeze(p_solution)\n",
        "    min_costs_results['q_solution'] = np.squeeze(q_solution)\n",
        "    min_costs_results['z_solution'] = np.squeeze(z_solution)\n",
        "\n",
        "    # Save the dictionary to the pickle file\n",
        "    with open(save_path + 'iter' + str(iteration_number) +'_min_costs_results.pkl', 'wb') as file:\n",
        "        pickle.dump(min_costs_results, file)\n",
        "\n",
        "    # with open(filename, 'rb') as file:\n",
        "    #     read_file = pickle.load(file)\n",
        "\n",
        "    results = np.concatenate([p_max, p_solution, p_min, q_max, q_solution, q_min], axis=1)\n",
        "    column_names = ['p_max', 'p_solution', 'p_min', 'q_max', 'q_solution', 'q_min']\n",
        "    results_df = pd.DataFrame(results, columns=column_names)\n",
        "    print(results_df)\n",
        "\n",
        "    np.save(project_path+subproject2+'iter' + str(iteration_number+1) +'_z_interior', z_solution)\n",
        "\n",
        "    return\n"
      ],
      "metadata": {
        "id": "Fxh7xqz1bvVR"
      },
      "execution_count": 60,
      "outputs": []
    },
    {
      "cell_type": "code",
      "source": [
        "min_costs(ITER_NUM)"
      ],
      "metadata": {
        "id": "OBpuHy67bvZw",
        "colab": {
          "base_uri": "https://localhost:8080/"
        },
        "outputId": "11fcfc7a-6bfd-4289-9997-1fea84c1016c"
      },
      "execution_count": 61,
      "outputs": [
        {
          "output_type": "stream",
          "name": "stdout",
          "text": [
            "Minimal total costs:\n",
            " 176.63766736202516\n",
            "          p_max  p_solution  p_min       q_max  q_solution       q_min\n",
            "0     27.908664       5.706    0.0   71.990105       0.126    0.020000\n",
            "1     -0.200000      -0.200  -10.0   10.000000       0.197    0.010000\n",
            "2      0.040743       0.012    0.0   10.000000       0.000    0.000000\n",
            "3     -0.400000      -0.400  -10.0   10.000000       0.395    0.020000\n",
            "4     -0.200000      -0.200  -10.0   10.000000       0.202    0.010000\n",
            "..          ...         ...    ...         ...         ...         ...\n",
            "109    0.063596       0.000    0.0   10.000000       0.012   -0.015231\n",
            "110   -0.200000      -0.200  -10.0   10.000000       0.198    0.010000\n",
            "111   -0.200000      -0.200  -10.0   10.000000       0.205    0.010000\n",
            "112   -0.400000      -0.400  -10.0   10.000000       0.400    0.020000\n",
            "113  200.000000      22.692    0.0  200.000000      -8.019 -200.000000\n",
            "\n",
            "[114 rows x 6 columns]\n"
          ]
        }
      ]
    },
    {
      "cell_type": "markdown",
      "source": [
        "# SOCP relaxation"
      ],
      "metadata": {
        "id": "ZID_Pepnlw1M"
      }
    },
    {
      "cell_type": "code",
      "source": [
        "def p_socp(R, I):\n",
        "\n",
        "    return G_a @ R + B_a @ I + d_active\n",
        "\n",
        "def q_socp(R, I):\n",
        "\n",
        "    return B_r @ R + G_r @ I + d_reactive\n"
      ],
      "metadata": {
        "id": "-vVDoTssrHOb"
      },
      "execution_count": 42,
      "outputs": []
    },
    {
      "cell_type": "code",
      "source": [
        "def socp_relaxation_mincosts():\n",
        "    save_path = project_path+subproject2+socp_path\n",
        "\n",
        "    p_max = Pmax.reshape(-1, 1)\n",
        "    p_min = Pmin.reshape(-1, 1)\n",
        "    q_max = Qmax.reshape(-1, 1)\n",
        "    q_min = Qmin.reshape(-1, 1)\n",
        "\n",
        "    # Define and solve the CVXPY problem.\n",
        "    R = cp.Variable(shape=(num_branches, 1))\n",
        "    I = cp.Variable(shape=(num_branches, 1))\n",
        "\n",
        "    p = p_socp(R, I)# active nodal power\n",
        "    q = q_socp(R, I)# reactive nodal power\n",
        "\n",
        "    # objective\n",
        "    total_gencosts = cp.sum(gencosts.T@p[genidx]) # total transmission losses\n",
        "\n",
        "    # We use cp.SOC(t, x) to create the SOC constraint ||x||_2 <= t.\n",
        "    # soc_constraints = [\n",
        "    #     cp.SOC(c[i].T @ x + d[i], A[i] @ x + b[i]) for i in range(m)\n",
        "    # ]\n",
        "\n",
        "    # constraints\n",
        "    constraints = [\n",
        "                    R >= 0,\n",
        "                    p <= p_max,\n",
        "                    p >= p_min,\n",
        "                    q <= q_max,\n",
        "                    q >= q_min,\n",
        "                    cp.square(R) + cp.square(I) <= 1\n",
        "    ]\n",
        "\n",
        "    prob = cp.Problem(cp.Minimize(total_gencosts), constraints)\n",
        "    prob.solve()\n",
        "\n",
        "    if prob.status in [\"infeasible\", \"unbounded\"]:\n",
        "        print(5*' ' +\"Model not solved to (sub)optimality using CVXPY!!!\")\n",
        "        print(5*' ' +\"Solver status: \", prob.status)\n",
        "        sys.exit(0)\n",
        "\n",
        "    # Print result.\n",
        "    print(\"The optimal value is\", prob.value)\n",
        "    # print(\"A solution x is\")\n",
        "    # print(x.value)\n",
        "    # for i in range(m):\n",
        "    #     print(\"SOC constraint %i dual variable solution\" % i)\n",
        "    #     print(soc_constraints[i].dual_value)\n",
        "\n",
        "    R_solution = R.value\n",
        "    I_solution = I.value\n",
        "    per_line_slack = R_solution**2 + I_solution**2\n",
        "    avg_slack = np.mean(R_solution**2 + I_solution**2 - 1)\n",
        "    print('avg_slack:', avg_slack)\n",
        "    print('per line:', np.squeeze(per_line_slack).tolist())\n",
        "\n",
        "    threshold = 0.98\n",
        "    for i, each in enumerate(np.squeeze(per_line_slack)):\n",
        "        if each <= threshold:\n",
        "            print('{}-th line has slack {}'.format(i, each))"
      ],
      "metadata": {
        "id": "1sc5jCzebvdF"
      },
      "execution_count": 43,
      "outputs": []
    },
    {
      "cell_type": "code",
      "source": [
        "socp_relaxation_mincosts()"
      ],
      "metadata": {
        "colab": {
          "base_uri": "https://localhost:8080/"
        },
        "id": "7GNQi_wyuWMY",
        "outputId": "a2ad031b-b9c4-418d-cd36-843b05b0da89"
      },
      "execution_count": 44,
      "outputs": [
        {
          "output_type": "stream",
          "name": "stdout",
          "text": [
            "The optimal value is 39.970768104196814\n",
            "avg_slack: -0.0008423686286453938\n",
            "per line: [0.9999998127438893, 0.9999998744526433, 0.995597619928564, 0.9999996517860547, 0.9999997918385912, 0.9999997180771705, 0.9999571929769911, 0.9999998614090676, 0.9999998630003784, 0.9495259317399971, 0.9999999707140846, 0.9999999597576735, 0.9999996963639405, 0.9999998865365629, 0.9999999066709729, 0.9999999445970097, 1.0000023202695216, 1.000002270819309, 0.9999998122379494, 0.9999998965672838, 0.9999999225723863, 0.9999998148682094, 0.9999999051102005, 0.9989438711602359, 0.999999937139968, 0.9999456490878921, 0.9999284787818752, 0.999999772729304, 0.9998261771351501, 0.9999998451442373, 0.9999998917381014, 0.9999998342236217, 0.9999998704273866, 0.999999756004117, 1.0000080675680865, 0.9999897784256357, 0.9999998061731847, 0.999999783103476, 0.9999997435114155, 0.9999998910094253, 0.9999998391498289, 0.9999998159893372, 0.9999998973190881, 0.9997070973473245, 0.9999998218120127, 0.9996822742237682, 0.999999750950465, 0.9999996740702969, 0.9999998131925365, 0.9999998001659687, 0.9999998025813417, 0.9999998207061559, 0.9999997914827102, 0.9999998660916414, 0.9999998862434698, 0.9999998243360165, 0.9999997609916185, 0.9999999126395803, 0.9999997491109544, 0.9999995601309759, 0.9916753973768608, 0.9999988651068824, 0.9999993792912856, 0.9999994044567813, 0.9999991318559284, 0.9999997156362325, 0.9985794143256375, 0.9999997929161777, 0.999999774947599, 0.9999998212458242, 0.999999775385847, 0.9999998545865433, 0.9993004371963312, 0.9999997597686089, 0.9999997774306328, 0.999999863880346, 0.9999999218523895, 1.000004896196881, 1.0000022011885976, 1.0000010854115664, 0.9997764460253198, 0.9998717820566879, 0.9999999449816503, 0.9999998176649175, 0.9999998376377918, 0.9999999227677595, 0.9999997183847573, 0.9997088242078908, 0.9999997944641931, 0.9997721691756818, 0.9999998201959772, 0.999999851899613, 0.9999997819104309, 0.9997384633981563, 0.9999997893457262, 0.9999998027560648, 0.9995515736674153, 0.9999998974941435, 0.9999998252902561, 0.9999998269265614, 0.9987463192913316, 0.9999997257918655, 0.9999998686366541, 0.999999734078377, 0.9992898636880759, 0.9999998934790433, 0.9999999080785387, 0.9999998635200132, 0.9999999220718527, 0.9999996905087645, 0.9999998189318904, 0.9999997395771296, 0.9756943000649304]\n",
            "9-th line has slack 0.9495259317399971\n",
            "112-th line has slack 0.9756943000649304\n"
          ]
        }
      ]
    },
    {
      "cell_type": "code",
      "source": [],
      "metadata": {
        "id": "iZd204gWueEA"
      },
      "execution_count": 44,
      "outputs": []
    }
  ]
}