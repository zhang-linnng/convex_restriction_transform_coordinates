{
  "nbformat": 4,
  "nbformat_minor": 0,
  "metadata": {
    "colab": {
      "provenance": [],
      "toc_visible": true,
      "authorship_tag": "ABX9TyPDTTj8axzjpJZj2G+Q9uyn",
      "include_colab_link": true
    },
    "kernelspec": {
      "name": "python3",
      "display_name": "Python 3"
    },
    "language_info": {
      "name": "python"
    }
  },
  "cells": [
    {
      "cell_type": "markdown",
      "metadata": {
        "id": "view-in-github",
        "colab_type": "text"
      },
      "source": [
        "<a href=\"https://colab.research.google.com/github/zhang-linnng/convex_restriction_transformed/blob/main/seach_updated0829_convexRestriction_WB3.ipynb\" target=\"_parent\"><img src=\"https://colab.research.google.com/assets/colab-badge.svg\" alt=\"Open In Colab\"/></a>"
      ]
    },
    {
      "cell_type": "code",
      "execution_count": 2,
      "metadata": {
        "colab": {
          "base_uri": "https://localhost:8080/"
        },
        "id": "Y4-kNrmhk1lO",
        "outputId": "56c3e4cf-60b2-4deb-cbd1-757948bb7de8"
      },
      "outputs": [
        {
          "output_type": "stream",
          "name": "stdout",
          "text": [
            "Mounted at /content/gdrive\n"
          ]
        }
      ],
      "source": [
        "from google.colab import drive\n",
        "drive.mount('/content/gdrive')"
      ]
    },
    {
      "cell_type": "code",
      "source": [
        "!apt-get install -y -qq glpk-utils\n",
        "!apt-get install -y -qq libglpk-dev\n",
        "!pip install cvxpy"
      ],
      "metadata": {
        "colab": {
          "base_uri": "https://localhost:8080/"
        },
        "id": "O5dQWj9m0oR-",
        "outputId": "a49a0af0-37dd-445a-ba18-fd53f8fda676"
      },
      "execution_count": 3,
      "outputs": [
        {
          "output_type": "stream",
          "name": "stdout",
          "text": [
            "Selecting previously unselected package libsuitesparseconfig5:amd64.\n",
            "(Reading database ... 120831 files and directories currently installed.)\n",
            "Preparing to unpack .../libsuitesparseconfig5_1%3a5.10.1+dfsg-4build1_amd64.deb ...\n",
            "Unpacking libsuitesparseconfig5:amd64 (1:5.10.1+dfsg-4build1) ...\n",
            "Selecting previously unselected package libamd2:amd64.\n",
            "Preparing to unpack .../libamd2_1%3a5.10.1+dfsg-4build1_amd64.deb ...\n",
            "Unpacking libamd2:amd64 (1:5.10.1+dfsg-4build1) ...\n",
            "Selecting previously unselected package libcolamd2:amd64.\n",
            "Preparing to unpack .../libcolamd2_1%3a5.10.1+dfsg-4build1_amd64.deb ...\n",
            "Unpacking libcolamd2:amd64 (1:5.10.1+dfsg-4build1) ...\n",
            "Selecting previously unselected package libglpk40:amd64.\n",
            "Preparing to unpack .../libglpk40_5.0-1_amd64.deb ...\n",
            "Unpacking libglpk40:amd64 (5.0-1) ...\n",
            "Selecting previously unselected package glpk-utils.\n",
            "Preparing to unpack .../glpk-utils_5.0-1_amd64.deb ...\n",
            "Unpacking glpk-utils (5.0-1) ...\n",
            "Setting up libsuitesparseconfig5:amd64 (1:5.10.1+dfsg-4build1) ...\n",
            "Setting up libamd2:amd64 (1:5.10.1+dfsg-4build1) ...\n",
            "Setting up libcolamd2:amd64 (1:5.10.1+dfsg-4build1) ...\n",
            "Setting up libglpk40:amd64 (5.0-1) ...\n",
            "Setting up glpk-utils (5.0-1) ...\n",
            "Processing triggers for man-db (2.10.2-1) ...\n",
            "Processing triggers for libc-bin (2.35-0ubuntu3.1) ...\n",
            "/sbin/ldconfig.real: /usr/local/lib/libtbbmalloc_proxy.so.2 is not a symbolic link\n",
            "\n",
            "/sbin/ldconfig.real: /usr/local/lib/libtbbbind.so.3 is not a symbolic link\n",
            "\n",
            "/sbin/ldconfig.real: /usr/local/lib/libtbbmalloc.so.2 is not a symbolic link\n",
            "\n",
            "/sbin/ldconfig.real: /usr/local/lib/libtbb.so.12 is not a symbolic link\n",
            "\n",
            "/sbin/ldconfig.real: /usr/local/lib/libtbbbind_2_5.so.3 is not a symbolic link\n",
            "\n",
            "/sbin/ldconfig.real: /usr/local/lib/libtbbbind_2_0.so.3 is not a symbolic link\n",
            "\n",
            "Selecting previously unselected package libbtf1:amd64.\n",
            "(Reading database ... 121034 files and directories currently installed.)\n",
            "Preparing to unpack .../00-libbtf1_1%3a5.10.1+dfsg-4build1_amd64.deb ...\n",
            "Unpacking libbtf1:amd64 (1:5.10.1+dfsg-4build1) ...\n",
            "Selecting previously unselected package libcamd2:amd64.\n",
            "Preparing to unpack .../01-libcamd2_1%3a5.10.1+dfsg-4build1_amd64.deb ...\n",
            "Unpacking libcamd2:amd64 (1:5.10.1+dfsg-4build1) ...\n",
            "Selecting previously unselected package libccolamd2:amd64.\n",
            "Preparing to unpack .../02-libccolamd2_1%3a5.10.1+dfsg-4build1_amd64.deb ...\n",
            "Unpacking libccolamd2:amd64 (1:5.10.1+dfsg-4build1) ...\n",
            "Selecting previously unselected package libmetis5:amd64.\n",
            "Preparing to unpack .../03-libmetis5_5.1.0.dfsg-7build2_amd64.deb ...\n",
            "Unpacking libmetis5:amd64 (5.1.0.dfsg-7build2) ...\n",
            "Selecting previously unselected package libcholmod3:amd64.\n",
            "Preparing to unpack .../04-libcholmod3_1%3a5.10.1+dfsg-4build1_amd64.deb ...\n",
            "Unpacking libcholmod3:amd64 (1:5.10.1+dfsg-4build1) ...\n",
            "Selecting previously unselected package libcxsparse3:amd64.\n",
            "Preparing to unpack .../05-libcxsparse3_1%3a5.10.1+dfsg-4build1_amd64.deb ...\n",
            "Unpacking libcxsparse3:amd64 (1:5.10.1+dfsg-4build1) ...\n",
            "Selecting previously unselected package libgmpxx4ldbl:amd64.\n",
            "Preparing to unpack .../06-libgmpxx4ldbl_2%3a6.2.1+dfsg-3ubuntu1_amd64.deb ...\n",
            "Unpacking libgmpxx4ldbl:amd64 (2:6.2.1+dfsg-3ubuntu1) ...\n",
            "Selecting previously unselected package libgmp-dev:amd64.\n",
            "Preparing to unpack .../07-libgmp-dev_2%3a6.2.1+dfsg-3ubuntu1_amd64.deb ...\n",
            "Unpacking libgmp-dev:amd64 (2:6.2.1+dfsg-3ubuntu1) ...\n",
            "Selecting previously unselected package libklu1:amd64.\n",
            "Preparing to unpack .../08-libklu1_1%3a5.10.1+dfsg-4build1_amd64.deb ...\n",
            "Unpacking libklu1:amd64 (1:5.10.1+dfsg-4build1) ...\n",
            "Selecting previously unselected package libldl2:amd64.\n",
            "Preparing to unpack .../09-libldl2_1%3a5.10.1+dfsg-4build1_amd64.deb ...\n",
            "Unpacking libldl2:amd64 (1:5.10.1+dfsg-4build1) ...\n",
            "Selecting previously unselected package libmongoose2:amd64.\n",
            "Preparing to unpack .../10-libmongoose2_1%3a5.10.1+dfsg-4build1_amd64.deb ...\n",
            "Unpacking libmongoose2:amd64 (1:5.10.1+dfsg-4build1) ...\n",
            "Selecting previously unselected package libumfpack5:amd64.\n",
            "Preparing to unpack .../11-libumfpack5_1%3a5.10.1+dfsg-4build1_amd64.deb ...\n",
            "Unpacking libumfpack5:amd64 (1:5.10.1+dfsg-4build1) ...\n",
            "Selecting previously unselected package librbio2:amd64.\n",
            "Preparing to unpack .../12-librbio2_1%3a5.10.1+dfsg-4build1_amd64.deb ...\n",
            "Unpacking librbio2:amd64 (1:5.10.1+dfsg-4build1) ...\n",
            "Selecting previously unselected package libspqr2:amd64.\n",
            "Preparing to unpack .../13-libspqr2_1%3a5.10.1+dfsg-4build1_amd64.deb ...\n",
            "Unpacking libspqr2:amd64 (1:5.10.1+dfsg-4build1) ...\n",
            "Selecting previously unselected package libsliplu1:amd64.\n",
            "Preparing to unpack .../14-libsliplu1_1%3a5.10.1+dfsg-4build1_amd64.deb ...\n",
            "Unpacking libsliplu1:amd64 (1:5.10.1+dfsg-4build1) ...\n",
            "Selecting previously unselected package libsuitesparse-dev:amd64.\n",
            "Preparing to unpack .../15-libsuitesparse-dev_1%3a5.10.1+dfsg-4build1_amd64.deb ...\n",
            "Unpacking libsuitesparse-dev:amd64 (1:5.10.1+dfsg-4build1) ...\n",
            "Selecting previously unselected package libglpk-dev:amd64.\n",
            "Preparing to unpack .../16-libglpk-dev_5.0-1_amd64.deb ...\n",
            "Unpacking libglpk-dev:amd64 (5.0-1) ...\n",
            "Selecting previously unselected package libgraphblas6:amd64.\n",
            "Preparing to unpack .../17-libgraphblas6_6.1.4+dfsg-2_amd64.deb ...\n",
            "Unpacking libgraphblas6:amd64 (6.1.4+dfsg-2) ...\n",
            "Selecting previously unselected package libgraphblas-dev:amd64.\n",
            "Preparing to unpack .../18-libgraphblas-dev_6.1.4+dfsg-2_amd64.deb ...\n",
            "Unpacking libgraphblas-dev:amd64 (6.1.4+dfsg-2) ...\n",
            "Setting up libgraphblas6:amd64 (6.1.4+dfsg-2) ...\n",
            "Setting up libldl2:amd64 (1:5.10.1+dfsg-4build1) ...\n",
            "Setting up libmetis5:amd64 (5.1.0.dfsg-7build2) ...\n",
            "Setting up libbtf1:amd64 (1:5.10.1+dfsg-4build1) ...\n",
            "Setting up libsliplu1:amd64 (1:5.10.1+dfsg-4build1) ...\n",
            "Setting up libcamd2:amd64 (1:5.10.1+dfsg-4build1) ...\n",
            "Setting up libmongoose2:amd64 (1:5.10.1+dfsg-4build1) ...\n",
            "Setting up libgraphblas-dev:amd64 (6.1.4+dfsg-2) ...\n",
            "Setting up libgmpxx4ldbl:amd64 (2:6.2.1+dfsg-3ubuntu1) ...\n",
            "Setting up libklu1:amd64 (1:5.10.1+dfsg-4build1) ...\n",
            "Setting up libccolamd2:amd64 (1:5.10.1+dfsg-4build1) ...\n",
            "Setting up libcxsparse3:amd64 (1:5.10.1+dfsg-4build1) ...\n",
            "Setting up libcholmod3:amd64 (1:5.10.1+dfsg-4build1) ...\n",
            "Setting up librbio2:amd64 (1:5.10.1+dfsg-4build1) ...\n",
            "Setting up libspqr2:amd64 (1:5.10.1+dfsg-4build1) ...\n",
            "Setting up libgmp-dev:amd64 (2:6.2.1+dfsg-3ubuntu1) ...\n",
            "Setting up libumfpack5:amd64 (1:5.10.1+dfsg-4build1) ...\n",
            "Setting up libsuitesparse-dev:amd64 (1:5.10.1+dfsg-4build1) ...\n",
            "Setting up libglpk-dev:amd64 (5.0-1) ...\n",
            "Processing triggers for libc-bin (2.35-0ubuntu3.1) ...\n",
            "/sbin/ldconfig.real: /usr/local/lib/libtbbmalloc_proxy.so.2 is not a symbolic link\n",
            "\n",
            "/sbin/ldconfig.real: /usr/local/lib/libtbbbind.so.3 is not a symbolic link\n",
            "\n",
            "/sbin/ldconfig.real: /usr/local/lib/libtbbmalloc.so.2 is not a symbolic link\n",
            "\n",
            "/sbin/ldconfig.real: /usr/local/lib/libtbb.so.12 is not a symbolic link\n",
            "\n",
            "/sbin/ldconfig.real: /usr/local/lib/libtbbbind_2_5.so.3 is not a symbolic link\n",
            "\n",
            "/sbin/ldconfig.real: /usr/local/lib/libtbbbind_2_0.so.3 is not a symbolic link\n",
            "\n",
            "Requirement already satisfied: cvxpy in /usr/local/lib/python3.10/dist-packages (1.3.2)\n",
            "Requirement already satisfied: osqp>=0.4.1 in /usr/local/lib/python3.10/dist-packages (from cvxpy) (0.6.2.post8)\n",
            "Requirement already satisfied: ecos>=2 in /usr/local/lib/python3.10/dist-packages (from cvxpy) (2.0.12)\n",
            "Requirement already satisfied: scs>=1.1.6 in /usr/local/lib/python3.10/dist-packages (from cvxpy) (3.2.3)\n",
            "Requirement already satisfied: numpy>=1.15 in /usr/local/lib/python3.10/dist-packages (from cvxpy) (1.23.5)\n",
            "Requirement already satisfied: scipy>=1.1.0 in /usr/local/lib/python3.10/dist-packages (from cvxpy) (1.10.1)\n",
            "Requirement already satisfied: setuptools>65.5.1 in /usr/local/lib/python3.10/dist-packages (from cvxpy) (67.7.2)\n",
            "Requirement already satisfied: qdldl in /usr/local/lib/python3.10/dist-packages (from osqp>=0.4.1->cvxpy) (0.1.7.post0)\n"
          ]
        }
      ]
    },
    {
      "cell_type": "code",
      "source": [
        "!pip install pypower"
      ],
      "metadata": {
        "colab": {
          "base_uri": "https://localhost:8080/"
        },
        "id": "qOB8ApkG6bxZ",
        "outputId": "c5c00afb-392e-41ce-db8f-dc929214460a"
      },
      "execution_count": 4,
      "outputs": [
        {
          "output_type": "stream",
          "name": "stdout",
          "text": [
            "Collecting pypower\n",
            "  Downloading PYPOWER-5.1.16-py2.py3-none-any.whl (346 kB)\n",
            "\u001b[2K     \u001b[90m━━━━━━━━━━━━━━━━━━━━━━━━━━━━━━━━━━━━━━━\u001b[0m \u001b[32m347.0/347.0 kB\u001b[0m \u001b[31m4.1 MB/s\u001b[0m eta \u001b[36m0:00:00\u001b[0m\n",
            "\u001b[?25hInstalling collected packages: pypower\n",
            "Successfully installed pypower-5.1.16\n"
          ]
        }
      ]
    },
    {
      "cell_type": "markdown",
      "source": [
        "# Import libraries"
      ],
      "metadata": {
        "id": "ZwcLA9y5KUwd"
      }
    },
    {
      "cell_type": "code",
      "source": [
        "from __future__ import division\n",
        "import os\n",
        "import numpy as np\n",
        "import matplotlib\n",
        "import matplotlib.pyplot as plt\n",
        "%matplotlib inline\n",
        "import csv\n",
        "from mpl_toolkits.mplot3d import Axes3D\n",
        "import random\n",
        "import pandas as pd\n",
        "import math\n",
        "import json\n",
        "import pickle\n",
        "import cmath\n",
        "import sys\n",
        "\n",
        "random.seed(1234321)"
      ],
      "metadata": {
        "id": "E1l0erDXk882"
      },
      "execution_count": 5,
      "outputs": []
    },
    {
      "cell_type": "code",
      "source": [],
      "metadata": {
        "id": "UIUz9riW0nZ-"
      },
      "execution_count": 5,
      "outputs": []
    },
    {
      "cell_type": "code",
      "source": [],
      "metadata": {
        "id": "e5vaPrBQk-n1"
      },
      "execution_count": 5,
      "outputs": []
    },
    {
      "cell_type": "markdown",
      "source": [
        "# Project folder"
      ],
      "metadata": {
        "id": "6fG_YXFSsX4X"
      }
    },
    {
      "cell_type": "code",
      "source": [
        "def create_dir(path):\n",
        "    isExist = os.path.exists(path)\n",
        "\n",
        "    if not isExist:\n",
        "        # Create a new directory if it does not exist\n",
        "        os.makedirs(path)\n",
        "        print(\"The new directory %s is created!\" % (path))"
      ],
      "metadata": {
        "id": "sribmzobsXZE"
      },
      "execution_count": 6,
      "outputs": []
    },
    {
      "cell_type": "code",
      "source": [
        "project_path = \"/content/gdrive/MyDrive/2023Projects/convex_restriction/WB3/\"\n",
        "ourMethod_path = project_path  + \"our_method/\"\n",
        "socp_path = project_path  + \"socp/\"\n",
        "# sdp_path = project_path  + \"sdp/\"\n",
        "newtonRaphson_path = project_path  + \"newton_raphson/\"\n",
        "settings_path = project_path + \"grid_WB3/\""
      ],
      "metadata": {
        "id": "FSdf6MVbsimR"
      },
      "execution_count": 7,
      "outputs": []
    },
    {
      "cell_type": "code",
      "source": [
        "create_dir(settings_path)\n",
        "create_dir(ourMethod_path)\n",
        "create_dir(socp_path)\n",
        "create_dir(newtonRaphson_path)"
      ],
      "metadata": {
        "id": "iWwQtJMGTz8C"
      },
      "execution_count": 8,
      "outputs": []
    },
    {
      "cell_type": "code",
      "source": [],
      "metadata": {
        "id": "BGuMs6brU_Tm"
      },
      "execution_count": 8,
      "outputs": []
    },
    {
      "cell_type": "markdown",
      "source": [
        "# Grid representation"
      ],
      "metadata": {
        "id": "5kFisOCTm9kl"
      }
    },
    {
      "cell_type": "markdown",
      "source": [
        "## Parameters"
      ],
      "metadata": {
        "id": "0XEWwRKKoJmf"
      }
    },
    {
      "cell_type": "code",
      "source": [
        "import scipy.io as sio\n",
        "\n",
        "# mat_contents = sio.loadmat(settings_path + mat_fname)\n",
        "branch_contents = sio.loadmat(settings_path + 'branch_WB3.mat')\n",
        "bus_contents = sio.loadmat(settings_path + 'bus_WB3.mat')\n",
        "gen_contents = sio.loadmat(settings_path + 'gen_WB3.mat')\n",
        "\n",
        "print(branch_contents.keys())\n",
        "print(bus_contents.keys())\n",
        "print(gen_contents.keys())"
      ],
      "metadata": {
        "colab": {
          "base_uri": "https://localhost:8080/"
        },
        "id": "FeR02osknAgE",
        "outputId": "ee71018f-96fc-4e82-c53b-b051bfe4510a"
      },
      "execution_count": 9,
      "outputs": [
        {
          "output_type": "stream",
          "name": "stdout",
          "text": [
            "dict_keys(['__header__', '__version__', '__globals__', 'branch'])\n",
            "dict_keys(['__header__', '__version__', '__globals__', 'bus'])\n",
            "dict_keys(['__header__', '__version__', '__globals__', 'gen'])\n"
          ]
        }
      ]
    },
    {
      "cell_type": "code",
      "source": [
        "## branch data: fbus(0), tbus(1), r(2), x(3), b(4)\n",
        "## bus data: bus(0), type(1), Pd(2), Qd(3), Vmx(11), Vmn(12)\n",
        "## gen data: bus(0), Pg(1), Qg(2), Qmax(3), Qmin(4), Pmax(8), Pmin(9)\n",
        "\n",
        "branch_data = branch_contents['branch']\n",
        "bus_data = bus_contents['bus']\n",
        "gen_data = gen_contents['gen']\n",
        "\n",
        "branch_array = np.concatenate([branch_data[:,0:1], branch_data[:,1:2], branch_data[:,2:3], branch_data[:,3:4], branch_data[:,4:5]], axis=1)\n",
        "branch_df = pd.DataFrame(branch_array, columns = ['fbus','tbus','r','x','b'])\n",
        "branch_df['fbus'] = branch_df['fbus'].apply(lambda x: int(x))\n",
        "branch_df['tbus'] = branch_df['tbus'].apply(lambda x: int(x))\n",
        "\n",
        "bus_array = np.concatenate([bus_data[:,0:1], bus_data[:,1:2], bus_data[:,2:3], bus_data[:,3:4], bus_data[:,11:12], bus_data[:,12:13]], axis=1)\n",
        "bus_df = pd.DataFrame(bus_array, columns = ['bus','type','Pd','Qd','Vmx','Vmn'])\n",
        "bus_df['bus'] = bus_df['bus'].apply(lambda x: int(x))\n",
        "bus_df['type'] = bus_df['type'].apply(lambda x: int(x))\n",
        "\n",
        "gen_array = np.concatenate([gen_data[:,0:1], gen_data[:,1:2], gen_data[:,2:3], gen_data[:,3:4], gen_data[:,4:5], gen_data[:,8:9], gen_data[:,9:10]], axis=1)\n",
        "gen_df = pd.DataFrame(gen_array, columns = ['bus','Pg','Qg','Qmax','Qmin','Pmax','Pmin'])\n",
        "gen_df['bus'] = gen_df['bus'].apply(lambda x: int(x))"
      ],
      "metadata": {
        "id": "uBgIoInF64ix"
      },
      "execution_count": 10,
      "outputs": []
    },
    {
      "cell_type": "code",
      "source": [
        "branch_df = branch_df.sort_values(by=['fbus', 'tbus'], ascending=True)"
      ],
      "metadata": {
        "id": "bHo7QZr7XS4u"
      },
      "execution_count": 11,
      "outputs": []
    },
    {
      "cell_type": "code",
      "source": [
        "branch_df.head()"
      ],
      "metadata": {
        "colab": {
          "base_uri": "https://localhost:8080/",
          "height": 112
        },
        "id": "pzHmY1bB7C6g",
        "outputId": "0d61d760-8290-4910-f4a9-1aaeccd5c9d2"
      },
      "execution_count": 12,
      "outputs": [
        {
          "output_type": "execute_result",
          "data": {
            "text/plain": [
              "   fbus  tbus       r       x      b\n",
              "0     1     2  0.0400  0.2000  0.000\n",
              "1     2     3  0.0139  0.0605  2.459"
            ],
            "text/html": [
              "\n",
              "  <div id=\"df-de2a8a2c-bd3f-4ff0-851e-03820dde3752\" class=\"colab-df-container\">\n",
              "    <div>\n",
              "<style scoped>\n",
              "    .dataframe tbody tr th:only-of-type {\n",
              "        vertical-align: middle;\n",
              "    }\n",
              "\n",
              "    .dataframe tbody tr th {\n",
              "        vertical-align: top;\n",
              "    }\n",
              "\n",
              "    .dataframe thead th {\n",
              "        text-align: right;\n",
              "    }\n",
              "</style>\n",
              "<table border=\"1\" class=\"dataframe\">\n",
              "  <thead>\n",
              "    <tr style=\"text-align: right;\">\n",
              "      <th></th>\n",
              "      <th>fbus</th>\n",
              "      <th>tbus</th>\n",
              "      <th>r</th>\n",
              "      <th>x</th>\n",
              "      <th>b</th>\n",
              "    </tr>\n",
              "  </thead>\n",
              "  <tbody>\n",
              "    <tr>\n",
              "      <th>0</th>\n",
              "      <td>1</td>\n",
              "      <td>2</td>\n",
              "      <td>0.0400</td>\n",
              "      <td>0.2000</td>\n",
              "      <td>0.000</td>\n",
              "    </tr>\n",
              "    <tr>\n",
              "      <th>1</th>\n",
              "      <td>2</td>\n",
              "      <td>3</td>\n",
              "      <td>0.0139</td>\n",
              "      <td>0.0605</td>\n",
              "      <td>2.459</td>\n",
              "    </tr>\n",
              "  </tbody>\n",
              "</table>\n",
              "</div>\n",
              "    <div class=\"colab-df-buttons\">\n",
              "\n",
              "  <div class=\"colab-df-container\">\n",
              "    <button class=\"colab-df-convert\" onclick=\"convertToInteractive('df-de2a8a2c-bd3f-4ff0-851e-03820dde3752')\"\n",
              "            title=\"Convert this dataframe to an interactive table.\"\n",
              "            style=\"display:none;\">\n",
              "\n",
              "  <svg xmlns=\"http://www.w3.org/2000/svg\" height=\"24px\" viewBox=\"0 -960 960 960\">\n",
              "    <path d=\"M120-120v-720h720v720H120Zm60-500h600v-160H180v160Zm220 220h160v-160H400v160Zm0 220h160v-160H400v160ZM180-400h160v-160H180v160Zm440 0h160v-160H620v160ZM180-180h160v-160H180v160Zm440 0h160v-160H620v160Z\"/>\n",
              "  </svg>\n",
              "    </button>\n",
              "\n",
              "  <style>\n",
              "    .colab-df-container {\n",
              "      display:flex;\n",
              "      gap: 12px;\n",
              "    }\n",
              "\n",
              "    .colab-df-convert {\n",
              "      background-color: #E8F0FE;\n",
              "      border: none;\n",
              "      border-radius: 50%;\n",
              "      cursor: pointer;\n",
              "      display: none;\n",
              "      fill: #1967D2;\n",
              "      height: 32px;\n",
              "      padding: 0 0 0 0;\n",
              "      width: 32px;\n",
              "    }\n",
              "\n",
              "    .colab-df-convert:hover {\n",
              "      background-color: #E2EBFA;\n",
              "      box-shadow: 0px 1px 2px rgba(60, 64, 67, 0.3), 0px 1px 3px 1px rgba(60, 64, 67, 0.15);\n",
              "      fill: #174EA6;\n",
              "    }\n",
              "\n",
              "    .colab-df-buttons div {\n",
              "      margin-bottom: 4px;\n",
              "    }\n",
              "\n",
              "    [theme=dark] .colab-df-convert {\n",
              "      background-color: #3B4455;\n",
              "      fill: #D2E3FC;\n",
              "    }\n",
              "\n",
              "    [theme=dark] .colab-df-convert:hover {\n",
              "      background-color: #434B5C;\n",
              "      box-shadow: 0px 1px 3px 1px rgba(0, 0, 0, 0.15);\n",
              "      filter: drop-shadow(0px 1px 2px rgba(0, 0, 0, 0.3));\n",
              "      fill: #FFFFFF;\n",
              "    }\n",
              "  </style>\n",
              "\n",
              "    <script>\n",
              "      const buttonEl =\n",
              "        document.querySelector('#df-de2a8a2c-bd3f-4ff0-851e-03820dde3752 button.colab-df-convert');\n",
              "      buttonEl.style.display =\n",
              "        google.colab.kernel.accessAllowed ? 'block' : 'none';\n",
              "\n",
              "      async function convertToInteractive(key) {\n",
              "        const element = document.querySelector('#df-de2a8a2c-bd3f-4ff0-851e-03820dde3752');\n",
              "        const dataTable =\n",
              "          await google.colab.kernel.invokeFunction('convertToInteractive',\n",
              "                                                    [key], {});\n",
              "        if (!dataTable) return;\n",
              "\n",
              "        const docLinkHtml = 'Like what you see? Visit the ' +\n",
              "          '<a target=\"_blank\" href=https://colab.research.google.com/notebooks/data_table.ipynb>data table notebook</a>'\n",
              "          + ' to learn more about interactive tables.';\n",
              "        element.innerHTML = '';\n",
              "        dataTable['output_type'] = 'display_data';\n",
              "        await google.colab.output.renderOutput(dataTable, element);\n",
              "        const docLink = document.createElement('div');\n",
              "        docLink.innerHTML = docLinkHtml;\n",
              "        element.appendChild(docLink);\n",
              "      }\n",
              "    </script>\n",
              "  </div>\n",
              "\n",
              "    </div>\n",
              "  </div>\n"
            ]
          },
          "metadata": {},
          "execution_count": 12
        }
      ]
    },
    {
      "cell_type": "code",
      "source": [
        "gen_df.head()"
      ],
      "metadata": {
        "colab": {
          "base_uri": "https://localhost:8080/",
          "height": 81
        },
        "id": "VtNxVlla7EZN",
        "outputId": "44554885-b939-4a1f-a16c-93cda3f2f672"
      },
      "execution_count": 13,
      "outputs": [
        {
          "output_type": "execute_result",
          "data": {
            "text/plain": [
              "   bus     Pg     Qg    Qmax    Qmin    Pmax  Pmin\n",
              "0    1  300.0  129.0  3000.0 -3000.0  5000.0   0.0"
            ],
            "text/html": [
              "\n",
              "  <div id=\"df-7f66e20d-de42-4610-8630-996ce3cc636b\" class=\"colab-df-container\">\n",
              "    <div>\n",
              "<style scoped>\n",
              "    .dataframe tbody tr th:only-of-type {\n",
              "        vertical-align: middle;\n",
              "    }\n",
              "\n",
              "    .dataframe tbody tr th {\n",
              "        vertical-align: top;\n",
              "    }\n",
              "\n",
              "    .dataframe thead th {\n",
              "        text-align: right;\n",
              "    }\n",
              "</style>\n",
              "<table border=\"1\" class=\"dataframe\">\n",
              "  <thead>\n",
              "    <tr style=\"text-align: right;\">\n",
              "      <th></th>\n",
              "      <th>bus</th>\n",
              "      <th>Pg</th>\n",
              "      <th>Qg</th>\n",
              "      <th>Qmax</th>\n",
              "      <th>Qmin</th>\n",
              "      <th>Pmax</th>\n",
              "      <th>Pmin</th>\n",
              "    </tr>\n",
              "  </thead>\n",
              "  <tbody>\n",
              "    <tr>\n",
              "      <th>0</th>\n",
              "      <td>1</td>\n",
              "      <td>300.0</td>\n",
              "      <td>129.0</td>\n",
              "      <td>3000.0</td>\n",
              "      <td>-3000.0</td>\n",
              "      <td>5000.0</td>\n",
              "      <td>0.0</td>\n",
              "    </tr>\n",
              "  </tbody>\n",
              "</table>\n",
              "</div>\n",
              "    <div class=\"colab-df-buttons\">\n",
              "\n",
              "  <div class=\"colab-df-container\">\n",
              "    <button class=\"colab-df-convert\" onclick=\"convertToInteractive('df-7f66e20d-de42-4610-8630-996ce3cc636b')\"\n",
              "            title=\"Convert this dataframe to an interactive table.\"\n",
              "            style=\"display:none;\">\n",
              "\n",
              "  <svg xmlns=\"http://www.w3.org/2000/svg\" height=\"24px\" viewBox=\"0 -960 960 960\">\n",
              "    <path d=\"M120-120v-720h720v720H120Zm60-500h600v-160H180v160Zm220 220h160v-160H400v160Zm0 220h160v-160H400v160ZM180-400h160v-160H180v160Zm440 0h160v-160H620v160ZM180-180h160v-160H180v160Zm440 0h160v-160H620v160Z\"/>\n",
              "  </svg>\n",
              "    </button>\n",
              "\n",
              "  <style>\n",
              "    .colab-df-container {\n",
              "      display:flex;\n",
              "      gap: 12px;\n",
              "    }\n",
              "\n",
              "    .colab-df-convert {\n",
              "      background-color: #E8F0FE;\n",
              "      border: none;\n",
              "      border-radius: 50%;\n",
              "      cursor: pointer;\n",
              "      display: none;\n",
              "      fill: #1967D2;\n",
              "      height: 32px;\n",
              "      padding: 0 0 0 0;\n",
              "      width: 32px;\n",
              "    }\n",
              "\n",
              "    .colab-df-convert:hover {\n",
              "      background-color: #E2EBFA;\n",
              "      box-shadow: 0px 1px 2px rgba(60, 64, 67, 0.3), 0px 1px 3px 1px rgba(60, 64, 67, 0.15);\n",
              "      fill: #174EA6;\n",
              "    }\n",
              "\n",
              "    .colab-df-buttons div {\n",
              "      margin-bottom: 4px;\n",
              "    }\n",
              "\n",
              "    [theme=dark] .colab-df-convert {\n",
              "      background-color: #3B4455;\n",
              "      fill: #D2E3FC;\n",
              "    }\n",
              "\n",
              "    [theme=dark] .colab-df-convert:hover {\n",
              "      background-color: #434B5C;\n",
              "      box-shadow: 0px 1px 3px 1px rgba(0, 0, 0, 0.15);\n",
              "      filter: drop-shadow(0px 1px 2px rgba(0, 0, 0, 0.3));\n",
              "      fill: #FFFFFF;\n",
              "    }\n",
              "  </style>\n",
              "\n",
              "    <script>\n",
              "      const buttonEl =\n",
              "        document.querySelector('#df-7f66e20d-de42-4610-8630-996ce3cc636b button.colab-df-convert');\n",
              "      buttonEl.style.display =\n",
              "        google.colab.kernel.accessAllowed ? 'block' : 'none';\n",
              "\n",
              "      async function convertToInteractive(key) {\n",
              "        const element = document.querySelector('#df-7f66e20d-de42-4610-8630-996ce3cc636b');\n",
              "        const dataTable =\n",
              "          await google.colab.kernel.invokeFunction('convertToInteractive',\n",
              "                                                    [key], {});\n",
              "        if (!dataTable) return;\n",
              "\n",
              "        const docLinkHtml = 'Like what you see? Visit the ' +\n",
              "          '<a target=\"_blank\" href=https://colab.research.google.com/notebooks/data_table.ipynb>data table notebook</a>'\n",
              "          + ' to learn more about interactive tables.';\n",
              "        element.innerHTML = '';\n",
              "        dataTable['output_type'] = 'display_data';\n",
              "        await google.colab.output.renderOutput(dataTable, element);\n",
              "        const docLink = document.createElement('div');\n",
              "        docLink.innerHTML = docLinkHtml;\n",
              "        element.appendChild(docLink);\n",
              "      }\n",
              "    </script>\n",
              "  </div>\n",
              "\n",
              "    </div>\n",
              "  </div>\n"
            ]
          },
          "metadata": {},
          "execution_count": 13
        }
      ]
    },
    {
      "cell_type": "code",
      "source": [
        "bus_df.head()"
      ],
      "metadata": {
        "colab": {
          "base_uri": "https://localhost:8080/",
          "height": 143
        },
        "id": "fvwJXEoa7ItP",
        "outputId": "0b89426f-3d51-454b-ee60-7444b2098f20"
      },
      "execution_count": 14,
      "outputs": [
        {
          "output_type": "execute_result",
          "data": {
            "text/plain": [
              "   bus  type     Pd     Qd  Vmx  Vmn\n",
              "0    1     3  0.000  0.000  1.4  0.6\n",
              "1    2     1  0.120  0.086  1.4  0.6\n",
              "2    3     1  0.068  0.050  1.4  0.6"
            ],
            "text/html": [
              "\n",
              "  <div id=\"df-595f4332-81c2-4c99-b049-d373d3e553c9\" class=\"colab-df-container\">\n",
              "    <div>\n",
              "<style scoped>\n",
              "    .dataframe tbody tr th:only-of-type {\n",
              "        vertical-align: middle;\n",
              "    }\n",
              "\n",
              "    .dataframe tbody tr th {\n",
              "        vertical-align: top;\n",
              "    }\n",
              "\n",
              "    .dataframe thead th {\n",
              "        text-align: right;\n",
              "    }\n",
              "</style>\n",
              "<table border=\"1\" class=\"dataframe\">\n",
              "  <thead>\n",
              "    <tr style=\"text-align: right;\">\n",
              "      <th></th>\n",
              "      <th>bus</th>\n",
              "      <th>type</th>\n",
              "      <th>Pd</th>\n",
              "      <th>Qd</th>\n",
              "      <th>Vmx</th>\n",
              "      <th>Vmn</th>\n",
              "    </tr>\n",
              "  </thead>\n",
              "  <tbody>\n",
              "    <tr>\n",
              "      <th>0</th>\n",
              "      <td>1</td>\n",
              "      <td>3</td>\n",
              "      <td>0.000</td>\n",
              "      <td>0.000</td>\n",
              "      <td>1.4</td>\n",
              "      <td>0.6</td>\n",
              "    </tr>\n",
              "    <tr>\n",
              "      <th>1</th>\n",
              "      <td>2</td>\n",
              "      <td>1</td>\n",
              "      <td>0.120</td>\n",
              "      <td>0.086</td>\n",
              "      <td>1.4</td>\n",
              "      <td>0.6</td>\n",
              "    </tr>\n",
              "    <tr>\n",
              "      <th>2</th>\n",
              "      <td>3</td>\n",
              "      <td>1</td>\n",
              "      <td>0.068</td>\n",
              "      <td>0.050</td>\n",
              "      <td>1.4</td>\n",
              "      <td>0.6</td>\n",
              "    </tr>\n",
              "  </tbody>\n",
              "</table>\n",
              "</div>\n",
              "    <div class=\"colab-df-buttons\">\n",
              "\n",
              "  <div class=\"colab-df-container\">\n",
              "    <button class=\"colab-df-convert\" onclick=\"convertToInteractive('df-595f4332-81c2-4c99-b049-d373d3e553c9')\"\n",
              "            title=\"Convert this dataframe to an interactive table.\"\n",
              "            style=\"display:none;\">\n",
              "\n",
              "  <svg xmlns=\"http://www.w3.org/2000/svg\" height=\"24px\" viewBox=\"0 -960 960 960\">\n",
              "    <path d=\"M120-120v-720h720v720H120Zm60-500h600v-160H180v160Zm220 220h160v-160H400v160Zm0 220h160v-160H400v160ZM180-400h160v-160H180v160Zm440 0h160v-160H620v160ZM180-180h160v-160H180v160Zm440 0h160v-160H620v160Z\"/>\n",
              "  </svg>\n",
              "    </button>\n",
              "\n",
              "  <style>\n",
              "    .colab-df-container {\n",
              "      display:flex;\n",
              "      gap: 12px;\n",
              "    }\n",
              "\n",
              "    .colab-df-convert {\n",
              "      background-color: #E8F0FE;\n",
              "      border: none;\n",
              "      border-radius: 50%;\n",
              "      cursor: pointer;\n",
              "      display: none;\n",
              "      fill: #1967D2;\n",
              "      height: 32px;\n",
              "      padding: 0 0 0 0;\n",
              "      width: 32px;\n",
              "    }\n",
              "\n",
              "    .colab-df-convert:hover {\n",
              "      background-color: #E2EBFA;\n",
              "      box-shadow: 0px 1px 2px rgba(60, 64, 67, 0.3), 0px 1px 3px 1px rgba(60, 64, 67, 0.15);\n",
              "      fill: #174EA6;\n",
              "    }\n",
              "\n",
              "    .colab-df-buttons div {\n",
              "      margin-bottom: 4px;\n",
              "    }\n",
              "\n",
              "    [theme=dark] .colab-df-convert {\n",
              "      background-color: #3B4455;\n",
              "      fill: #D2E3FC;\n",
              "    }\n",
              "\n",
              "    [theme=dark] .colab-df-convert:hover {\n",
              "      background-color: #434B5C;\n",
              "      box-shadow: 0px 1px 3px 1px rgba(0, 0, 0, 0.15);\n",
              "      filter: drop-shadow(0px 1px 2px rgba(0, 0, 0, 0.3));\n",
              "      fill: #FFFFFF;\n",
              "    }\n",
              "  </style>\n",
              "\n",
              "    <script>\n",
              "      const buttonEl =\n",
              "        document.querySelector('#df-595f4332-81c2-4c99-b049-d373d3e553c9 button.colab-df-convert');\n",
              "      buttonEl.style.display =\n",
              "        google.colab.kernel.accessAllowed ? 'block' : 'none';\n",
              "\n",
              "      async function convertToInteractive(key) {\n",
              "        const element = document.querySelector('#df-595f4332-81c2-4c99-b049-d373d3e553c9');\n",
              "        const dataTable =\n",
              "          await google.colab.kernel.invokeFunction('convertToInteractive',\n",
              "                                                    [key], {});\n",
              "        if (!dataTable) return;\n",
              "\n",
              "        const docLinkHtml = 'Like what you see? Visit the ' +\n",
              "          '<a target=\"_blank\" href=https://colab.research.google.com/notebooks/data_table.ipynb>data table notebook</a>'\n",
              "          + ' to learn more about interactive tables.';\n",
              "        element.innerHTML = '';\n",
              "        dataTable['output_type'] = 'display_data';\n",
              "        await google.colab.output.renderOutput(dataTable, element);\n",
              "        const docLink = document.createElement('div');\n",
              "        docLink.innerHTML = docLinkHtml;\n",
              "        element.appendChild(docLink);\n",
              "      }\n",
              "    </script>\n",
              "  </div>\n",
              "\n",
              "    </div>\n",
              "  </div>\n"
            ]
          },
          "metadata": {},
          "execution_count": 14
        }
      ]
    },
    {
      "cell_type": "code",
      "source": [
        "r_ij = branch_df[\"r\"].to_numpy()\n",
        "x_ij = branch_df[\"x\"].to_numpy()\n",
        "g_ij = r_ij/(r_ij**2+x_ij**2)\n",
        "b_ij = x_ij/(r_ij**2+x_ij**2)\n",
        "branch_df[\"conductance(g)\"] = g_ij\n",
        "branch_df[\"susceptance(b)\"] = b_ij\n",
        "branch_df.head()"
      ],
      "metadata": {
        "colab": {
          "base_uri": "https://localhost:8080/",
          "height": 112
        },
        "id": "flzhVURq7gRt",
        "outputId": "36904b75-7ca8-4b73-d9d8-cae12b7975fc"
      },
      "execution_count": 15,
      "outputs": [
        {
          "output_type": "execute_result",
          "data": {
            "text/plain": [
              "   fbus  tbus       r       x      b  conductance(g)  susceptance(b)\n",
              "0     1     2  0.0400  0.2000  0.000        0.961538        4.807692\n",
              "1     2     3  0.0139  0.0605  2.459        3.607148       15.700176"
            ],
            "text/html": [
              "\n",
              "  <div id=\"df-04235f9a-d880-4926-b113-ea13f83d802e\" class=\"colab-df-container\">\n",
              "    <div>\n",
              "<style scoped>\n",
              "    .dataframe tbody tr th:only-of-type {\n",
              "        vertical-align: middle;\n",
              "    }\n",
              "\n",
              "    .dataframe tbody tr th {\n",
              "        vertical-align: top;\n",
              "    }\n",
              "\n",
              "    .dataframe thead th {\n",
              "        text-align: right;\n",
              "    }\n",
              "</style>\n",
              "<table border=\"1\" class=\"dataframe\">\n",
              "  <thead>\n",
              "    <tr style=\"text-align: right;\">\n",
              "      <th></th>\n",
              "      <th>fbus</th>\n",
              "      <th>tbus</th>\n",
              "      <th>r</th>\n",
              "      <th>x</th>\n",
              "      <th>b</th>\n",
              "      <th>conductance(g)</th>\n",
              "      <th>susceptance(b)</th>\n",
              "    </tr>\n",
              "  </thead>\n",
              "  <tbody>\n",
              "    <tr>\n",
              "      <th>0</th>\n",
              "      <td>1</td>\n",
              "      <td>2</td>\n",
              "      <td>0.0400</td>\n",
              "      <td>0.2000</td>\n",
              "      <td>0.000</td>\n",
              "      <td>0.961538</td>\n",
              "      <td>4.807692</td>\n",
              "    </tr>\n",
              "    <tr>\n",
              "      <th>1</th>\n",
              "      <td>2</td>\n",
              "      <td>3</td>\n",
              "      <td>0.0139</td>\n",
              "      <td>0.0605</td>\n",
              "      <td>2.459</td>\n",
              "      <td>3.607148</td>\n",
              "      <td>15.700176</td>\n",
              "    </tr>\n",
              "  </tbody>\n",
              "</table>\n",
              "</div>\n",
              "    <div class=\"colab-df-buttons\">\n",
              "\n",
              "  <div class=\"colab-df-container\">\n",
              "    <button class=\"colab-df-convert\" onclick=\"convertToInteractive('df-04235f9a-d880-4926-b113-ea13f83d802e')\"\n",
              "            title=\"Convert this dataframe to an interactive table.\"\n",
              "            style=\"display:none;\">\n",
              "\n",
              "  <svg xmlns=\"http://www.w3.org/2000/svg\" height=\"24px\" viewBox=\"0 -960 960 960\">\n",
              "    <path d=\"M120-120v-720h720v720H120Zm60-500h600v-160H180v160Zm220 220h160v-160H400v160Zm0 220h160v-160H400v160ZM180-400h160v-160H180v160Zm440 0h160v-160H620v160ZM180-180h160v-160H180v160Zm440 0h160v-160H620v160Z\"/>\n",
              "  </svg>\n",
              "    </button>\n",
              "\n",
              "  <style>\n",
              "    .colab-df-container {\n",
              "      display:flex;\n",
              "      gap: 12px;\n",
              "    }\n",
              "\n",
              "    .colab-df-convert {\n",
              "      background-color: #E8F0FE;\n",
              "      border: none;\n",
              "      border-radius: 50%;\n",
              "      cursor: pointer;\n",
              "      display: none;\n",
              "      fill: #1967D2;\n",
              "      height: 32px;\n",
              "      padding: 0 0 0 0;\n",
              "      width: 32px;\n",
              "    }\n",
              "\n",
              "    .colab-df-convert:hover {\n",
              "      background-color: #E2EBFA;\n",
              "      box-shadow: 0px 1px 2px rgba(60, 64, 67, 0.3), 0px 1px 3px 1px rgba(60, 64, 67, 0.15);\n",
              "      fill: #174EA6;\n",
              "    }\n",
              "\n",
              "    .colab-df-buttons div {\n",
              "      margin-bottom: 4px;\n",
              "    }\n",
              "\n",
              "    [theme=dark] .colab-df-convert {\n",
              "      background-color: #3B4455;\n",
              "      fill: #D2E3FC;\n",
              "    }\n",
              "\n",
              "    [theme=dark] .colab-df-convert:hover {\n",
              "      background-color: #434B5C;\n",
              "      box-shadow: 0px 1px 3px 1px rgba(0, 0, 0, 0.15);\n",
              "      filter: drop-shadow(0px 1px 2px rgba(0, 0, 0, 0.3));\n",
              "      fill: #FFFFFF;\n",
              "    }\n",
              "  </style>\n",
              "\n",
              "    <script>\n",
              "      const buttonEl =\n",
              "        document.querySelector('#df-04235f9a-d880-4926-b113-ea13f83d802e button.colab-df-convert');\n",
              "      buttonEl.style.display =\n",
              "        google.colab.kernel.accessAllowed ? 'block' : 'none';\n",
              "\n",
              "      async function convertToInteractive(key) {\n",
              "        const element = document.querySelector('#df-04235f9a-d880-4926-b113-ea13f83d802e');\n",
              "        const dataTable =\n",
              "          await google.colab.kernel.invokeFunction('convertToInteractive',\n",
              "                                                    [key], {});\n",
              "        if (!dataTable) return;\n",
              "\n",
              "        const docLinkHtml = 'Like what you see? Visit the ' +\n",
              "          '<a target=\"_blank\" href=https://colab.research.google.com/notebooks/data_table.ipynb>data table notebook</a>'\n",
              "          + ' to learn more about interactive tables.';\n",
              "        element.innerHTML = '';\n",
              "        dataTable['output_type'] = 'display_data';\n",
              "        await google.colab.output.renderOutput(dataTable, element);\n",
              "        const docLink = document.createElement('div');\n",
              "        docLink.innerHTML = docLinkHtml;\n",
              "        element.appendChild(docLink);\n",
              "      }\n",
              "    </script>\n",
              "  </div>\n",
              "\n",
              "    </div>\n",
              "  </div>\n"
            ]
          },
          "metadata": {},
          "execution_count": 15
        }
      ]
    },
    {
      "cell_type": "code",
      "source": [
        "count_lines_df = branch_df.groupby(['fbus', 'tbus']).count()\n",
        "count_lines_df.head()\n",
        "branches = count_lines_df.index.to_list()\n",
        "branches_list = [(int(x[0]), int(x[1])) for x in branches]\n",
        "print(branches_list)\n",
        "\n",
        "nodes = bus_df['bus'].to_list()\n",
        "nodes_list = [int(x) for x in nodes]\n",
        "print(nodes_list)\n",
        "\n",
        "num_nodes = len(nodes_list)\n",
        "num_branches = len(branches_list)\n",
        "print('num_nodes:', num_nodes)\n",
        "print('num_branches:', num_branches)"
      ],
      "metadata": {
        "colab": {
          "base_uri": "https://localhost:8080/"
        },
        "id": "Y15izY6f84-I",
        "outputId": "6025b9ec-171c-40e0-a9d4-6590b05b39ee"
      },
      "execution_count": 16,
      "outputs": [
        {
          "output_type": "stream",
          "name": "stdout",
          "text": [
            "[(1, 2), (2, 3)]\n",
            "[1, 2, 3]\n",
            "num_nodes: 3\n",
            "num_branches: 2\n"
          ]
        }
      ]
    },
    {
      "cell_type": "code",
      "source": [
        "bus_to_numeric = dict()\n",
        "\n",
        "for k in range(num_nodes):\n",
        "    node_idx = nodes_list[k]\n",
        "    bus_to_numeric[node_idx] = k\n",
        "\n",
        "bus_to_neighbors = dict()\n",
        "for edge in branches_list:\n",
        "    fbus = edge[0]\n",
        "    tbus = edge[1]\n",
        "    if fbus not in bus_to_neighbors.keys():\n",
        "        bus_to_neighbors[fbus] = [tbus]\n",
        "    else:\n",
        "        bus_to_neighbors[fbus] += [tbus]\n",
        "\n",
        "    if tbus not in bus_to_neighbors.keys():\n",
        "        bus_to_neighbors[tbus] = [fbus]\n",
        "    else:\n",
        "        bus_to_neighbors[tbus] += [fbus]\n",
        "\n",
        "print('bus_to_numeric:', bus_to_numeric)\n",
        "print('bus_to_neighbors:', bus_to_neighbors)\n"
      ],
      "metadata": {
        "colab": {
          "base_uri": "https://localhost:8080/"
        },
        "id": "H3X2fiZO8qag",
        "outputId": "aa3fc2f4-ef6b-4b72-89e4-16ae295dfb5f"
      },
      "execution_count": 17,
      "outputs": [
        {
          "output_type": "stream",
          "name": "stdout",
          "text": [
            "bus_to_numeric: {1: 0, 2: 1, 3: 2}\n",
            "bus_to_neighbors: {1: [2], 2: [1, 3], 3: [2]}\n"
          ]
        }
      ]
    },
    {
      "cell_type": "code",
      "source": [
        "numbering_links = dict()\n",
        "for i in range(num_branches):\n",
        "    fbus = branch_df.iloc[i, 0]\n",
        "    tbus = branch_df.iloc[i, 1]\n",
        "    numbering_links[i] = (fbus, tbus)\n",
        "print('numbering_links:', numbering_links)"
      ],
      "metadata": {
        "colab": {
          "base_uri": "https://localhost:8080/"
        },
        "id": "ajS2ZvxXB6I5",
        "outputId": "a62afc3d-c06f-41a6-d542-ef627636650d"
      },
      "execution_count": 18,
      "outputs": [
        {
          "output_type": "stream",
          "name": "stdout",
          "text": [
            "numbering_links: {0: (1, 2), 1: (2, 3)}\n"
          ]
        }
      ]
    },
    {
      "cell_type": "code",
      "source": [
        "# incidence matrix\n",
        "E = np.zeros((num_branches, num_nodes))\n",
        "for m in range(num_branches):\n",
        "    f_end = branch_df.iloc[m, 0]\n",
        "    t_end = branch_df.iloc[m, 1]\n",
        "\n",
        "    col1 = bus_to_numeric[f_end]\n",
        "    col2 = bus_to_numeric[t_end]\n",
        "\n",
        "    if col1 < col2:\n",
        "        E[m, col1] = 1\n",
        "        E[m, col2] = -1\n",
        "    else:\n",
        "        E[m, col1] = -1\n",
        "        E[m, col2] = 1\n",
        "\n",
        "print('E:', E)"
      ],
      "metadata": {
        "colab": {
          "base_uri": "https://localhost:8080/"
        },
        "id": "FOXAcXg6l8lv",
        "outputId": "89d6c59d-c03a-4806-d79a-bdd1813bed6c"
      },
      "execution_count": 19,
      "outputs": [
        {
          "output_type": "stream",
          "name": "stdout",
          "text": [
            "E: [[ 1. -1.  0.]\n",
            " [ 0.  1. -1.]]\n"
          ]
        }
      ]
    },
    {
      "cell_type": "code",
      "source": [
        "gen_set_mask = bus_df['type']>1\n",
        "gen_set = bus_df['bus'][gen_set_mask]\n",
        "gen_rows = np.array(range(num_nodes))[gen_set_mask]\n",
        "print('gen_set:\\n', gen_set)\n",
        "print('gen_rows:\\n', gen_rows)"
      ],
      "metadata": {
        "colab": {
          "base_uri": "https://localhost:8080/"
        },
        "id": "7_MXMbsaAKQw",
        "outputId": "5531f53c-0e11-4d30-a60b-55c3c261e129"
      },
      "execution_count": 20,
      "outputs": [
        {
          "output_type": "stream",
          "name": "stdout",
          "text": [
            "gen_set:\n",
            " 0    1\n",
            "Name: bus, dtype: int64\n",
            "gen_rows:\n",
            " [0]\n"
          ]
        }
      ]
    },
    {
      "cell_type": "code",
      "source": [
        "bus_lists = bus_df['bus'].to_numpy()\n",
        "print(bus_lists.shape)\n",
        "print(bus_lists)"
      ],
      "metadata": {
        "colab": {
          "base_uri": "https://localhost:8080/"
        },
        "id": "wvwdNNoJdbT3",
        "outputId": "3df44527-3480-41fa-acb0-03405650eab3"
      },
      "execution_count": 21,
      "outputs": [
        {
          "output_type": "stream",
          "name": "stdout",
          "text": [
            "(3,)\n",
            "[1 2 3]\n"
          ]
        }
      ]
    },
    {
      "cell_type": "code",
      "source": [
        "branch_df['index'] = branch_df.index\n",
        "branch_df.head()\n",
        "\n",
        "b_for_lines = b_ij.reshape(-1,1)\n",
        "g_for_lines = g_ij.reshape(-1,1)"
      ],
      "metadata": {
        "id": "PwNbXw0m_lIq"
      },
      "execution_count": 22,
      "outputs": []
    },
    {
      "cell_type": "markdown",
      "source": [
        "##  Vectorize power flow equations"
      ],
      "metadata": {
        "id": "RO7lUDgdh-qz"
      }
    },
    {
      "cell_type": "markdown",
      "source": [
        "### Define matrices"
      ],
      "metadata": {
        "id": "5Uur2zoFs_wl"
      }
    },
    {
      "cell_type": "code",
      "source": [
        "G_a = np.zeros((num_nodes, num_branches))\n",
        "for row in range(num_nodes):\n",
        "    for col in range(num_branches):\n",
        "        row_bus = bus_df['bus'].iloc[row]\n",
        "        end1 = branch_df.iloc[col, 0]\n",
        "        end2 = branch_df.iloc[col, 1]\n",
        "        edge = (end1, end2)\n",
        "\n",
        "        if row_bus not in edge:\n",
        "            G_a[row, col] = 0\n",
        "\n",
        "        else: # if bus in edge\n",
        "            if edge[0] == row_bus:\n",
        "                neighbor = edge[1]\n",
        "            else:\n",
        "                neighbor = edge[0]\n",
        "\n",
        "            # convert bus no. to numerical indexes\n",
        "            neighbor_idx = bus_to_numeric[neighbor]\n",
        "\n",
        "\n",
        "            if row > neighbor_idx: # if row > neighbor\n",
        "                G_a[row, col] = -g_ij[col]\n",
        "\n",
        "            else: # if row < neighbor\n",
        "                G_a[row, col] = -g_ij[col]\n",
        "\n",
        "\n",
        "B_a = np.zeros((num_nodes, num_branches))\n",
        "for row in range(num_nodes):\n",
        "    for col in range(num_branches):\n",
        "        row_bus = bus_df['bus'].iloc[row]\n",
        "        end1 = branch_df.iloc[col, 0]\n",
        "        end2 = branch_df.iloc[col, 1]\n",
        "        edge = (end1, end2)\n",
        "\n",
        "        if row_bus not in edge:\n",
        "            B_a[row, col] = 0\n",
        "\n",
        "        else: # if bus in edge\n",
        "            if edge[0] == row_bus:\n",
        "                neighbor = edge[1]\n",
        "            else:\n",
        "                neighbor = edge[0]\n",
        "\n",
        "            # convert bus no. to numerical indexes\n",
        "            neighbor_idx = bus_to_numeric[neighbor]\n",
        "\n",
        "            if row > neighbor_idx: # if row > neighbor\n",
        "                B_a[row, col] = -b_ij[col]\n",
        "\n",
        "            else: # if row < neighbor\n",
        "                B_a[row, col] = b_ij[col]\n",
        "\n",
        "\n",
        "print('G_a:', G_a.shape)\n",
        "print('B_a:', B_a.shape)\n",
        "\n",
        "G_hat = np.zeros((num_nodes, num_nodes))\n",
        "for m in range(num_branches):\n",
        "    end1 = branch_df.iloc[m, 0]\n",
        "    end2 = branch_df.iloc[m, 1]\n",
        "\n",
        "    row = bus_to_numeric[end1]\n",
        "    col = bus_to_numeric[end2]\n",
        "\n",
        "    G_hat[row, col] = g_ij[m]\n",
        "    G_hat[col, row] = g_ij[m]\n",
        "\n",
        "print('G_hat:', G_hat.shape)\n",
        "\n",
        "\n",
        "d_active = np.zeros((num_nodes, 1))\n",
        "for row in range(num_nodes):\n",
        "\n",
        "    d_active[row, 0] = np.sum(G_hat[row,:])\n",
        "\n",
        "print('d_active:', d_active.shape)\n",
        "\n",
        "A = np.block([\n",
        "    G_a, B_a, d_active\n",
        "])\n",
        "print('A:', A.shape)"
      ],
      "metadata": {
        "colab": {
          "base_uri": "https://localhost:8080/"
        },
        "id": "Z7Wzm09bC-j5",
        "outputId": "a5a0d30d-9cad-4398-f25b-91a9f2dd0557"
      },
      "execution_count": 23,
      "outputs": [
        {
          "output_type": "stream",
          "name": "stdout",
          "text": [
            "G_a: (3, 2)\n",
            "B_a: (3, 2)\n",
            "G_hat: (3, 3)\n",
            "d_active: (3, 1)\n",
            "A: (3, 5)\n"
          ]
        }
      ]
    },
    {
      "cell_type": "code",
      "source": [
        "G_r = np.zeros((num_nodes, num_branches))\n",
        "for row in range(num_nodes):\n",
        "    for col in range(num_branches):\n",
        "        row_bus = bus_df['bus'].iloc[row]\n",
        "        end1 = branch_df.iloc[col, 0]\n",
        "        end2 = branch_df.iloc[col, 1]\n",
        "        edge = (end1, end2)\n",
        "\n",
        "        if row_bus not in edge:\n",
        "            G_r[row, col] = 0\n",
        "\n",
        "        else: # if bus in edge\n",
        "            if edge[0] == row_bus:\n",
        "                neighbor = edge[1]\n",
        "            else:\n",
        "                neighbor = edge[0]\n",
        "\n",
        "            # convert bus no. to numerical indexes\n",
        "            neighbor_idx = bus_to_numeric[neighbor]\n",
        "\n",
        "\n",
        "            if row > neighbor_idx: # if row > neighbor\n",
        "                G_r[row, col] = g_ij[col]\n",
        "\n",
        "            else: # if row < neighbor\n",
        "                G_r[row, col] = -g_ij[col]\n",
        "\n",
        "\n",
        "B_r = np.zeros((num_nodes, num_branches))\n",
        "for row in range(num_nodes):\n",
        "    for col in range(num_branches):\n",
        "        row_bus = bus_df['bus'].iloc[row]\n",
        "        end1 = branch_df.iloc[col, 0]\n",
        "        end2 = branch_df.iloc[col, 1]\n",
        "        edge = (end1, end2)\n",
        "\n",
        "        if row_bus not in edge:\n",
        "            B_r[row, col] = 0\n",
        "\n",
        "        else: # if bus in edge\n",
        "            if edge[0] == row_bus:\n",
        "                neighbor = edge[1]\n",
        "            else:\n",
        "                neighbor = edge[0]\n",
        "\n",
        "            # convert bus no. to numerical indexes\n",
        "            neighbor_idx = bus_to_numeric[neighbor]\n",
        "\n",
        "            if row > neighbor_idx: # if row > neighbor\n",
        "                B_r[row, col] = -b_ij[col]\n",
        "\n",
        "            else: # if row < neighbor\n",
        "                B_r[row, col] = -b_ij[col]\n",
        "\n",
        "\n",
        "print('G_r:', G_r.shape)\n",
        "print('B_r:', B_r.shape)\n",
        "\n",
        "\n",
        "B_hat = np.zeros((num_nodes, num_nodes))\n",
        "for m in range(num_branches):\n",
        "    end1 = branch_df.iloc[m, 0]\n",
        "    end2 = branch_df.iloc[m, 1]\n",
        "\n",
        "    row = bus_to_numeric[end1]\n",
        "    col = bus_to_numeric[end2]\n",
        "\n",
        "    B_hat[row, col] = b_ij[m]\n",
        "    B_hat[col, row] = b_ij[m]\n",
        "\n",
        "print('B_hat:', B_hat.shape)\n",
        "\n",
        "d_reactive = np.zeros((num_nodes, 1))\n",
        "for row in range(num_nodes):\n",
        "\n",
        "    d_reactive[row, 0] = np.sum(B_hat[row,:])\n",
        "\n",
        "print('d_reactive:', d_reactive.shape)\n",
        "\n",
        "R = np.block([\n",
        "    B_r, G_r, d_reactive\n",
        "])\n",
        "print('R:', R.shape)"
      ],
      "metadata": {
        "colab": {
          "base_uri": "https://localhost:8080/"
        },
        "id": "XMHVZPMnlDAM",
        "outputId": "4ce39631-d24e-4ae4-b039-bcfb0a5ad7f4"
      },
      "execution_count": 24,
      "outputs": [
        {
          "output_type": "stream",
          "name": "stdout",
          "text": [
            "G_r: (3, 2)\n",
            "B_r: (3, 2)\n",
            "B_hat: (3, 3)\n",
            "d_reactive: (3, 1)\n",
            "R: (3, 5)\n"
          ]
        }
      ]
    },
    {
      "cell_type": "code",
      "source": [],
      "metadata": {
        "id": "peXx0jkCJAQx"
      },
      "execution_count": 24,
      "outputs": []
    },
    {
      "cell_type": "markdown",
      "source": [
        "### Power flow equations"
      ],
      "metadata": {
        "id": "kmbWQ9Pus9bs"
      }
    },
    {
      "cell_type": "code",
      "source": [
        "def p_in_voltage(theta):\n",
        "\n",
        "    x = theta.reshape(-1,1)\n",
        "    z = np.sin(E@x)\n",
        "\n",
        "    return G_a @ np.sqrt(1-z**2) + B_a @ z + d_active\n",
        "\n",
        "\n",
        "def q_in_voltage(theta):\n",
        "\n",
        "    x = theta.reshape(-1,1)\n",
        "    z = np.sin(E@x)\n",
        "\n",
        "    return B_r @ np.sqrt(1-z**2) + G_r @ z + d_reactive\n",
        "\n",
        "nominal_angle = np.zeros(num_nodes)\n",
        "p = p_in_voltage(nominal_angle)\n",
        "q = q_in_voltage(nominal_angle)\n",
        "print(p)\n",
        "print(q)"
      ],
      "metadata": {
        "colab": {
          "base_uri": "https://localhost:8080/"
        },
        "id": "auWLcUKzpMR-",
        "outputId": "62ee2912-f57b-44a0-e5b4-2441755f4f24"
      },
      "execution_count": 25,
      "outputs": [
        {
          "output_type": "stream",
          "name": "stdout",
          "text": [
            "[[0.]\n",
            " [0.]\n",
            " [0.]]\n",
            "[[0.]\n",
            " [0.]\n",
            " [0.]]\n"
          ]
        }
      ]
    },
    {
      "cell_type": "markdown",
      "source": [
        "## Nodal power bounds"
      ],
      "metadata": {
        "id": "zOBa5EudUvNr"
      }
    },
    {
      "cell_type": "code",
      "source": [
        "bus_df['Pmax'] = bus_df['bus']\n",
        "bus_df['Pmin'] = bus_df['Pd']\n",
        "bus_df['Qmax'] = bus_df['Pd']\n",
        "bus_df['Qmin'] = bus_df['Pd']\n",
        "bus_df.head()"
      ],
      "metadata": {
        "colab": {
          "base_uri": "https://localhost:8080/",
          "height": 143
        },
        "id": "Ba6lGaFzVf1j",
        "outputId": "2ba79222-1617-45b6-a00d-937a26f0bc55"
      },
      "execution_count": 26,
      "outputs": [
        {
          "output_type": "execute_result",
          "data": {
            "text/plain": [
              "   bus  type     Pd     Qd  Vmx  Vmn  Pmax   Pmin   Qmax   Qmin\n",
              "0    1     3  0.000  0.000  1.4  0.6     1  0.000  0.000  0.000\n",
              "1    2     1  0.120  0.086  1.4  0.6     2  0.120  0.120  0.120\n",
              "2    3     1  0.068  0.050  1.4  0.6     3  0.068  0.068  0.068"
            ],
            "text/html": [
              "\n",
              "  <div id=\"df-c269f24d-73aa-4591-9f48-041a2cc95862\" class=\"colab-df-container\">\n",
              "    <div>\n",
              "<style scoped>\n",
              "    .dataframe tbody tr th:only-of-type {\n",
              "        vertical-align: middle;\n",
              "    }\n",
              "\n",
              "    .dataframe tbody tr th {\n",
              "        vertical-align: top;\n",
              "    }\n",
              "\n",
              "    .dataframe thead th {\n",
              "        text-align: right;\n",
              "    }\n",
              "</style>\n",
              "<table border=\"1\" class=\"dataframe\">\n",
              "  <thead>\n",
              "    <tr style=\"text-align: right;\">\n",
              "      <th></th>\n",
              "      <th>bus</th>\n",
              "      <th>type</th>\n",
              "      <th>Pd</th>\n",
              "      <th>Qd</th>\n",
              "      <th>Vmx</th>\n",
              "      <th>Vmn</th>\n",
              "      <th>Pmax</th>\n",
              "      <th>Pmin</th>\n",
              "      <th>Qmax</th>\n",
              "      <th>Qmin</th>\n",
              "    </tr>\n",
              "  </thead>\n",
              "  <tbody>\n",
              "    <tr>\n",
              "      <th>0</th>\n",
              "      <td>1</td>\n",
              "      <td>3</td>\n",
              "      <td>0.000</td>\n",
              "      <td>0.000</td>\n",
              "      <td>1.4</td>\n",
              "      <td>0.6</td>\n",
              "      <td>1</td>\n",
              "      <td>0.000</td>\n",
              "      <td>0.000</td>\n",
              "      <td>0.000</td>\n",
              "    </tr>\n",
              "    <tr>\n",
              "      <th>1</th>\n",
              "      <td>2</td>\n",
              "      <td>1</td>\n",
              "      <td>0.120</td>\n",
              "      <td>0.086</td>\n",
              "      <td>1.4</td>\n",
              "      <td>0.6</td>\n",
              "      <td>2</td>\n",
              "      <td>0.120</td>\n",
              "      <td>0.120</td>\n",
              "      <td>0.120</td>\n",
              "    </tr>\n",
              "    <tr>\n",
              "      <th>2</th>\n",
              "      <td>3</td>\n",
              "      <td>1</td>\n",
              "      <td>0.068</td>\n",
              "      <td>0.050</td>\n",
              "      <td>1.4</td>\n",
              "      <td>0.6</td>\n",
              "      <td>3</td>\n",
              "      <td>0.068</td>\n",
              "      <td>0.068</td>\n",
              "      <td>0.068</td>\n",
              "    </tr>\n",
              "  </tbody>\n",
              "</table>\n",
              "</div>\n",
              "    <div class=\"colab-df-buttons\">\n",
              "\n",
              "  <div class=\"colab-df-container\">\n",
              "    <button class=\"colab-df-convert\" onclick=\"convertToInteractive('df-c269f24d-73aa-4591-9f48-041a2cc95862')\"\n",
              "            title=\"Convert this dataframe to an interactive table.\"\n",
              "            style=\"display:none;\">\n",
              "\n",
              "  <svg xmlns=\"http://www.w3.org/2000/svg\" height=\"24px\" viewBox=\"0 -960 960 960\">\n",
              "    <path d=\"M120-120v-720h720v720H120Zm60-500h600v-160H180v160Zm220 220h160v-160H400v160Zm0 220h160v-160H400v160ZM180-400h160v-160H180v160Zm440 0h160v-160H620v160ZM180-180h160v-160H180v160Zm440 0h160v-160H620v160Z\"/>\n",
              "  </svg>\n",
              "    </button>\n",
              "\n",
              "  <style>\n",
              "    .colab-df-container {\n",
              "      display:flex;\n",
              "      gap: 12px;\n",
              "    }\n",
              "\n",
              "    .colab-df-convert {\n",
              "      background-color: #E8F0FE;\n",
              "      border: none;\n",
              "      border-radius: 50%;\n",
              "      cursor: pointer;\n",
              "      display: none;\n",
              "      fill: #1967D2;\n",
              "      height: 32px;\n",
              "      padding: 0 0 0 0;\n",
              "      width: 32px;\n",
              "    }\n",
              "\n",
              "    .colab-df-convert:hover {\n",
              "      background-color: #E2EBFA;\n",
              "      box-shadow: 0px 1px 2px rgba(60, 64, 67, 0.3), 0px 1px 3px 1px rgba(60, 64, 67, 0.15);\n",
              "      fill: #174EA6;\n",
              "    }\n",
              "\n",
              "    .colab-df-buttons div {\n",
              "      margin-bottom: 4px;\n",
              "    }\n",
              "\n",
              "    [theme=dark] .colab-df-convert {\n",
              "      background-color: #3B4455;\n",
              "      fill: #D2E3FC;\n",
              "    }\n",
              "\n",
              "    [theme=dark] .colab-df-convert:hover {\n",
              "      background-color: #434B5C;\n",
              "      box-shadow: 0px 1px 3px 1px rgba(0, 0, 0, 0.15);\n",
              "      filter: drop-shadow(0px 1px 2px rgba(0, 0, 0, 0.3));\n",
              "      fill: #FFFFFF;\n",
              "    }\n",
              "  </style>\n",
              "\n",
              "    <script>\n",
              "      const buttonEl =\n",
              "        document.querySelector('#df-c269f24d-73aa-4591-9f48-041a2cc95862 button.colab-df-convert');\n",
              "      buttonEl.style.display =\n",
              "        google.colab.kernel.accessAllowed ? 'block' : 'none';\n",
              "\n",
              "      async function convertToInteractive(key) {\n",
              "        const element = document.querySelector('#df-c269f24d-73aa-4591-9f48-041a2cc95862');\n",
              "        const dataTable =\n",
              "          await google.colab.kernel.invokeFunction('convertToInteractive',\n",
              "                                                    [key], {});\n",
              "        if (!dataTable) return;\n",
              "\n",
              "        const docLinkHtml = 'Like what you see? Visit the ' +\n",
              "          '<a target=\"_blank\" href=https://colab.research.google.com/notebooks/data_table.ipynb>data table notebook</a>'\n",
              "          + ' to learn more about interactive tables.';\n",
              "        element.innerHTML = '';\n",
              "        dataTable['output_type'] = 'display_data';\n",
              "        await google.colab.output.renderOutput(dataTable, element);\n",
              "        const docLink = document.createElement('div');\n",
              "        docLink.innerHTML = docLinkHtml;\n",
              "        element.appendChild(docLink);\n",
              "      }\n",
              "    </script>\n",
              "  </div>\n",
              "\n",
              "    </div>\n",
              "  </div>\n"
            ]
          },
          "metadata": {},
          "execution_count": 26
        }
      ]
    },
    {
      "cell_type": "code",
      "source": [
        "gen_df_copy = gen_df.copy()\n",
        "gen_df_copy = gen_df_copy.set_index('bus')\n",
        "gen_df_copy.head()"
      ],
      "metadata": {
        "colab": {
          "base_uri": "https://localhost:8080/",
          "height": 112
        },
        "id": "sq7ePDc_Xe7D",
        "outputId": "59961961-cc35-4ee7-9394-c19f21d7f9dc"
      },
      "execution_count": 27,
      "outputs": [
        {
          "output_type": "execute_result",
          "data": {
            "text/plain": [
              "        Pg     Qg    Qmax    Qmin    Pmax  Pmin\n",
              "bus                                            \n",
              "1    300.0  129.0  3000.0 -3000.0  5000.0   0.0"
            ],
            "text/html": [
              "\n",
              "  <div id=\"df-3c9f27ee-1d12-42bc-898f-5e313bf27ade\" class=\"colab-df-container\">\n",
              "    <div>\n",
              "<style scoped>\n",
              "    .dataframe tbody tr th:only-of-type {\n",
              "        vertical-align: middle;\n",
              "    }\n",
              "\n",
              "    .dataframe tbody tr th {\n",
              "        vertical-align: top;\n",
              "    }\n",
              "\n",
              "    .dataframe thead th {\n",
              "        text-align: right;\n",
              "    }\n",
              "</style>\n",
              "<table border=\"1\" class=\"dataframe\">\n",
              "  <thead>\n",
              "    <tr style=\"text-align: right;\">\n",
              "      <th></th>\n",
              "      <th>Pg</th>\n",
              "      <th>Qg</th>\n",
              "      <th>Qmax</th>\n",
              "      <th>Qmin</th>\n",
              "      <th>Pmax</th>\n",
              "      <th>Pmin</th>\n",
              "    </tr>\n",
              "    <tr>\n",
              "      <th>bus</th>\n",
              "      <th></th>\n",
              "      <th></th>\n",
              "      <th></th>\n",
              "      <th></th>\n",
              "      <th></th>\n",
              "      <th></th>\n",
              "    </tr>\n",
              "  </thead>\n",
              "  <tbody>\n",
              "    <tr>\n",
              "      <th>1</th>\n",
              "      <td>300.0</td>\n",
              "      <td>129.0</td>\n",
              "      <td>3000.0</td>\n",
              "      <td>-3000.0</td>\n",
              "      <td>5000.0</td>\n",
              "      <td>0.0</td>\n",
              "    </tr>\n",
              "  </tbody>\n",
              "</table>\n",
              "</div>\n",
              "    <div class=\"colab-df-buttons\">\n",
              "\n",
              "  <div class=\"colab-df-container\">\n",
              "    <button class=\"colab-df-convert\" onclick=\"convertToInteractive('df-3c9f27ee-1d12-42bc-898f-5e313bf27ade')\"\n",
              "            title=\"Convert this dataframe to an interactive table.\"\n",
              "            style=\"display:none;\">\n",
              "\n",
              "  <svg xmlns=\"http://www.w3.org/2000/svg\" height=\"24px\" viewBox=\"0 -960 960 960\">\n",
              "    <path d=\"M120-120v-720h720v720H120Zm60-500h600v-160H180v160Zm220 220h160v-160H400v160Zm0 220h160v-160H400v160ZM180-400h160v-160H180v160Zm440 0h160v-160H620v160ZM180-180h160v-160H180v160Zm440 0h160v-160H620v160Z\"/>\n",
              "  </svg>\n",
              "    </button>\n",
              "\n",
              "  <style>\n",
              "    .colab-df-container {\n",
              "      display:flex;\n",
              "      gap: 12px;\n",
              "    }\n",
              "\n",
              "    .colab-df-convert {\n",
              "      background-color: #E8F0FE;\n",
              "      border: none;\n",
              "      border-radius: 50%;\n",
              "      cursor: pointer;\n",
              "      display: none;\n",
              "      fill: #1967D2;\n",
              "      height: 32px;\n",
              "      padding: 0 0 0 0;\n",
              "      width: 32px;\n",
              "    }\n",
              "\n",
              "    .colab-df-convert:hover {\n",
              "      background-color: #E2EBFA;\n",
              "      box-shadow: 0px 1px 2px rgba(60, 64, 67, 0.3), 0px 1px 3px 1px rgba(60, 64, 67, 0.15);\n",
              "      fill: #174EA6;\n",
              "    }\n",
              "\n",
              "    .colab-df-buttons div {\n",
              "      margin-bottom: 4px;\n",
              "    }\n",
              "\n",
              "    [theme=dark] .colab-df-convert {\n",
              "      background-color: #3B4455;\n",
              "      fill: #D2E3FC;\n",
              "    }\n",
              "\n",
              "    [theme=dark] .colab-df-convert:hover {\n",
              "      background-color: #434B5C;\n",
              "      box-shadow: 0px 1px 3px 1px rgba(0, 0, 0, 0.15);\n",
              "      filter: drop-shadow(0px 1px 2px rgba(0, 0, 0, 0.3));\n",
              "      fill: #FFFFFF;\n",
              "    }\n",
              "  </style>\n",
              "\n",
              "    <script>\n",
              "      const buttonEl =\n",
              "        document.querySelector('#df-3c9f27ee-1d12-42bc-898f-5e313bf27ade button.colab-df-convert');\n",
              "      buttonEl.style.display =\n",
              "        google.colab.kernel.accessAllowed ? 'block' : 'none';\n",
              "\n",
              "      async function convertToInteractive(key) {\n",
              "        const element = document.querySelector('#df-3c9f27ee-1d12-42bc-898f-5e313bf27ade');\n",
              "        const dataTable =\n",
              "          await google.colab.kernel.invokeFunction('convertToInteractive',\n",
              "                                                    [key], {});\n",
              "        if (!dataTable) return;\n",
              "\n",
              "        const docLinkHtml = 'Like what you see? Visit the ' +\n",
              "          '<a target=\"_blank\" href=https://colab.research.google.com/notebooks/data_table.ipynb>data table notebook</a>'\n",
              "          + ' to learn more about interactive tables.';\n",
              "        element.innerHTML = '';\n",
              "        dataTable['output_type'] = 'display_data';\n",
              "        await google.colab.output.renderOutput(dataTable, element);\n",
              "        const docLink = document.createElement('div');\n",
              "        docLink.innerHTML = docLinkHtml;\n",
              "        element.appendChild(docLink);\n",
              "      }\n",
              "    </script>\n",
              "  </div>\n",
              "\n",
              "    </div>\n",
              "  </div>\n"
            ]
          },
          "metadata": {},
          "execution_count": 27
        }
      ]
    },
    {
      "cell_type": "code",
      "source": [
        "for i in range(num_nodes):\n",
        "    bus = bus_df.iloc[i, 0]\n",
        "    type = bus_df.iloc[i, 1]\n",
        "    if type > 1: # generator or slack(reference) buses, copy everything\n",
        "        bus_df.loc[i, 'Pmax']= gen_df_copy.loc[bus, 'Pmax']\n",
        "        # bus_df.loc[i, 'Pmin']= gen_df_copy.loc[bus, 'Pmin']\n",
        "        bus_df.loc[i, 'Pmin']= 0\n",
        "        bus_df.loc[i, 'Qmax']= gen_df_copy.loc[bus, 'Qmax']\n",
        "        bus_df.loc[i, 'Qmin']= gen_df_copy.loc[bus, 'Qmin']\n",
        "\n",
        "    else:\n",
        "       # load buses, Pmax = -Pd; Pmin\n",
        "\n",
        "        bus_df.loc[i, 'Pmax'] = -bus_df['Pd'][i]\n",
        "        bus_df.loc[i, 'Pmin'] = -10. # set a maximum loading at this bus,\n",
        "        # based on the generators's capacity, which is 10, I set the maximum loading to be 10\n",
        "\n",
        "        # # this results in infeasibility\n",
        "        # bus_df.loc[i, 'Qmax'] = bus_df['Qd'][i] # positive Qmax means maximum reactive power that\n",
        "        # # this load bus can consume\n",
        "        # bus_df.loc[i, 'Qmin'] = 0. # postive Q min means that this load bus cannot contribute(generate)\n",
        "        # # reactive power\n",
        "        bus_df.loc[i, 'Qmax'] = 10. # this is the maximum reactive power that generator bus can contribute\n",
        "        bus_df.loc[i, 'Qmin'] = bus_df['Qd'][i]\n",
        "\n",
        "\n",
        "bus_df.head()"
      ],
      "metadata": {
        "colab": {
          "base_uri": "https://localhost:8080/",
          "height": 143
        },
        "id": "S_6ZBC7yW5uB",
        "outputId": "1c7ccc50-d9c7-4c86-cb3d-d6a0432851ab"
      },
      "execution_count": 28,
      "outputs": [
        {
          "output_type": "execute_result",
          "data": {
            "text/plain": [
              "   bus  type     Pd     Qd  Vmx  Vmn      Pmax  Pmin    Qmax      Qmin\n",
              "0    1     3  0.000  0.000  1.4  0.6  5000.000   0.0  3000.0 -3000.000\n",
              "1    2     1  0.120  0.086  1.4  0.6    -0.120 -10.0    10.0     0.086\n",
              "2    3     1  0.068  0.050  1.4  0.6    -0.068 -10.0    10.0     0.050"
            ],
            "text/html": [
              "\n",
              "  <div id=\"df-125598aa-3a6b-462b-8776-4db0f6a3bd44\" class=\"colab-df-container\">\n",
              "    <div>\n",
              "<style scoped>\n",
              "    .dataframe tbody tr th:only-of-type {\n",
              "        vertical-align: middle;\n",
              "    }\n",
              "\n",
              "    .dataframe tbody tr th {\n",
              "        vertical-align: top;\n",
              "    }\n",
              "\n",
              "    .dataframe thead th {\n",
              "        text-align: right;\n",
              "    }\n",
              "</style>\n",
              "<table border=\"1\" class=\"dataframe\">\n",
              "  <thead>\n",
              "    <tr style=\"text-align: right;\">\n",
              "      <th></th>\n",
              "      <th>bus</th>\n",
              "      <th>type</th>\n",
              "      <th>Pd</th>\n",
              "      <th>Qd</th>\n",
              "      <th>Vmx</th>\n",
              "      <th>Vmn</th>\n",
              "      <th>Pmax</th>\n",
              "      <th>Pmin</th>\n",
              "      <th>Qmax</th>\n",
              "      <th>Qmin</th>\n",
              "    </tr>\n",
              "  </thead>\n",
              "  <tbody>\n",
              "    <tr>\n",
              "      <th>0</th>\n",
              "      <td>1</td>\n",
              "      <td>3</td>\n",
              "      <td>0.000</td>\n",
              "      <td>0.000</td>\n",
              "      <td>1.4</td>\n",
              "      <td>0.6</td>\n",
              "      <td>5000.000</td>\n",
              "      <td>0.0</td>\n",
              "      <td>3000.0</td>\n",
              "      <td>-3000.000</td>\n",
              "    </tr>\n",
              "    <tr>\n",
              "      <th>1</th>\n",
              "      <td>2</td>\n",
              "      <td>1</td>\n",
              "      <td>0.120</td>\n",
              "      <td>0.086</td>\n",
              "      <td>1.4</td>\n",
              "      <td>0.6</td>\n",
              "      <td>-0.120</td>\n",
              "      <td>-10.0</td>\n",
              "      <td>10.0</td>\n",
              "      <td>0.086</td>\n",
              "    </tr>\n",
              "    <tr>\n",
              "      <th>2</th>\n",
              "      <td>3</td>\n",
              "      <td>1</td>\n",
              "      <td>0.068</td>\n",
              "      <td>0.050</td>\n",
              "      <td>1.4</td>\n",
              "      <td>0.6</td>\n",
              "      <td>-0.068</td>\n",
              "      <td>-10.0</td>\n",
              "      <td>10.0</td>\n",
              "      <td>0.050</td>\n",
              "    </tr>\n",
              "  </tbody>\n",
              "</table>\n",
              "</div>\n",
              "    <div class=\"colab-df-buttons\">\n",
              "\n",
              "  <div class=\"colab-df-container\">\n",
              "    <button class=\"colab-df-convert\" onclick=\"convertToInteractive('df-125598aa-3a6b-462b-8776-4db0f6a3bd44')\"\n",
              "            title=\"Convert this dataframe to an interactive table.\"\n",
              "            style=\"display:none;\">\n",
              "\n",
              "  <svg xmlns=\"http://www.w3.org/2000/svg\" height=\"24px\" viewBox=\"0 -960 960 960\">\n",
              "    <path d=\"M120-120v-720h720v720H120Zm60-500h600v-160H180v160Zm220 220h160v-160H400v160Zm0 220h160v-160H400v160ZM180-400h160v-160H180v160Zm440 0h160v-160H620v160ZM180-180h160v-160H180v160Zm440 0h160v-160H620v160Z\"/>\n",
              "  </svg>\n",
              "    </button>\n",
              "\n",
              "  <style>\n",
              "    .colab-df-container {\n",
              "      display:flex;\n",
              "      gap: 12px;\n",
              "    }\n",
              "\n",
              "    .colab-df-convert {\n",
              "      background-color: #E8F0FE;\n",
              "      border: none;\n",
              "      border-radius: 50%;\n",
              "      cursor: pointer;\n",
              "      display: none;\n",
              "      fill: #1967D2;\n",
              "      height: 32px;\n",
              "      padding: 0 0 0 0;\n",
              "      width: 32px;\n",
              "    }\n",
              "\n",
              "    .colab-df-convert:hover {\n",
              "      background-color: #E2EBFA;\n",
              "      box-shadow: 0px 1px 2px rgba(60, 64, 67, 0.3), 0px 1px 3px 1px rgba(60, 64, 67, 0.15);\n",
              "      fill: #174EA6;\n",
              "    }\n",
              "\n",
              "    .colab-df-buttons div {\n",
              "      margin-bottom: 4px;\n",
              "    }\n",
              "\n",
              "    [theme=dark] .colab-df-convert {\n",
              "      background-color: #3B4455;\n",
              "      fill: #D2E3FC;\n",
              "    }\n",
              "\n",
              "    [theme=dark] .colab-df-convert:hover {\n",
              "      background-color: #434B5C;\n",
              "      box-shadow: 0px 1px 3px 1px rgba(0, 0, 0, 0.15);\n",
              "      filter: drop-shadow(0px 1px 2px rgba(0, 0, 0, 0.3));\n",
              "      fill: #FFFFFF;\n",
              "    }\n",
              "  </style>\n",
              "\n",
              "    <script>\n",
              "      const buttonEl =\n",
              "        document.querySelector('#df-125598aa-3a6b-462b-8776-4db0f6a3bd44 button.colab-df-convert');\n",
              "      buttonEl.style.display =\n",
              "        google.colab.kernel.accessAllowed ? 'block' : 'none';\n",
              "\n",
              "      async function convertToInteractive(key) {\n",
              "        const element = document.querySelector('#df-125598aa-3a6b-462b-8776-4db0f6a3bd44');\n",
              "        const dataTable =\n",
              "          await google.colab.kernel.invokeFunction('convertToInteractive',\n",
              "                                                    [key], {});\n",
              "        if (!dataTable) return;\n",
              "\n",
              "        const docLinkHtml = 'Like what you see? Visit the ' +\n",
              "          '<a target=\"_blank\" href=https://colab.research.google.com/notebooks/data_table.ipynb>data table notebook</a>'\n",
              "          + ' to learn more about interactive tables.';\n",
              "        element.innerHTML = '';\n",
              "        dataTable['output_type'] = 'display_data';\n",
              "        await google.colab.output.renderOutput(dataTable, element);\n",
              "        const docLink = document.createElement('div');\n",
              "        docLink.innerHTML = docLinkHtml;\n",
              "        element.appendChild(docLink);\n",
              "      }\n",
              "    </script>\n",
              "  </div>\n",
              "\n",
              "    </div>\n",
              "  </div>\n"
            ]
          },
          "metadata": {},
          "execution_count": 28
        }
      ]
    },
    {
      "cell_type": "code",
      "source": [
        "Pd = bus_df['Pd'].to_numpy()\n",
        "print('Pd:', Pd)\n",
        "\n",
        "Qd = bus_df['Qd'].to_numpy()\n",
        "print('Qd:', Qd)\n",
        "\n",
        "Qmax = bus_df['Qmax'].to_numpy()\n",
        "Qmin = bus_df['Qmin'].to_numpy()\n",
        "Pmax = bus_df['Pmax'].to_numpy()\n",
        "Pmin = bus_df['Pmin'].to_numpy()\n",
        "print('Qmax shape:', Qmax.shape)"
      ],
      "metadata": {
        "colab": {
          "base_uri": "https://localhost:8080/"
        },
        "id": "83ODKmXvUz8P",
        "outputId": "6607747b-a2db-40d2-dddf-fe6d651f9fef"
      },
      "execution_count": 29,
      "outputs": [
        {
          "output_type": "stream",
          "name": "stdout",
          "text": [
            "Pd: [0.    0.12  0.068]\n",
            "Qd: [0.    0.086 0.05 ]\n",
            "Qmax shape: (3,)\n"
          ]
        }
      ]
    },
    {
      "cell_type": "code",
      "source": [
        "bus_types = []\n",
        "for i in range(num_nodes):\n",
        "    match bus_df.iloc[i,1]:\n",
        "        case 1:\n",
        "            # print('PQ bus')\n",
        "            bus_types.append('load')\n",
        "        case 2:\n",
        "            # print('PV bus')\n",
        "            bus_types.append('gen')\n",
        "        case 3:\n",
        "            # print('reference bus')\n",
        "            bus_types.append('slack')\n",
        "        case _:\n",
        "            # print('Isolated bus')\n",
        "            bus_types.append('isolated')\n",
        "\n",
        "print('bus types:', bus_types)"
      ],
      "metadata": {
        "colab": {
          "base_uri": "https://localhost:8080/"
        },
        "id": "VqZidEwPZllx",
        "outputId": "773f4030-a37c-4b19-fc02-01378ff90654"
      },
      "execution_count": 30,
      "outputs": [
        {
          "output_type": "stream",
          "name": "stdout",
          "text": [
            "bus types: ['slack', 'load', 'load']\n"
          ]
        }
      ]
    },
    {
      "cell_type": "markdown",
      "source": [
        "# Our method"
      ],
      "metadata": {
        "id": "tXwghYcHp0Sy"
      }
    },
    {
      "cell_type": "markdown",
      "source": [
        "## Power flow equations using cp functions"
      ],
      "metadata": {
        "id": "yuSAx_q-0x6o"
      }
    },
    {
      "cell_type": "code",
      "source": [
        "import cvxpy as cp"
      ],
      "metadata": {
        "id": "cPGWi7seZLUO"
      },
      "execution_count": 31,
      "outputs": []
    },
    {
      "cell_type": "code",
      "source": [
        "print('G_a:', G_a.shape)\n",
        "print('B_a:', B_a.shape)\n",
        "print('d_active:', d_active.shape)\n",
        "\n",
        "print('G_r:', G_r.shape)\n",
        "print('B_r:', B_r.shape)\n",
        "print('d_reactive:', d_reactive.shape)"
      ],
      "metadata": {
        "colab": {
          "base_uri": "https://localhost:8080/"
        },
        "id": "j4WyECk7nDa7",
        "outputId": "704dd7bf-d230-43fb-c53b-a032edab16dc"
      },
      "execution_count": 32,
      "outputs": [
        {
          "output_type": "stream",
          "name": "stdout",
          "text": [
            "G_a: (3, 2)\n",
            "B_a: (3, 2)\n",
            "d_active: (3, 1)\n",
            "G_r: (3, 2)\n",
            "B_r: (3, 2)\n",
            "d_reactive: (3, 1)\n"
          ]
        }
      ]
    },
    {
      "cell_type": "code",
      "source": [
        "bus_df.head()"
      ],
      "metadata": {
        "colab": {
          "base_uri": "https://localhost:8080/",
          "height": 143
        },
        "id": "_Tk8s7HyntHn",
        "outputId": "028e0fe3-0792-4a45-a3ba-739cd4d1598e"
      },
      "execution_count": 33,
      "outputs": [
        {
          "output_type": "execute_result",
          "data": {
            "text/plain": [
              "   bus  type     Pd     Qd  Vmx  Vmn      Pmax  Pmin    Qmax      Qmin\n",
              "0    1     3  0.000  0.000  1.4  0.6  5000.000   0.0  3000.0 -3000.000\n",
              "1    2     1  0.120  0.086  1.4  0.6    -0.120 -10.0    10.0     0.086\n",
              "2    3     1  0.068  0.050  1.4  0.6    -0.068 -10.0    10.0     0.050"
            ],
            "text/html": [
              "\n",
              "  <div id=\"df-8cdcf50d-f1e2-450f-b576-5754203a1e4a\" class=\"colab-df-container\">\n",
              "    <div>\n",
              "<style scoped>\n",
              "    .dataframe tbody tr th:only-of-type {\n",
              "        vertical-align: middle;\n",
              "    }\n",
              "\n",
              "    .dataframe tbody tr th {\n",
              "        vertical-align: top;\n",
              "    }\n",
              "\n",
              "    .dataframe thead th {\n",
              "        text-align: right;\n",
              "    }\n",
              "</style>\n",
              "<table border=\"1\" class=\"dataframe\">\n",
              "  <thead>\n",
              "    <tr style=\"text-align: right;\">\n",
              "      <th></th>\n",
              "      <th>bus</th>\n",
              "      <th>type</th>\n",
              "      <th>Pd</th>\n",
              "      <th>Qd</th>\n",
              "      <th>Vmx</th>\n",
              "      <th>Vmn</th>\n",
              "      <th>Pmax</th>\n",
              "      <th>Pmin</th>\n",
              "      <th>Qmax</th>\n",
              "      <th>Qmin</th>\n",
              "    </tr>\n",
              "  </thead>\n",
              "  <tbody>\n",
              "    <tr>\n",
              "      <th>0</th>\n",
              "      <td>1</td>\n",
              "      <td>3</td>\n",
              "      <td>0.000</td>\n",
              "      <td>0.000</td>\n",
              "      <td>1.4</td>\n",
              "      <td>0.6</td>\n",
              "      <td>5000.000</td>\n",
              "      <td>0.0</td>\n",
              "      <td>3000.0</td>\n",
              "      <td>-3000.000</td>\n",
              "    </tr>\n",
              "    <tr>\n",
              "      <th>1</th>\n",
              "      <td>2</td>\n",
              "      <td>1</td>\n",
              "      <td>0.120</td>\n",
              "      <td>0.086</td>\n",
              "      <td>1.4</td>\n",
              "      <td>0.6</td>\n",
              "      <td>-0.120</td>\n",
              "      <td>-10.0</td>\n",
              "      <td>10.0</td>\n",
              "      <td>0.086</td>\n",
              "    </tr>\n",
              "    <tr>\n",
              "      <th>2</th>\n",
              "      <td>3</td>\n",
              "      <td>1</td>\n",
              "      <td>0.068</td>\n",
              "      <td>0.050</td>\n",
              "      <td>1.4</td>\n",
              "      <td>0.6</td>\n",
              "      <td>-0.068</td>\n",
              "      <td>-10.0</td>\n",
              "      <td>10.0</td>\n",
              "      <td>0.050</td>\n",
              "    </tr>\n",
              "  </tbody>\n",
              "</table>\n",
              "</div>\n",
              "    <div class=\"colab-df-buttons\">\n",
              "\n",
              "  <div class=\"colab-df-container\">\n",
              "    <button class=\"colab-df-convert\" onclick=\"convertToInteractive('df-8cdcf50d-f1e2-450f-b576-5754203a1e4a')\"\n",
              "            title=\"Convert this dataframe to an interactive table.\"\n",
              "            style=\"display:none;\">\n",
              "\n",
              "  <svg xmlns=\"http://www.w3.org/2000/svg\" height=\"24px\" viewBox=\"0 -960 960 960\">\n",
              "    <path d=\"M120-120v-720h720v720H120Zm60-500h600v-160H180v160Zm220 220h160v-160H400v160Zm0 220h160v-160H400v160ZM180-400h160v-160H180v160Zm440 0h160v-160H620v160ZM180-180h160v-160H180v160Zm440 0h160v-160H620v160Z\"/>\n",
              "  </svg>\n",
              "    </button>\n",
              "\n",
              "  <style>\n",
              "    .colab-df-container {\n",
              "      display:flex;\n",
              "      gap: 12px;\n",
              "    }\n",
              "\n",
              "    .colab-df-convert {\n",
              "      background-color: #E8F0FE;\n",
              "      border: none;\n",
              "      border-radius: 50%;\n",
              "      cursor: pointer;\n",
              "      display: none;\n",
              "      fill: #1967D2;\n",
              "      height: 32px;\n",
              "      padding: 0 0 0 0;\n",
              "      width: 32px;\n",
              "    }\n",
              "\n",
              "    .colab-df-convert:hover {\n",
              "      background-color: #E2EBFA;\n",
              "      box-shadow: 0px 1px 2px rgba(60, 64, 67, 0.3), 0px 1px 3px 1px rgba(60, 64, 67, 0.15);\n",
              "      fill: #174EA6;\n",
              "    }\n",
              "\n",
              "    .colab-df-buttons div {\n",
              "      margin-bottom: 4px;\n",
              "    }\n",
              "\n",
              "    [theme=dark] .colab-df-convert {\n",
              "      background-color: #3B4455;\n",
              "      fill: #D2E3FC;\n",
              "    }\n",
              "\n",
              "    [theme=dark] .colab-df-convert:hover {\n",
              "      background-color: #434B5C;\n",
              "      box-shadow: 0px 1px 3px 1px rgba(0, 0, 0, 0.15);\n",
              "      filter: drop-shadow(0px 1px 2px rgba(0, 0, 0, 0.3));\n",
              "      fill: #FFFFFF;\n",
              "    }\n",
              "  </style>\n",
              "\n",
              "    <script>\n",
              "      const buttonEl =\n",
              "        document.querySelector('#df-8cdcf50d-f1e2-450f-b576-5754203a1e4a button.colab-df-convert');\n",
              "      buttonEl.style.display =\n",
              "        google.colab.kernel.accessAllowed ? 'block' : 'none';\n",
              "\n",
              "      async function convertToInteractive(key) {\n",
              "        const element = document.querySelector('#df-8cdcf50d-f1e2-450f-b576-5754203a1e4a');\n",
              "        const dataTable =\n",
              "          await google.colab.kernel.invokeFunction('convertToInteractive',\n",
              "                                                    [key], {});\n",
              "        if (!dataTable) return;\n",
              "\n",
              "        const docLinkHtml = 'Like what you see? Visit the ' +\n",
              "          '<a target=\"_blank\" href=https://colab.research.google.com/notebooks/data_table.ipynb>data table notebook</a>'\n",
              "          + ' to learn more about interactive tables.';\n",
              "        element.innerHTML = '';\n",
              "        dataTable['output_type'] = 'display_data';\n",
              "        await google.colab.output.renderOutput(dataTable, element);\n",
              "        const docLink = document.createElement('div');\n",
              "        docLink.innerHTML = docLinkHtml;\n",
              "        element.appendChild(docLink);\n",
              "      }\n",
              "    </script>\n",
              "  </div>\n",
              "\n",
              "    </div>\n",
              "  </div>\n"
            ]
          },
          "metadata": {},
          "execution_count": 33
        }
      ]
    },
    {
      "cell_type": "code",
      "source": [
        "branch_df.head()"
      ],
      "metadata": {
        "colab": {
          "base_uri": "https://localhost:8080/",
          "height": 112
        },
        "id": "5_LkLhteXwWd",
        "outputId": "6fc6a100-12c3-4089-9a0e-1485e33f5440"
      },
      "execution_count": 34,
      "outputs": [
        {
          "output_type": "execute_result",
          "data": {
            "text/plain": [
              "   fbus  tbus       r       x      b  conductance(g)  susceptance(b)  index\n",
              "0     1     2  0.0400  0.2000  0.000        0.961538        4.807692      0\n",
              "1     2     3  0.0139  0.0605  2.459        3.607148       15.700176      1"
            ],
            "text/html": [
              "\n",
              "  <div id=\"df-a6d30dac-2d29-44dc-b066-eec1645e6075\" class=\"colab-df-container\">\n",
              "    <div>\n",
              "<style scoped>\n",
              "    .dataframe tbody tr th:only-of-type {\n",
              "        vertical-align: middle;\n",
              "    }\n",
              "\n",
              "    .dataframe tbody tr th {\n",
              "        vertical-align: top;\n",
              "    }\n",
              "\n",
              "    .dataframe thead th {\n",
              "        text-align: right;\n",
              "    }\n",
              "</style>\n",
              "<table border=\"1\" class=\"dataframe\">\n",
              "  <thead>\n",
              "    <tr style=\"text-align: right;\">\n",
              "      <th></th>\n",
              "      <th>fbus</th>\n",
              "      <th>tbus</th>\n",
              "      <th>r</th>\n",
              "      <th>x</th>\n",
              "      <th>b</th>\n",
              "      <th>conductance(g)</th>\n",
              "      <th>susceptance(b)</th>\n",
              "      <th>index</th>\n",
              "    </tr>\n",
              "  </thead>\n",
              "  <tbody>\n",
              "    <tr>\n",
              "      <th>0</th>\n",
              "      <td>1</td>\n",
              "      <td>2</td>\n",
              "      <td>0.0400</td>\n",
              "      <td>0.2000</td>\n",
              "      <td>0.000</td>\n",
              "      <td>0.961538</td>\n",
              "      <td>4.807692</td>\n",
              "      <td>0</td>\n",
              "    </tr>\n",
              "    <tr>\n",
              "      <th>1</th>\n",
              "      <td>2</td>\n",
              "      <td>3</td>\n",
              "      <td>0.0139</td>\n",
              "      <td>0.0605</td>\n",
              "      <td>2.459</td>\n",
              "      <td>3.607148</td>\n",
              "      <td>15.700176</td>\n",
              "      <td>1</td>\n",
              "    </tr>\n",
              "  </tbody>\n",
              "</table>\n",
              "</div>\n",
              "    <div class=\"colab-df-buttons\">\n",
              "\n",
              "  <div class=\"colab-df-container\">\n",
              "    <button class=\"colab-df-convert\" onclick=\"convertToInteractive('df-a6d30dac-2d29-44dc-b066-eec1645e6075')\"\n",
              "            title=\"Convert this dataframe to an interactive table.\"\n",
              "            style=\"display:none;\">\n",
              "\n",
              "  <svg xmlns=\"http://www.w3.org/2000/svg\" height=\"24px\" viewBox=\"0 -960 960 960\">\n",
              "    <path d=\"M120-120v-720h720v720H120Zm60-500h600v-160H180v160Zm220 220h160v-160H400v160Zm0 220h160v-160H400v160ZM180-400h160v-160H180v160Zm440 0h160v-160H620v160ZM180-180h160v-160H180v160Zm440 0h160v-160H620v160Z\"/>\n",
              "  </svg>\n",
              "    </button>\n",
              "\n",
              "  <style>\n",
              "    .colab-df-container {\n",
              "      display:flex;\n",
              "      gap: 12px;\n",
              "    }\n",
              "\n",
              "    .colab-df-convert {\n",
              "      background-color: #E8F0FE;\n",
              "      border: none;\n",
              "      border-radius: 50%;\n",
              "      cursor: pointer;\n",
              "      display: none;\n",
              "      fill: #1967D2;\n",
              "      height: 32px;\n",
              "      padding: 0 0 0 0;\n",
              "      width: 32px;\n",
              "    }\n",
              "\n",
              "    .colab-df-convert:hover {\n",
              "      background-color: #E2EBFA;\n",
              "      box-shadow: 0px 1px 2px rgba(60, 64, 67, 0.3), 0px 1px 3px 1px rgba(60, 64, 67, 0.15);\n",
              "      fill: #174EA6;\n",
              "    }\n",
              "\n",
              "    .colab-df-buttons div {\n",
              "      margin-bottom: 4px;\n",
              "    }\n",
              "\n",
              "    [theme=dark] .colab-df-convert {\n",
              "      background-color: #3B4455;\n",
              "      fill: #D2E3FC;\n",
              "    }\n",
              "\n",
              "    [theme=dark] .colab-df-convert:hover {\n",
              "      background-color: #434B5C;\n",
              "      box-shadow: 0px 1px 3px 1px rgba(0, 0, 0, 0.15);\n",
              "      filter: drop-shadow(0px 1px 2px rgba(0, 0, 0, 0.3));\n",
              "      fill: #FFFFFF;\n",
              "    }\n",
              "  </style>\n",
              "\n",
              "    <script>\n",
              "      const buttonEl =\n",
              "        document.querySelector('#df-a6d30dac-2d29-44dc-b066-eec1645e6075 button.colab-df-convert');\n",
              "      buttonEl.style.display =\n",
              "        google.colab.kernel.accessAllowed ? 'block' : 'none';\n",
              "\n",
              "      async function convertToInteractive(key) {\n",
              "        const element = document.querySelector('#df-a6d30dac-2d29-44dc-b066-eec1645e6075');\n",
              "        const dataTable =\n",
              "          await google.colab.kernel.invokeFunction('convertToInteractive',\n",
              "                                                    [key], {});\n",
              "        if (!dataTable) return;\n",
              "\n",
              "        const docLinkHtml = 'Like what you see? Visit the ' +\n",
              "          '<a target=\"_blank\" href=https://colab.research.google.com/notebooks/data_table.ipynb>data table notebook</a>'\n",
              "          + ' to learn more about interactive tables.';\n",
              "        element.innerHTML = '';\n",
              "        dataTable['output_type'] = 'display_data';\n",
              "        await google.colab.output.renderOutput(dataTable, element);\n",
              "        const docLink = document.createElement('div');\n",
              "        docLink.innerHTML = docLinkHtml;\n",
              "        element.appendChild(docLink);\n",
              "      }\n",
              "    </script>\n",
              "  </div>\n",
              "\n",
              "    </div>\n",
              "  </div>\n"
            ]
          },
          "metadata": {},
          "execution_count": 34
        }
      ]
    },
    {
      "cell_type": "code",
      "source": [
        "def cp_p_in_transformed_space(z):\n",
        "\n",
        "    return G_a @ cp.sqrt(1-cp.square(z)) + B_a @ z + d_active\n",
        "\n",
        "def cp_q_in_transformed_space(z):\n",
        "\n",
        "    return B_r @ cp.sqrt(1-cp.square(z)) + G_r @ z + d_reactive\n",
        "\n",
        "\n",
        "def p_in_transformed_space(z):\n",
        "\n",
        "    z = z.reshape(-1, 1)\n",
        "\n",
        "    return G_a @ np.sqrt(1-z**2) + B_a @ z + d_active\n",
        "\n",
        "\n",
        "\n",
        "def q_in_transformed_space(z):\n",
        "\n",
        "    z = z.reshape(-1, 1)\n",
        "\n",
        "    return B_r @ np.sqrt(1-z**2) + G_r @ z + d_reactive\n",
        "\n",
        "def recover_phase_angle(z):\n",
        "    z = np.squeeze(z)\n",
        "\n",
        "    all_edges = branch_df[['fbus', 'tbus']].values\n",
        "    recovered = dict()\n",
        "    for row in bus_df['bus'].values:\n",
        "        recovered[row] = 0.\n",
        "\n",
        "    for i, row in enumerate(all_edges):\n",
        "        print(\"The edge is: {}, and the angle difference is: {}\".format(row, np.arcsin(z[i])))\n",
        "        node1 = row[0]\n",
        "        node2 = row[1]\n",
        "        if node1 < node2:\n",
        "            recovered[node2] = recovered[node1] - np.arcsin(z[i])\n",
        "        else:\n",
        "            recovered[node1] = recovered[node2] - np.arcsin(z[i])\n",
        "\n",
        "    x = list(recovered.values())\n",
        "    print('recovered values:', recovered)\n",
        "\n",
        "    return x"
      ],
      "metadata": {
        "id": "yLqYng-hdwQR"
      },
      "execution_count": 35,
      "outputs": []
    },
    {
      "cell_type": "code",
      "source": [
        "from scipy.optimize import fsolve\n",
        "# scipy.optimize.fsolve(func, x0)\n",
        "# func : callable f(x, *args)\n",
        "# func can be vector function\n",
        "# find the roots of the (non-linear) equations defined by func(x) = 0 given a starting estimate.\n",
        "# def func(x):\n",
        "#     return [x[0] * np.cos(x[1]) - 4,\n",
        "#             x[1] * x[0] - x[1] - 5]\n",
        "# root = fsolve(func=func, x0=[1, 1])\n",
        "\n",
        "# np.isclose(func(root), [0.0, 0.0])  # func(root) should be almost 0.0.\n"
      ],
      "metadata": {
        "id": "UIHWuxoMrPTT"
      },
      "execution_count": 36,
      "outputs": []
    },
    {
      "cell_type": "markdown",
      "source": [
        "## Check solution feasibility"
      ],
      "metadata": {
        "id": "iCyKugKV8i7j"
      }
    },
    {
      "cell_type": "code",
      "source": [
        "# check if origin is a feasible point\n",
        "def is_voltage_feasible(theta):\n",
        "\n",
        "    p = p_in_voltage(theta)\n",
        "    q = q_in_voltage(theta)\n",
        "\n",
        "    print('p_max:\\n', np.squeeze(Pmax))\n",
        "    print('p:\\n', np.squeeze(p))\n",
        "    print('p_min:\\n', np.squeeze(Pmin))\n",
        "\n",
        "    print('q_max:\\n', np.squeeze(Qmax))\n",
        "    print('q:\\n', np.squeeze(q))\n",
        "    print('q_min:\\n', np.squeeze(Qmin))\n",
        "\n",
        "    p_values = np.squeeze(p)\n",
        "    q_values = np.squeeze(q)\n",
        "\n",
        "    tolerance = -1e-6\n",
        "\n",
        "    # if np.all(p_values>=Pmin) & np.all(p_values<=Pmax) & np.all(q_values >=Qmin) & np.all(q_values<=Qmax):\n",
        "    if np.all(p_values-Pmin>=tolerance) & np.all(Pmax-p_values>=tolerance) & np.all(q_values-Qmin>=tolerance) & np.all(Qmax-q_values>=tolerance):\n",
        "\n",
        "        return True\n",
        "    else:\n",
        "        return False\n",
        "\n",
        "\n",
        "nominal_angle = np.zeros(num_nodes)\n",
        "is_voltage_feasible(nominal_angle) # Nooope\n"
      ],
      "metadata": {
        "colab": {
          "base_uri": "https://localhost:8080/"
        },
        "id": "lNHKOTjjlZI7",
        "outputId": "25a6ce8a-2e0d-4574-a2cd-22e09b1719af"
      },
      "execution_count": 37,
      "outputs": [
        {
          "output_type": "stream",
          "name": "stdout",
          "text": [
            "p_max:\n",
            " [ 5.0e+03 -1.2e-01 -6.8e-02]\n",
            "p:\n",
            " [0. 0. 0.]\n",
            "p_min:\n",
            " [  0. -10. -10.]\n",
            "q_max:\n",
            " [3000.   10.   10.]\n",
            "q:\n",
            " [0. 0. 0.]\n",
            "q_min:\n",
            " [-3.0e+03  8.6e-02  5.0e-02]\n"
          ]
        },
        {
          "output_type": "execute_result",
          "data": {
            "text/plain": [
              "False"
            ]
          },
          "metadata": {},
          "execution_count": 37
        }
      ]
    },
    {
      "cell_type": "code",
      "source": [
        "def is_z_feasible(z):\n",
        "\n",
        "    p = p_in_transformed_space(z)\n",
        "    q = q_in_transformed_space(z)\n",
        "\n",
        "    print('p_max:\\n', np.squeeze(Pmax))\n",
        "    print('p:\\n', np.squeeze(p))\n",
        "    print('p_min:\\n', np.squeeze(Pmin))\n",
        "\n",
        "    print('q_max:\\n', np.squeeze(Qmax))\n",
        "    print('q:\\n', np.squeeze(q))\n",
        "    print('q_min:\\n', np.squeeze(Qmin))\n",
        "\n",
        "\n",
        "    p_values = np.squeeze(p)\n",
        "    q_values = np.squeeze(q)\n",
        "    # print('p1-p1_max:',p_values[0]-Pmax[0])\n",
        "    # print('p2-p2_max:',p_values[1]-Pmax[1])\n",
        "    # print('p3-p3_max:',p_values[2]-Pmax[2])\n",
        "    # print('p400-p400_max:',p_values[3]-Pmax[3])\n",
        "\n",
        "\n",
        "    # print('p>=Pmin?',np.all(p_values>=Pmin))\n",
        "    # print('p<=Pmax?',np.all(p_values<=Pmax))\n",
        "    # print('q>=Qmin?',np.all(q_values>=Qmin))\n",
        "    # print('q<=Qmax?',np.all(q_values<=Qmax))\n",
        "    # print('p-Pmin:',p_values-Pmin)\n",
        "    # print('Pmax-p:',Pmax-p_values)\n",
        "    # print('q-Qmin:',q_values-Qmin)\n",
        "    # print('Qmax-q:',Qmax-q_values)\n",
        "\n",
        "    tolerance = -1e-6\n",
        "\n",
        "    # if np.all(p_values>=Pmin) & np.all(p_values<=Pmax) & np.all(q_values >=Qmin) & np.all(q_values<=Qmax):\n",
        "    if np.all(p_values-Pmin>=tolerance) & np.all(Pmax-p_values>=tolerance) & np.all(q_values-Qmin>=tolerance) & np.all(Qmax-q_values>=tolerance):\n",
        "\n",
        "        return True\n",
        "    else:\n",
        "        return False\n",
        "\n",
        "\n",
        "nominal_z = np.zeros(num_branches)\n",
        "is_z_feasible(nominal_z)"
      ],
      "metadata": {
        "colab": {
          "base_uri": "https://localhost:8080/"
        },
        "id": "lpRhENKQ78oP",
        "outputId": "b851d503-1100-4530-e504-008670af3f0c"
      },
      "execution_count": 38,
      "outputs": [
        {
          "output_type": "stream",
          "name": "stdout",
          "text": [
            "p_max:\n",
            " [ 5.0e+03 -1.2e-01 -6.8e-02]\n",
            "p:\n",
            " [0. 0. 0.]\n",
            "p_min:\n",
            " [  0. -10. -10.]\n",
            "q_max:\n",
            " [3000.   10.   10.]\n",
            "q:\n",
            " [0. 0. 0.]\n",
            "q_min:\n",
            " [-3.0e+03  8.6e-02  5.0e-02]\n"
          ]
        },
        {
          "output_type": "execute_result",
          "data": {
            "text/plain": [
              "False"
            ]
          },
          "metadata": {},
          "execution_count": 38
        }
      ]
    },
    {
      "cell_type": "markdown",
      "source": [
        "## Linearize nodal power"
      ],
      "metadata": {
        "id": "a29oAciO6qRJ"
      }
    },
    {
      "cell_type": "markdown",
      "source": [
        "### Input an interior point"
      ],
      "metadata": {
        "id": "2Hws20JX7ee8"
      }
    },
    {
      "cell_type": "code",
      "source": [
        "# theta_soln_nr = np.array([0.0, -0.03929, -0.04362]).reshape(-1,1)\n",
        "\n",
        "# z_int = np.sin(E @ theta_soln_nr)\n",
        "# print('z_int:', z_int)\n",
        "INTERIOR_Z = np.array([0.5, 0.04]).reshape(-1,1)\n",
        "is_z_feasible(INTERIOR_Z )"
      ],
      "metadata": {
        "colab": {
          "base_uri": "https://localhost:8080/"
        },
        "id": "k-WzSaMejY2M",
        "outputId": "d341b333-ef10-4abe-b3ac-85035da334d4"
      },
      "execution_count": 39,
      "outputs": [
        {
          "output_type": "stream",
          "name": "stdout",
          "text": [
            "p_max:\n",
            " [ 5.0e+03 -1.2e-01 -6.8e-02]\n",
            "p:\n",
            " [ 2.53266788 -1.64413052 -0.62512016]\n",
            "p_min:\n",
            " [  0. -10. -10.]\n",
            "q_max:\n",
            " [3000.   10.   10.]\n",
            "q:\n",
            " [0.1633394  0.99315712 0.15685108]\n",
            "q_min:\n",
            " [-3.0e+03  8.6e-02  5.0e-02]\n"
          ]
        },
        {
          "output_type": "execute_result",
          "data": {
            "text/plain": [
              "True"
            ]
          },
          "metadata": {},
          "execution_count": 39
        }
      ]
    },
    {
      "cell_type": "markdown",
      "source": [
        "### Meta functions"
      ],
      "metadata": {
        "id": "bM-4W3jfflyj"
      }
    },
    {
      "cell_type": "code",
      "source": [
        "def root_of_quadratic_equation(params):\n",
        "    a = params['a']\n",
        "    b = params['b']\n",
        "    c = params['c']\n",
        "\n",
        "    A = a**2 + b**2\n",
        "    B = 2*b*c\n",
        "    C = c**2 - a**2\n",
        "\n",
        "    # discriminant is denoted by D\n",
        "    D = B**2 - 4*A*C\n",
        "\n",
        "    if np.isclose(D, 0.0, atol=1e-9):# this equation has a single real root\n",
        "\n",
        "        root = (-B)/(2*A)\n",
        "\n",
        "        return [root], 1\n",
        "\n",
        "    elif D > 0.0: # this equation has two distinct real roots\n",
        "\n",
        "        # find two solutions\n",
        "        sol1 = (-B-cmath.sqrt(D))/(2*A)\n",
        "        sol2 = (-B+cmath.sqrt(D))/(2*A)\n",
        "\n",
        "        root1 = sol1.real\n",
        "        root2 = sol2.real\n",
        "\n",
        "        roots = []\n",
        "        if (-b*root1-c)/a >= 0.0:\n",
        "\n",
        "            roots.append(root1)\n",
        "        if (-b*root2-c)/a >= 0.0:\n",
        "\n",
        "            roots.append(root2)\n",
        "\n",
        "        return roots, len(roots)\n",
        "\n",
        "    else: # D<0.0 and this equation has no real root\n",
        "\n",
        "        return None, 0\n",
        "\n",
        "def f_prime(x):\n",
        "\n",
        "    return -x/np.sqrt(1-x**2)\n",
        "\n",
        "\n",
        "def Jacobian(z):\n",
        "    z = np.squeeze(z)\n",
        "\n",
        "    return np.diag(f_prime(z))\n",
        "\n",
        "\n",
        "def linearize_Pi(bus_i, z_base, z):\n",
        "    z_base = z_base.reshape(-1,1)\n",
        "\n",
        "    G_a_rowi = G_a[bus_i,:].reshape(1,-1)\n",
        "    B_a_rowi = B_a[bus_i,:].reshape(1,-1)\n",
        "\n",
        "    Pi_z_base = G_a_rowi @ np.sqrt(1-z_base**2) + B_a_rowi @ z_base + d_active[bus_i,0]\n",
        "    Pi_z_base = Pi_z_base[0,0]\n",
        "\n",
        "    dp_dz_base = G_a_rowi @ Jacobian(z_base) + B_a_rowi # a row vector\n",
        "    # print('dp_dz_base:', dp_dz_base.shape)\n",
        "    linearization = Pi_z_base + dp_dz_base @ (z-z_base)\n",
        "    # print('linearization:', linearization.shape)\n",
        "\n",
        "    return linearization[0,0]\n",
        "\n",
        "\n",
        "def linearize_Qi(bus_i, z_base, z):\n",
        "    z_base = z_base.reshape(-1,1)\n",
        "\n",
        "    B_r_rowi = B_r[bus_i,:].reshape(1,-1)\n",
        "    G_r_rowi = G_r[bus_i,:].reshape(1,-1)\n",
        "\n",
        "    Qi_z_base = B_r_rowi @ np.sqrt(1-z_base**2) + G_r_rowi @ z_base + d_reactive[bus_i,0]\n",
        "    Qi_z_base = Qi_z_base[0,0]\n",
        "\n",
        "    dq_dz_base = B_r_rowi @ Jacobian(z_base) + G_r_rowi # a row vector\n",
        "    # print('dp_dz_base:', dp_dz_base.shape)\n",
        "    linearization = Qi_z_base + dq_dz_base @ (z-z_base)\n",
        "    # print('linearization:', linearization.shape)\n",
        "\n",
        "    return linearization[0,0]\n"
      ],
      "metadata": {
        "id": "n6nsrUMPGJWh"
      },
      "execution_count": 40,
      "outputs": []
    },
    {
      "cell_type": "markdown",
      "source": [
        "### Get base point for nodal active power"
      ],
      "metadata": {
        "id": "Z1cgqyRi8KN3"
      }
    },
    {
      "cell_type": "code",
      "source": [
        "def basePoint_for_nodalActivePow(bus_name, z_nominal):\n",
        "    print('Linearize P{}...'.format(bus_name))\n",
        "\n",
        "    print('An interior point is ', z_nominal.tolist())\n",
        "\n",
        "    bus_i = bus_to_numeric[bus_name]\n",
        "    print('bus_i:', bus_i)\n",
        "\n",
        "    p_min = np.squeeze(Pmin)\n",
        "    Pi_min = p_min[bus_i]\n",
        "    print('Pi_min:', Pi_min)\n",
        "\n",
        "    index_links_to_i = branch_df[(branch_df[\"fbus\"] == bus_name) | (branch_df[\"tbus\"] == bus_name)]['index'].to_numpy()\n",
        "    links_to_i = branch_df.loc[index_links_to_i, ['fbus', 'tbus']]\n",
        "\n",
        "    print('links connecting to bus_i:\\n', links_to_i)\n",
        "\n",
        "\n",
        "    for k in index_links_to_i:\n",
        "\n",
        "        print('Set z[{}] to be free'.format(k))\n",
        "        print('Solve quadratic equation to get z[{}]....'.format(k))\n",
        "\n",
        "        z_base = z_nominal.reshape(-1,1)\n",
        "\n",
        "        params = dict()\n",
        "        params['a'] = G_a[bus_i, k]\n",
        "        params['b'] = B_a[bus_i, k]\n",
        "\n",
        "        remaining_cols = index_links_to_i.copy().tolist()\n",
        "        remaining_cols.remove(k)\n",
        "\n",
        "        if len(remaining_cols)==0: # this is a leaf node:\n",
        "            params['c'] = d_active[bus_i, 0] - Pi_min\n",
        "        else:\n",
        "            param_c = G_a[bus_i, remaining_cols] @ np.sqrt(1-z_base[remaining_cols,:]**2) +\\\n",
        "                            B_a[bus_i, remaining_cols] @ z_base[remaining_cols,:] + d_active[bus_i, :] - Pi_min\n",
        "            params['c'] = param_c[0]\n",
        "\n",
        "        roots, num_roots = root_of_quadratic_equation(params)\n",
        "        print('number of roots:', num_roots)\n",
        "        print('roots:', roots)\n",
        "\n",
        "        if num_roots == 1:\n",
        "            if roots[0]<=1 and roots[0]>=-1:\n",
        "                z_base = z_nominal\n",
        "                z_base[k] = roots[0]\n",
        "\n",
        "                print('Set z[{}] using {}'.format(k, roots[0]))\n",
        "                print('z_base is ', z_base.tolist())\n",
        "\n",
        "                # linearization = linearize_Pi(bus_i, z_base, z)\n",
        "\n",
        "                if linearize_Pi(bus_i, z_base, z_nominal)>=Pi_min:\n",
        "\n",
        "                        print('Success!')\n",
        "\n",
        "                        return np.squeeze(z_base).tolist()\n",
        "\n",
        "        if num_roots == 2:\n",
        "\n",
        "            for root in roots:\n",
        "                if root<=1 and root>=-1:\n",
        "                    z_base = z_nominal\n",
        "                    z_base[k] = root\n",
        "\n",
        "                    print('Set z[{}] using {}'.format(k, roots))\n",
        "                    print('z_base is ', z_base.tolist())\n",
        "\n",
        "                    # linearization = linearize_Pi(bus_i, z_base, z)\n",
        "\n",
        "                    # check if INTERIOR_Z is included in the restricted feasibility set\n",
        "                    # constructed by setting z_k free\n",
        "                    # if restricted_set_contains_z_int:\n",
        "                    if linearize_Pi(bus_i, z_base, z_nominal)>=Pi_min:\n",
        "\n",
        "                        print('Success!')\n",
        "\n",
        "                        return np.squeeze(z_base).tolist()\n",
        "\n",
        "                    print('Restricted set does not contain z_int. Try the other root.')\n",
        "\n",
        "        # if both roots are visied and neither works\n",
        "        # change to the other connected link\n",
        "\n",
        "    # if every path is tried and none of them works\n",
        "    # print('Is this possible?')\n",
        "    # sys.exit()\n",
        "\n",
        "    print('Ignore constraint P{}>=P{}_min'.format(bus_name, bus_name))\n",
        "\n",
        "    return None\n"
      ],
      "metadata": {
        "id": "YhBbKLJf8FyV"
      },
      "execution_count": 41,
      "outputs": []
    },
    {
      "cell_type": "code",
      "source": [
        "basePoint_for_nodalActivePow(1, INTERIOR_Z)"
      ],
      "metadata": {
        "colab": {
          "base_uri": "https://localhost:8080/"
        },
        "id": "0GkA7zxj6uOv",
        "outputId": "95a3bfb9-ee80-4f7f-aac5-8fb42379564d"
      },
      "execution_count": 42,
      "outputs": [
        {
          "output_type": "stream",
          "name": "stdout",
          "text": [
            "Linearize P1...\n",
            "An interior point is  [[0.5], [0.04]]\n",
            "bus_i: 0\n",
            "Pi_min: 0.0\n",
            "links connecting to bus_i:\n",
            "    fbus  tbus\n",
            "0     1     2\n",
            "Set z[0] to be free\n",
            "Solve quadratic equation to get z[0]....\n",
            "number of roots: 1\n",
            "roots: [0.0]\n",
            "Set z[0] using 0.0\n",
            "z_base is  [[0.0], [0.04]]\n",
            "Success!\n"
          ]
        },
        {
          "output_type": "execute_result",
          "data": {
            "text/plain": [
              "[0.0, 0.04]"
            ]
          },
          "metadata": {},
          "execution_count": 42
        }
      ]
    },
    {
      "cell_type": "code",
      "source": [],
      "metadata": {
        "id": "umsMJKGiJbXI"
      },
      "execution_count": 42,
      "outputs": []
    },
    {
      "cell_type": "markdown",
      "source": [
        "### Get base point for nodal reactive power"
      ],
      "metadata": {
        "id": "BkrXKKBedtDy"
      }
    },
    {
      "cell_type": "code",
      "source": [
        "def basePoint_for_nodalReactivePow(bus_name, z_nominal):\n",
        "    print('Linearize Q{}...'.format(bus_name))\n",
        "\n",
        "    print('An interior point is ', z_nominal.tolist())\n",
        "\n",
        "    bus_i = bus_to_numeric[bus_name]\n",
        "    print('bus_i:', bus_i)\n",
        "\n",
        "    q_min = np.squeeze(Qmin)\n",
        "    Qi_min = q_min[bus_i]\n",
        "    print('Qi_min:', Qi_min)\n",
        "\n",
        "    index_links_to_i = branch_df[(branch_df[\"fbus\"] == bus_name) | (branch_df[\"tbus\"] == bus_name)]['index'].to_numpy()\n",
        "    links_to_i = branch_df.loc[index_links_to_i, ['fbus', 'tbus']]\n",
        "\n",
        "    print('links connecting to bus_i:\\n', links_to_i)\n",
        "\n",
        "    for k in index_links_to_i:\n",
        "\n",
        "        print('Set z[{}] to be free'.format(k))\n",
        "        print('Solve quadratic equation to get z[{}]....'.format(k))\n",
        "\n",
        "        z_base = z_nominal.copy().reshape(-1,1)\n",
        "\n",
        "        params = dict()\n",
        "        params['a'] = B_r[bus_i, k]\n",
        "        params['b'] = G_r[bus_i, k]\n",
        "\n",
        "        remaining_cols = index_links_to_i.copy().tolist()\n",
        "        remaining_cols.remove(k)\n",
        "\n",
        "        if len(remaining_cols)==0: # this is a leaf node:\n",
        "            params['c'] = d_reactive[bus_i, 0] - Qi_min\n",
        "        else:\n",
        "            param_c = B_r[bus_i, remaining_cols] @ np.sqrt(1-z_base[remaining_cols,:]**2) +\\\n",
        "                            G_r[bus_i, remaining_cols] @ z_base[remaining_cols,:] + d_reactive[bus_i, :] - Qi_min\n",
        "            params['c'] = param_c[0]\n",
        "\n",
        "        roots, num_roots = root_of_quadratic_equation(params)\n",
        "        print('number of roots:', num_roots)\n",
        "        print('roots:', roots)\n",
        "\n",
        "        if num_roots == 1:\n",
        "            if roots[0]<=1 and roots[0]>=-1:\n",
        "                z_base = z_nominal.copy()\n",
        "                z_base[k] = roots[0]\n",
        "\n",
        "                print('Set z[{}] using {}'.format(k, roots[0]))\n",
        "                print('z_base is ', z_base.tolist())\n",
        "\n",
        "                if linearize_Qi(bus_i, z_base, z_nominal)>=Qi_min:\n",
        "\n",
        "                    print('Success!')\n",
        "\n",
        "                    return np.squeeze(z_base).tolist()\n",
        "\n",
        "        if num_roots == 2:\n",
        "\n",
        "            for root in roots:\n",
        "                if root<=1 and root>=-1:\n",
        "                    z_base = z_nominal.copy()\n",
        "                    z_base[k] = root\n",
        "\n",
        "                    print('Set z[{}] using {}'.format(k, root))\n",
        "                    print('z_base is ', z_base.tolist())\n",
        "\n",
        "                    # linearization = linearize_Qi(bus_i, z_base, z)\n",
        "\n",
        "                    # check if INTERIOR_Z is included in the restricted feasibility set\n",
        "                    # constructed by setting z_k free\n",
        "                    # if restricted_set_contains_z_int:\n",
        "\n",
        "                    if linearize_Qi(bus_i, z_base, z_nominal)>=Qi_min:\n",
        "\n",
        "                        print('Success!')\n",
        "\n",
        "                        return np.squeeze(z_base).tolist()\n",
        "\n",
        "                    print('Restricted set does not contain z_int. Try the other root.')\n",
        "\n",
        "\n",
        "        # if both roots are visied and neither works\n",
        "        # change to the other connected link\n",
        "\n",
        "    # if every path is tried and none of them works\n",
        "    # print('Is this possible?')\n",
        "    # sys.exit()\n",
        "\n",
        "    print('Ignore constraint Q{}>=Q{}_min'.format(bus_name, bus_name))\n",
        "\n",
        "    # return np.abs(Qi_min) + 0*z # this is equivalent to ignoring the constraint\n",
        "    return None # this is equivalent to ignoring the constraint\n"
      ],
      "metadata": {
        "id": "TYbm19-AdvCV"
      },
      "execution_count": 43,
      "outputs": []
    },
    {
      "cell_type": "code",
      "source": [
        "basePoint_for_nodalReactivePow(2, INTERIOR_Z)"
      ],
      "metadata": {
        "colab": {
          "base_uri": "https://localhost:8080/"
        },
        "id": "SmxwPuiE6uRm",
        "outputId": "24319bba-9ce7-44ef-cab2-1b626b9cb42a"
      },
      "execution_count": 44,
      "outputs": [
        {
          "output_type": "stream",
          "name": "stdout",
          "text": [
            "Linearize Q2...\n",
            "An interior point is  [[0.0], [0.04]]\n",
            "bus_i: 1\n",
            "Qi_min: 0.086\n",
            "links connecting to bus_i:\n",
            "    fbus  tbus\n",
            "0     1     2\n",
            "1     2     3\n",
            "Set z[0] to be free\n",
            "Solve quadratic equation to get z[0]....\n",
            "number of roots: 2\n",
            "roots: [-0.5283087461824775, 0.16111102121834647]\n",
            "Set z[0] using -0.5283087461824775\n",
            "z_base is  [[-0.5283087461824775], [0.04]]\n",
            "Restricted set does not contain z_int. Try the other root.\n",
            "Set z[0] using 0.16111102121834647\n",
            "z_base is  [[0.16111102121834647], [0.04]]\n",
            "Restricted set does not contain z_int. Try the other root.\n",
            "Set z[1] to be free\n",
            "Solve quadratic equation to get z[1]....\n",
            "number of roots: 2\n",
            "roots: [-0.022718202456251738, 0.4567922937487526]\n",
            "Set z[1] using -0.022718202456251738\n",
            "z_base is  [[0.0], [-0.022718202456251738]]\n",
            "Restricted set does not contain z_int. Try the other root.\n",
            "Set z[1] using 0.4567922937487526\n",
            "z_base is  [[0.0], [0.4567922937487526]]\n",
            "Restricted set does not contain z_int. Try the other root.\n",
            "Ignore constraint Q2>=Q2_min\n"
          ]
        }
      ]
    },
    {
      "cell_type": "code",
      "source": [],
      "metadata": {
        "id": "OtEhCtS6iS7G"
      },
      "execution_count": 44,
      "outputs": []
    },
    {
      "cell_type": "markdown",
      "source": [
        "### Linearization"
      ],
      "metadata": {
        "id": "HZnIHeXUvIf6"
      }
    },
    {
      "cell_type": "code",
      "source": [
        "all_bus_names = bus_df['bus'].to_numpy()\n",
        "print('all_bus_names:', all_bus_names)\n",
        "\n",
        "Pi_basePoints = dict()\n",
        "Qi_basePoints = dict()\n",
        "\n",
        "for bus_name in all_bus_names:\n",
        "    Pi_basePoints[bus_name] = basePoint_for_nodalActivePow(bus_name, INTERIOR_Z)\n",
        "    Qi_basePoints[bus_name] = basePoint_for_nodalReactivePow(bus_name, INTERIOR_Z)\n",
        "\n",
        "print('Pi_basePoints:', Pi_basePoints)\n",
        "print('Qi_basePoints:', Qi_basePoints)\n"
      ],
      "metadata": {
        "colab": {
          "base_uri": "https://localhost:8080/"
        },
        "id": "6nJEFcFviS9Y",
        "outputId": "c119d408-6199-4732-d758-84ccd4d1224d"
      },
      "execution_count": 47,
      "outputs": [
        {
          "output_type": "stream",
          "name": "stdout",
          "text": [
            "all_bus_names: [1 2 3]\n",
            "Linearize P1...\n",
            "An interior point is  [[0.0], [0.7033756162008385]]\n",
            "bus_i: 0\n",
            "Pi_min: 0.0\n",
            "links connecting to bus_i:\n",
            "    fbus  tbus\n",
            "0     1     2\n",
            "Set z[0] to be free\n",
            "Solve quadratic equation to get z[0]....\n",
            "number of roots: 1\n",
            "roots: [0.0]\n",
            "Set z[0] using 0.0\n",
            "z_base is  [[0.0], [0.7033756162008385]]\n",
            "Success!\n",
            "Linearize Q1...\n",
            "An interior point is  [[0.0], [0.7033756162008385]]\n",
            "bus_i: 0\n",
            "Qi_min: -3000.0\n",
            "links connecting to bus_i:\n",
            "    fbus  tbus\n",
            "0     1     2\n",
            "Set z[0] to be free\n",
            "Solve quadratic equation to get z[0]....\n",
            "number of roots: 0\n",
            "roots: None\n",
            "Ignore constraint Q1>=Q1_min\n",
            "Linearize P2...\n",
            "An interior point is  [[0.0], [0.7033756162008385]]\n",
            "bus_i: 1\n",
            "Pi_min: -10.0\n",
            "links connecting to bus_i:\n",
            "    fbus  tbus\n",
            "0     1     2\n",
            "1     2     3\n",
            "Set z[0] to be free\n",
            "Solve quadratic equation to get z[0]....\n",
            "number of roots: 0\n",
            "roots: None\n",
            "Set z[1] to be free\n",
            "Solve quadratic equation to get z[1]....\n",
            "number of roots: 1\n",
            "roots: [-0.7033756162008385]\n",
            "Set z[1] using -0.7033756162008385\n",
            "z_base is  [[0.0], [-0.7033756162008385]]\n",
            "Ignore constraint P2>=P2_min\n",
            "Linearize Q2...\n",
            "An interior point is  [[0.0], [-0.7033756162008385]]\n",
            "bus_i: 1\n",
            "Qi_min: 0.086\n",
            "links connecting to bus_i:\n",
            "    fbus  tbus\n",
            "0     1     2\n",
            "1     2     3\n",
            "Set z[0] to be free\n",
            "Solve quadratic equation to get z[0]....\n",
            "number of roots: 0\n",
            "roots: None\n",
            "Set z[1] to be free\n",
            "Solve quadratic equation to get z[1]....\n",
            "number of roots: 2\n",
            "roots: [-0.022718202456251738, 0.4567922937487526]\n",
            "Set z[1] using -0.022718202456251738\n",
            "z_base is  [[0.0], [-0.022718202456251738]]\n",
            "Success!\n",
            "Linearize P3...\n",
            "An interior point is  [[0.0], [-0.7033756162008385]]\n",
            "bus_i: 2\n",
            "Pi_min: -10.0\n",
            "links connecting to bus_i:\n",
            "    fbus  tbus\n",
            "1     2     3\n",
            "Set z[1] to be free\n",
            "Solve quadratic equation to get z[1]....\n",
            "number of roots: 1\n",
            "roots: [0.7033756162008385]\n",
            "Set z[1] using 0.7033756162008385\n",
            "z_base is  [[0.0], [0.7033756162008385]]\n",
            "Ignore constraint P3>=P3_min\n",
            "Linearize Q3...\n",
            "An interior point is  [[0.0], [0.7033756162008385]]\n",
            "bus_i: 2\n",
            "Qi_min: 0.05\n",
            "links connecting to bus_i:\n",
            "    fbus  tbus\n",
            "1     2     3\n",
            "Set z[1] to be free\n",
            "Solve quadratic equation to get z[1]....\n",
            "number of roots: 2\n",
            "roots: [-0.44854157246716986, 0.013466681174669093]\n",
            "Set z[1] using -0.44854157246716986\n",
            "z_base is  [[0.0], [-0.44854157246716986]]\n",
            "Restricted set does not contain z_int. Try the other root.\n",
            "Set z[1] using 0.013466681174669093\n",
            "z_base is  [[0.0], [0.013466681174669093]]\n",
            "Success!\n",
            "Pi_basePoints: {1: [0.0, 0.7033756162008385], 2: None, 3: None}\n",
            "Qi_basePoints: {1: None, 2: [0.0, -0.022718202456251738], 3: [0.0, 0.013466681174669093]}\n"
          ]
        }
      ]
    },
    {
      "cell_type": "code",
      "source": [],
      "metadata": {
        "id": "5V6H-89ciTAk"
      },
      "execution_count": 47,
      "outputs": []
    },
    {
      "cell_type": "markdown",
      "source": [
        "## -----------------"
      ],
      "metadata": {
        "id": "G0IQQuSb7Wxw"
      }
    },
    {
      "cell_type": "markdown",
      "source": [
        "## Solve by CVXPY"
      ],
      "metadata": {
        "id": "zwFoARN90qtv"
      }
    },
    {
      "cell_type": "code",
      "source": [
        "def our_method():\n",
        "\n",
        "    p_max = Pmax.reshape(-1, 1)\n",
        "    p_min = Pmin.reshape(-1, 1)\n",
        "    q_max = Qmax.reshape(-1, 1)\n",
        "    q_min = Qmin.reshape(-1, 1)\n",
        "\n",
        "    ## ------ CVXPY Environment: Define the problem ------ ##\n",
        "    # variables\n",
        "    # state = cp.Variable(shape=(2, 1), nonneg=True)\n",
        "    z = cp.Variable(shape=(num_branches, 1))\n",
        "\n",
        "    # expressions\n",
        "    p = cp_p_in_transformed_space(z)# active nodal power\n",
        "    q = cp_q_in_transformed_space(z)# reactive nodal power\n",
        "    # p_basePoint = get_p_basePoint()\n",
        "    # q_basePoint = get_q_basePoint()\n",
        "\n",
        "    # linearized_p = # linearize active nodal power function\n",
        "    # linearized_q = # linearize reactive nodal power function\n",
        "\n",
        "    # objective\n",
        "    # total_generation = cp.sum(p[gen_rows,:]) # sum of active nodal power at generators\n",
        "    total_losses = cp.sum(p) # total transmission losses\n",
        "\n",
        "    # constraints\n",
        "    constraints = [\n",
        "                    z >= -1,\n",
        "                    z <= 1,\n",
        "                    p <= p_max,\n",
        "                    q <= q_max\n",
        "    ]\n",
        "    # add linearized constraints\n",
        "    for bus_i, bus_name in enumerate(bus_lists):\n",
        "        # print('bus name is {}, index is {}'.format(bus_name, bus_i))\n",
        "        base_point = Pi_basePoints[bus_name]\n",
        "        if base_point is not None:\n",
        "            z_base = np.array(base_point).reshape(-1,1)\n",
        "            constraints += [linearize_Pi(bus_i, z_base, z)>=Pmin[bus_i]]\n",
        "\n",
        "    for bus_i, bus_name in enumerate(bus_lists):\n",
        "        base_point = Qi_basePoints[bus_name]\n",
        "        if base_point is not None:\n",
        "            z_base = np.array(base_point).reshape(-1,1)\n",
        "            constraints += [linearize_Qi(bus_i, z_base, z)>=Qmin[bus_i]]\n",
        "\n",
        "    problem = cp.Problem(cp.Minimize(total_losses), constraints)\n",
        "    # problem = cp.Problem(cp.Minimize(total_generation), constraints)\n",
        "\n",
        "    # problem.solve(ignore_dpp=True)\n",
        "\n",
        "    # Indicate the solver when solving the problem\n",
        "    solver = cp.CVXOPT  # Replace with the solver of your choice\n",
        "    problem.solve(solver=solver, ignore_dpp=True)\n",
        "\n",
        "    if problem.status in [\"infeasible\", \"unbounded\"]:\n",
        "        print(5*' ' +\"Model not solved to (sub)optimality using CVXPY!!!\")\n",
        "        print(5*' ' +\"Solver status: \", problem.status)\n",
        "        sys.exit(0)\n",
        "    z_solution  = z.value\n",
        "\n",
        "    print('Optimal z solution:\\n', z_solution)\n",
        "    phase_angle_solution = recover_phase_angle(z_solution)\n",
        "    # phase_diff_solution = np.arcsin(z_solution)\n",
        "\n",
        "    optimal_objective_value = total_losses.value\n",
        "    # optimal_objective_value = total_generation.value\n",
        "    print('Minimal total losses:\\n', optimal_objective_value)\n",
        "\n",
        "\n",
        "    p_solution = [round(x, 3) for x in np.squeeze(p.value)]\n",
        "    q_solution = [round(x, 3) for x in np.squeeze(q.value)]\n",
        "    print(bus_types)\n",
        "    print('p_max:\\n', np.squeeze(p_max))\n",
        "    print('p:\\n', p_solution)\n",
        "    print('p_min:\\n', np.squeeze(p_min))\n",
        "\n",
        "    print('q_max:\\n', np.squeeze(q_max))\n",
        "    print('q:\\n', q_solution)\n",
        "    print('q_min:\\n', np.squeeze(q_min))\n",
        "    # print('Optimal phase_angle_solution (radians):\\n', phase_angle_solution)\n",
        "\n",
        "\n",
        "    return np.squeeze(p_solution), np.squeeze(q_solution), np.squeeze(z_solution)\n"
      ],
      "metadata": {
        "id": "EU-ztnpc0Rao"
      },
      "execution_count": 48,
      "outputs": []
    },
    {
      "cell_type": "code",
      "source": [
        "p_solution, q_solution, z_solution = our_method()"
      ],
      "metadata": {
        "id": "p3msPVK10Rfz",
        "colab": {
          "base_uri": "https://localhost:8080/"
        },
        "outputId": "2fe7b3f4-fa14-40b8-edea-ae4ca8834183"
      },
      "execution_count": 49,
      "outputs": [
        {
          "output_type": "stream",
          "name": "stdout",
          "text": [
            "Optimal z solution:\n",
            " [[0.1491724 ]\n",
            " [0.01346689]]\n",
            "The edge is: [1 2], and the angle difference is: 0.14973125787358646\n",
            "The edge is: [2 3], and the angle difference is: 0.01346729336754951\n",
            "recovered values: {1: 0.0, 2: -0.14973125787358646, 3: -0.16319855124113597}\n",
            "Minimal total losses:\n",
            " 0.022171129442286053\n",
            "['slack', 'load', 'load']\n",
            "p_max:\n",
            " [ 5.0e+03 -1.2e-01 -6.8e-02]\n",
            "p:\n",
            " [0.728, -0.495, -0.211]\n",
            "p_min:\n",
            " [  0. -10. -10.]\n",
            "q_max:\n",
            " [3000.   10.   10.]\n",
            "q:\n",
            " [-0.09, 0.15, 0.05]\n",
            "q_min:\n",
            " [-3.0e+03  8.6e-02  5.0e-02]\n"
          ]
        }
      ]
    },
    {
      "cell_type": "code",
      "source": [
        "p_max = Pmax.reshape(-1, 1)\n",
        "p_min = Pmin.reshape(-1, 1)\n",
        "q_max = Qmax.reshape(-1, 1)\n",
        "q_min = Qmin.reshape(-1, 1)\n",
        "p_solution = np.array(p_solution).reshape(-1, 1)\n",
        "q_solution = np.array(q_solution).reshape(-1, 1)\n",
        "bus_types = np.array(bus_types).reshape(-1, 1)\n",
        "\n",
        "results = np.concatenate([bus_types, p_max, p_solution, p_min, q_max, q_solution, q_min], axis=1)\n",
        "column_names = ['bus_types', 'p_max', 'p_solution', 'p_min', 'q_max', 'q_solution', 'q_min']\n",
        "results_df = pd.DataFrame(results, columns=column_names)\n",
        "print(results_df)"
      ],
      "metadata": {
        "colab": {
          "base_uri": "https://localhost:8080/"
        },
        "id": "sgtwkG7codId",
        "outputId": "c4ad3e96-1af7-40f1-f2c6-bb27599a5041"
      },
      "execution_count": 50,
      "outputs": [
        {
          "output_type": "stream",
          "name": "stdout",
          "text": [
            "  bus_types   p_max p_solution  p_min   q_max q_solution    q_min\n",
            "0     slack  5000.0      0.728    0.0  3000.0      -0.09  -3000.0\n",
            "1      load   -0.12     -0.495  -10.0    10.0       0.15    0.086\n",
            "2      load  -0.068     -0.211  -10.0    10.0       0.05     0.05\n"
          ]
        }
      ]
    },
    {
      "cell_type": "code",
      "source": [],
      "metadata": {
        "id": "TVKQmKvfjD6o"
      },
      "execution_count": 50,
      "outputs": []
    },
    {
      "cell_type": "code",
      "source": [],
      "metadata": {
        "id": "GUTpQvccjD9L"
      },
      "execution_count": 50,
      "outputs": []
    },
    {
      "cell_type": "code",
      "source": [],
      "metadata": {
        "id": "zZXuVeHcjD_y"
      },
      "execution_count": 50,
      "outputs": []
    },
    {
      "cell_type": "code",
      "source": [],
      "metadata": {
        "id": "0GmHs9ZXjEFx"
      },
      "execution_count": 50,
      "outputs": []
    },
    {
      "cell_type": "markdown",
      "source": [
        "## Visualize base points"
      ],
      "metadata": {
        "id": "5JFYUNcdhwqV"
      }
    },
    {
      "cell_type": "code",
      "source": [
        "# Create a figure and axes objects\n",
        "z1_values = np.arange(-1, 1, 0.01)\n",
        "z2_values = np.arange(-1, 1, 0.01)\n",
        "Z1, Z2 = np.meshgrid(z1_values, z2_values)\n",
        "\n",
        "\n",
        "grids_for_P = dict()\n",
        "grids_for_Q = dict()\n",
        "for bus_name in all_bus_names:\n",
        "\n",
        "    bus_i = bus_to_numeric[bus_name]\n",
        "\n",
        "    Pi_grid = np.zeros_like(Z1)\n",
        "    Qi_grid = np.zeros_like(Z1)\n",
        "    for i in range(Z1.shape[0]):\n",
        "        for j in range(Z1.shape[1]):\n",
        "\n",
        "            z1 = Z1[i,j]\n",
        "            z2 = Z2[i,j]\n",
        "            z = np.array([z1, z2]).reshape(-1,1)\n",
        "\n",
        "            G_a_rowi = G_a[bus_i,:].reshape(1,-1)\n",
        "            B_a_rowi = B_a[bus_i,:].reshape(1,-1)\n",
        "\n",
        "            Pi_z = G_a_rowi @ np.sqrt(1-z**2) + B_a_rowi @ z + d_active[bus_i,0]\n",
        "            Pi_grid[i,j] = Pi_z[0,0]\n",
        "\n",
        "            B_r_rowi = B_r[bus_i,:].reshape(1,-1)\n",
        "            G_r_rowi = G_r[bus_i,:].reshape(1,-1)\n",
        "\n",
        "            Qi_z = B_r_rowi @ np.sqrt(1-z**2) + G_r_rowi @ z + d_reactive[bus_i,0]\n",
        "            Qi_grid[i,j] = Qi_z[0,0]\n",
        "\n",
        "    grids_for_P[bus_name] = Pi_grid\n",
        "    grids_for_Q[bus_name] = Qi_grid"
      ],
      "metadata": {
        "id": "q1VVfPTIhwqW"
      },
      "execution_count": 51,
      "outputs": []
    },
    {
      "cell_type": "code",
      "source": [
        "fig, ax1 = plt.subplots(ncols=1, figsize=(3, 3), sharey = True)\n",
        "\n",
        "# Plot the level sets\n",
        "contour1 = ax1.contour(Z1, Z2, grids_for_P[1]-Pmax[0], levels=[0], colors='red')\n",
        "contour2 = ax1.contour(Z1, Z2, grids_for_P[1]-Pmin[0], levels=[0], colors='green')\n",
        "contour3 = ax1.contour(Z1, Z2, grids_for_P[2]-Pmax[1], levels=[0], colors='orange')\n",
        "contour4 = ax1.contour(Z1, Z2, grids_for_P[2]-Pmin[1], levels=[0], colors='cyan')\n",
        "contour5 = ax1.contour(Z1, Z2, grids_for_P[3]-Pmax[2], levels=[0], colors='blue')\n",
        "contour6 = ax1.contour(Z1, Z2, grids_for_P[3]-Pmin[2], levels=[0], colors='grey')\n",
        "\n",
        "ax1.contourf(Z1, Z2, (grids_for_P[1]<=Pmax[0]) & (grids_for_P[1]>=Pmin[0]) & (grids_for_P[2]<=Pmax[1])\n",
        "                    & (grids_for_P[2]>=Pmin[1]) & (grids_for_P[3]<=Pmax[2]) & (grids_for_P[3]>=Pmin[2]), levels=[0.5, 2], cmap='GnBu', alpha=0.3)\n",
        "\n",
        "try:\n",
        "    ax1.clabel(contour1, contour1.levels, inline=True, fmt=r'$P_1^{\\max}$', fontsize=14, manual=[(-0.8, 0.8)])\n",
        "except:\n",
        "    pass\n",
        "ax1.clabel(contour2, contour2.levels, inline=True, fmt=r'$P_1^{\\min}$', fontsize=14, manual=[(0.5, 0.3)])\n",
        "ax1.clabel(contour3, contour3.levels, inline=True, fmt=r'$P_2^{\\max}$', fontsize=14, manual=[(-0.5, 0.3)])\n",
        "ax1.clabel(contour4, contour4.levels, inline=True, fmt=r'$P_2^{\\min}$', fontsize=14, manual=[(0.5, 0.3)])\n",
        "ax1.clabel(contour5, contour5.levels, inline=True, fmt=r'$P_3^{\\max}$', fontsize=14, manual=[(-0.5, 0.3)])\n",
        "ax1.clabel(contour6, contour6.levels, inline=True, fmt=r'$P_3^{\\min}$', fontsize=14, manual=[(0.5, 0.3)])\n",
        "\n",
        "for bus_i, bus_name in enumerate(bus_lists):\n",
        "        # print('bus name is {}, index is {}'.format(bus_name, bus_i))\n",
        "        base_point = Pi_basePoints[bus_name]\n",
        "        if base_point is not None:\n",
        "            zb_1 = base_point[0]\n",
        "            zb_2 = base_point[1]\n",
        "\n",
        "            ax1.scatter([zb_1], [zb_2], marker='x', color='red')\n",
        "\n",
        "ax1.scatter([INTERIOR_Z[0]], [INTERIOR_Z[1]], marker='.', color='green')\n",
        "ax1.scatter([z_solution[0]], [z_solution[1]], marker='*', color='red')\n",
        "\n",
        "plt.savefig(ourMethod_path+'proposed_search_P.png',\n",
        "            bbox_inches='tight', pad_inches = 0.5, dpi = 200)\n",
        "\n",
        "plt.show()"
      ],
      "metadata": {
        "colab": {
          "base_uri": "https://localhost:8080/",
          "height": 291
        },
        "outputId": "c6e8c000-cfef-488c-9ae9-9eb8f3fbae1f",
        "id": "_Y2nxBSThwqW"
      },
      "execution_count": 52,
      "outputs": [
        {
          "output_type": "display_data",
          "data": {
            "text/plain": [
              "<Figure size 300x300 with 1 Axes>"
            ],
            "image/png": "[encoded data removed]"
          },
          "metadata": {}
        }
      ]
    },
    {
      "cell_type": "code",
      "source": [
        "fig, ax1 = plt.subplots(ncols=1, figsize=(3, 3), sharey = True)\n",
        "\n",
        "# Plot the level sets\n",
        "contour1 = ax1.contour(Z1, Z2, grids_for_Q[1]-Qmax[0], levels=[0], colors='red')\n",
        "contour2 = ax1.contour(Z1, Z2, grids_for_Q[1]-Qmin[0], levels=[0], colors='green')\n",
        "contour3 = ax1.contour(Z1, Z2, grids_for_Q[2]-Qmax[1], levels=[0], colors='orange')\n",
        "contour4 = ax1.contour(Z1, Z2, grids_for_Q[2]-Qmin[1], levels=[0], colors='purple')\n",
        "contour5 = ax1.contour(Z1, Z2, grids_for_Q[3]-Qmax[2], levels=[0], colors='blue')\n",
        "contour6 = ax1.contour(Z1, Z2, grids_for_Q[3]-Qmin[2], levels=[0], colors='grey')\n",
        "\n",
        "ax1.contourf(Z1, Z2, (grids_for_Q[1]<=Qmax[0]) & (grids_for_Q[1]>=Qmin[0]) & (grids_for_Q[2]<=Qmax[1])\n",
        "                    & (grids_for_Q[2]>=Qmin[1]) & (grids_for_Q[3]<=Qmax[2]) & (grids_for_Q[3]>=Qmin[2]), levels=[0.5, 2], cmap='GnBu', alpha=0.3)\n",
        "\n",
        "try:\n",
        "    ax1.clabel(contour1, contour1.levels, inline=True, fmt=r'$P_1^{\\max}$', fontsize=14, manual=[(-0.8, 0.8)])\n",
        "except:\n",
        "    pass\n",
        "try:\n",
        "    ax1.clabel(contour2, contour2.levels, inline=True, fmt=r'$Q_1^{\\min}$', fontsize=14, manual=[(0.5, 0.3)])\n",
        "except:\n",
        "    pass\n",
        "ax1.clabel(contour3, contour3.levels, inline=True, fmt=r'$Q_2^{\\max}$', fontsize=14, manual=[(-0.5, 0.3)])\n",
        "ax1.clabel(contour4, contour4.levels, inline=True, fmt=r'$Q_2^{\\min}$', fontsize=14, manual=[(-0.5, 0.3)])\n",
        "ax1.clabel(contour5, contour5.levels, inline=True, fmt=r'$Q_3^{\\max}$', fontsize=14, manual=[(-0.5, 0.3)])\n",
        "ax1.clabel(contour6, contour6.levels, inline=True, fmt=r'$Q_3^{\\min}$', fontsize=14, manual=[(-0.5, 0.3)])\n",
        "\n",
        "for bus_i, bus_name in enumerate(bus_lists):\n",
        "        # print('bus name is {}, index is {}'.format(bus_name, bus_i))\n",
        "        base_point = Qi_basePoints[bus_name]\n",
        "        if base_point is not None:\n",
        "            zb_1 = base_point[0]\n",
        "            zb_2 = base_point[1]\n",
        "\n",
        "            ax1.scatter([zb_1], [zb_2], marker='x', color='red')\n",
        "\n",
        "ax1.scatter([INTERIOR_Z[0]], [INTERIOR_Z[1]], marker='.', color='green')\n",
        "ax1.scatter([z_solution[0]], [z_solution[1]], marker='*', color='red')\n",
        "\n",
        "plt.savefig(ourMethod_path+'proposed_search_Q',\n",
        "            bbox_inches='tight', pad_inches = 0.5, dpi = 200)\n",
        "\n",
        "\n",
        "plt.show()"
      ],
      "metadata": {
        "colab": {
          "base_uri": "https://localhost:8080/",
          "height": 291
        },
        "outputId": "230171e4-0bfe-4da4-b6b2-babe49433b93",
        "id": "B8LauSs8hwqW"
      },
      "execution_count": 53,
      "outputs": [
        {
          "output_type": "display_data",
          "data": {
            "text/plain": [
              "<Figure size 300x300 with 1 Axes>"
            ],
            "image/png": "[encoded data removed]"
          },
          "metadata": {}
        }
      ]
    },
    {
      "cell_type": "code",
      "source": [
        "fig, ax1 = plt.subplots(ncols=1, figsize=(3, 3), sharey = True)\n",
        "\n",
        "# Plot the level sets\n",
        "contourQ1 = ax1.contour(Z1, Z2, grids_for_Q[1]-Qmax[0], levels=[0], colors='red')\n",
        "contourQ2 = ax1.contour(Z1, Z2, grids_for_Q[1]-Qmin[0], levels=[0], colors='green')\n",
        "contourQ3 = ax1.contour(Z1, Z2, grids_for_Q[2]-Qmax[1], levels=[0], colors='orange')\n",
        "contourQ4 = ax1.contour(Z1, Z2, grids_for_Q[2]-Qmin[1], levels=[0], colors='purple')\n",
        "contourQ5 = ax1.contour(Z1, Z2, grids_for_Q[3]-Qmax[2], levels=[0], colors='blue')\n",
        "contourQ6 = ax1.contour(Z1, Z2, grids_for_Q[3]-Qmin[2], levels=[0], colors='grey')\n",
        "\n",
        "contourP1 = ax1.contour(Z1, Z2, grids_for_P[1]-Pmax[0], levels=[0], colors='red')\n",
        "contourP2 = ax1.contour(Z1, Z2, grids_for_P[1]-Pmin[0], levels=[0], colors='green')\n",
        "contourP3 = ax1.contour(Z1, Z2, grids_for_P[2]-Pmax[1], levels=[0], colors='orange')\n",
        "contourP4 = ax1.contour(Z1, Z2, grids_for_P[2]-Pmin[1], levels=[0], colors='cyan')\n",
        "contourP5 = ax1.contour(Z1, Z2, grids_for_P[3]-Pmax[2], levels=[0], colors='blue')\n",
        "contourP6 = ax1.contour(Z1, Z2, grids_for_P[3]-Pmin[2], levels=[0], colors='grey')\n",
        "\n",
        "ax1.contourf(Z1, Z2, (grids_for_P[1]<=Pmax[0]) & (grids_for_P[1]>=Pmin[0]) & (grids_for_P[2]<=Pmax[1])\n",
        "                    & (grids_for_P[2]>=Pmin[1]) & (grids_for_P[3]<=Pmax[2]) & (grids_for_P[3]>=Pmin[2]), levels=[0.5, 2], cmap='GnBu', alpha=0.3)\n",
        "\n",
        "ax1.contourf(Z1, Z2, (grids_for_Q[1]<=Qmax[0]) & (grids_for_Q[1]>=Qmin[0]) & (grids_for_Q[2]<=Qmax[1])\n",
        "                    & (grids_for_Q[2]>=Qmin[1]) & (grids_for_Q[3]<=Qmax[2]) & (grids_for_Q[3]>=Qmin[2]), levels=[0.5, 2], cmap='GnBu', alpha=0.3)\n",
        "\n",
        "\n",
        "for bus_i, bus_name in enumerate(bus_lists):\n",
        "        # print('bus name is {}, index is {}'.format(bus_name, bus_i))\n",
        "        base_point = Qi_basePoints[bus_name]\n",
        "        if base_point is not None:\n",
        "            zb_1 = base_point[0]\n",
        "            zb_2 = base_point[1]\n",
        "\n",
        "            ax1.scatter([zb_1], [zb_2], marker='x', color='black')\n",
        "\n",
        "        base_point = Pi_basePoints[bus_name]\n",
        "        if base_point is not None:\n",
        "            zb_1 = base_point[0]\n",
        "            zb_2 = base_point[1]\n",
        "\n",
        "            ax1.scatter([zb_1], [zb_2], marker='x', color='black')\n",
        "\n",
        "ax1.scatter([INTERIOR_Z[0]], [INTERIOR_Z[1]], marker='.', color='brown')\n",
        "ax1.scatter([z_solution[0]], [z_solution[1]], marker='*', color='red')\n",
        "\n",
        "plt.savefig(ourMethod_path+'proposed_search_joint.png',\n",
        "            bbox_inches='tight', pad_inches = 0.5, dpi = 200)\n",
        "\n",
        "plt.show()"
      ],
      "metadata": {
        "colab": {
          "base_uri": "https://localhost:8080/",
          "height": 291
        },
        "id": "o4B9cyNqiZ0p",
        "outputId": "74482e29-4b2a-4caa-ea0b-c3720addae1f"
      },
      "execution_count": 54,
      "outputs": [
        {
          "output_type": "display_data",
          "data": {
            "text/plain": [
              "<Figure size 300x300 with 1 Axes>"
            ],
            "image/png": "[encoded data removed]"
          },
          "metadata": {}
        }
      ]
    },
    {
      "cell_type": "markdown",
      "source": [
        "# Newton Raphson method"
      ],
      "metadata": {
        "id": "d-kob7B9p5E9"
      }
    },
    {
      "cell_type": "code",
      "source": [
        "# see matlab"
      ],
      "metadata": {
        "id": "L_delDm7p9WI"
      },
      "execution_count": 55,
      "outputs": []
    },
    {
      "cell_type": "markdown",
      "source": [
        "# SOCP"
      ],
      "metadata": {
        "id": "y2Hdg3qnp9db"
      }
    },
    {
      "cell_type": "code",
      "source": [],
      "metadata": {
        "id": "AP4jEOGFp-nY"
      },
      "execution_count": 55,
      "outputs": []
    },
    {
      "cell_type": "code",
      "source": [],
      "metadata": {
        "id": "HYtGsfYIp-p9"
      },
      "execution_count": 55,
      "outputs": []
    },
    {
      "cell_type": "code",
      "source": [],
      "metadata": {
        "id": "eHNMRV6tp-s2"
      },
      "execution_count": 55,
      "outputs": []
    },
    {
      "cell_type": "code",
      "source": [],
      "metadata": {
        "id": "ZBF2HUwSp-vh"
      },
      "execution_count": 55,
      "outputs": []
    }
  ]
}